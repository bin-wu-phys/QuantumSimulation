{
 "cells": [
  {
   "cell_type": "code",
   "execution_count": 1,
   "id": "12666500-cd0e-428a-b31b-9e95d578c171",
   "metadata": {},
   "outputs": [],
   "source": [
    "import numpy as np\n",
    "import matplotlib.pyplot as plt"
   ]
  },
  {
   "cell_type": "code",
   "execution_count": 2,
   "id": "6c7315aa-a357-4a5a-849c-3dd9f434cbbb",
   "metadata": {},
   "outputs": [],
   "source": [
    "L = 6.0\n",
    "def phat(N):\n",
    "    phat = np.zeros([N,N], complex)\n",
    "    dx = 6.0/N\n",
    "    for k in range(N):\n",
    "        p = 2.0*np.pi*(-0.5*N + k)/4.0\n",
    "        pk = np.array([ np.exp(1.0j*2.0*np.pi*(-0.5*N + k)*(-0.5*N + i)/N) for i in range(N)])/np.sqrt(N)\n",
    "        phat += p*np.kron(pk.reshape([N,1]), np.conj(pk))\n",
    "    return phat\n",
    "\n",
    "def xhat(N):\n",
    "    dx = 4.0/N\n",
    "    xs = [(-0.5*N + i)*dx for i in range(N)]\n",
    "    return np.diag(xs)"
   ]
  },
  {
   "cell_type": "code",
   "execution_count": 10,
   "id": "97e51baf-05f1-4118-9931-fda01454f2b0",
   "metadata": {},
   "outputs": [],
   "source": [
    "pm = phat(4)\n",
    "xm = xhat(4)"
   ]
  },
  {
   "cell_type": "code",
   "execution_count": 15,
   "id": "b3c449be-1119-4452-b788-9a5b46ad39d3",
   "metadata": {},
   "outputs": [],
   "source": [
    "H = 0.5*(pm@pm+xm@xm)"
   ]
  },
  {
   "cell_type": "code",
   "execution_count": 16,
   "id": "876e0eba-3f13-4182-9060-d24e2947b2e5",
   "metadata": {},
   "outputs": [],
   "source": [
    "eigenvalues, eigenvectors = np.linalg.eig(H)"
   ]
  },
  {
   "cell_type": "code",
   "execution_count": 17,
   "id": "be1ee040-a060-4add-be13-370bef972cd9",
   "metadata": {},
   "outputs": [],
   "source": [
    "eigenvalues.sort()"
   ]
  },
  {
   "cell_type": "code",
   "execution_count": 18,
   "id": "a9b866d2-88d3-44fe-ab15-e2349cc99440",
   "metadata": {},
   "outputs": [
    {
     "data": {
      "text/plain": [
       "array([0.46679843-1.3780780e-32j, 1.73370055+0.0000000e+00j,\n",
       "       2.34842291+1.4025793e-32j, 5.85328141-2.4501298e-34j])"
      ]
     },
     "execution_count": 18,
     "metadata": {},
     "output_type": "execute_result"
    }
   ],
   "source": [
    "eigenvalues"
   ]
  },
  {
   "cell_type": "code",
   "execution_count": null,
   "id": "c6ce59e3-2b5c-4bc3-a632-5c31c0f57977",
   "metadata": {},
   "outputs": [],
   "source": []
  }
 ],
 "metadata": {
  "kernelspec": {
   "display_name": "Python 3 (ipykernel)",
   "language": "python",
   "name": "python3"
  },
  "language_info": {
   "codemirror_mode": {
    "name": "ipython",
    "version": 3
   },
   "file_extension": ".py",
   "mimetype": "text/x-python",
   "name": "python",
   "nbconvert_exporter": "python",
   "pygments_lexer": "ipython3",
   "version": "3.12.7"
  }
 },
 "nbformat": 4,
 "nbformat_minor": 5
}
