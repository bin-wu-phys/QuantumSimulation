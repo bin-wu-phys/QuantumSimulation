{
 "cells": [
  {
   "cell_type": "code",
   "execution_count": 1,
   "id": "12666500-cd0e-428a-b31b-9e95d578c171",
   "metadata": {},
   "outputs": [],
   "source": [
    "import numpy as np\n",
    "import matplotlib.pyplot as plt"
   ]
  },
  {
   "cell_type": "markdown",
   "id": "6e555f6f-d75e-441e-908d-fcc87ed5d0a4",
   "metadata": {},
   "source": [
    "# Example 3.3\n",
    "\n",
    "Let us choose $n=3$ and $\\Delta x = 1$. Then,\n",
    "\n",
    "\\begin{align}\n",
    "    \\hat{x}^2 = \\frac{63}{12} + \\mathbb{1}\\otimes Z \\otimes Z  + 2 Z \\otimes \\mathbb{1} \\otimes Z  + 4 Z \\otimes Z \\otimes \\mathbb{1},\n",
    "\\end{align}\n",
    "\n",
    "and the evolution operator\n",
    "\n",
    "\\begin{align}\n",
    "    \\hat{U}(t)\\equiv e^{-\\frac{i}{2}\\hat{x}^2 t} = e^{-i\\frac{63}{24}t}\n",
    "    e^{-\\frac{i}{2}t\\mathbb{1}\\otimes Z \\otimes Z}\n",
    "    e^{-\\frac{i}{2}2tZ \\otimes \\mathbb{1} \\otimes Z}\n",
    "    e^{-\\frac{i}{2}4tZ \\otimes Z \\otimes \\mathbb{1}}.\n",
    "\\end{align}"
   ]
  },
  {
   "cell_type": "code",
   "execution_count": 6,
   "id": "4d17e704-f219-4d8a-823d-8e3c36eef5b6",
   "metadata": {},
   "outputs": [],
   "source": [
    "from qiskit import *\n",
    "from qiskit.visualization import *\n",
    "from qiskit.quantum_info import Operator\n",
    "import numpy as np\n",
    "import matplotlib.pyplot as plt\n",
    "from scipy.linalg import expm\n"
   ]
  },
  {
   "cell_type": "markdown",
   "id": "41c2ce07-07d0-4eca-83f6-818dbb0a8990",
   "metadata": {},
   "source": [
    "## Direct exponentiation"
   ]
  },
  {
   "cell_type": "code",
   "execution_count": 37,
   "id": "fe4b4c38-4d1a-4be7-906f-21437a0bdfea",
   "metadata": {},
   "outputs": [],
   "source": [
    "def xhat(N, dx):\n",
    "    xs = [(-0.5*(N-1) + i)*dx for i in range(N)]\n",
    "    return np.diag(xs)\n",
    "    \n",
    "def phat(N, dx):\n",
    "    phat = np.zeros([N,N], complex)\n",
    "    for k in range(N):\n",
    "        p = 2.0*np.pi*(-0.5*(N-1) + k)/(N*dx)\n",
    "        pk = np.array([ np.exp(1.0j*2.0*np.pi*(-0.5*(N-1) + k)*(-0.5*(N-1) + i)/N) for i in range(N)])/np.sqrt(N)\n",
    "        phat += p*np.kron(pk.reshape([N,1]), np.conj(pk))\n",
    "    return phat"
   ]
  },
  {
   "cell_type": "code",
   "execution_count": 64,
   "id": "9e9446f3-c4c3-4abb-a4d6-de19d07757a4",
   "metadata": {},
   "outputs": [
    {
     "data": {
      "text/plain": [
       "array([[-3.5,  0. ,  0. ,  0. ,  0. ,  0. ,  0. ,  0. ],\n",
       "       [ 0. , -2.5,  0. ,  0. ,  0. ,  0. ,  0. ,  0. ],\n",
       "       [ 0. ,  0. , -1.5,  0. ,  0. ,  0. ,  0. ,  0. ],\n",
       "       [ 0. ,  0. ,  0. , -0.5,  0. ,  0. ,  0. ,  0. ],\n",
       "       [ 0. ,  0. ,  0. ,  0. ,  0.5,  0. ,  0. ,  0. ],\n",
       "       [ 0. ,  0. ,  0. ,  0. ,  0. ,  1.5,  0. ,  0. ],\n",
       "       [ 0. ,  0. ,  0. ,  0. ,  0. ,  0. ,  2.5,  0. ],\n",
       "       [ 0. ,  0. ,  0. ,  0. ,  0. ,  0. ,  0. ,  3.5]])"
      ]
     },
     "execution_count": 64,
     "metadata": {},
     "output_type": "execute_result"
    }
   ],
   "source": [
    "xhat(L, 1)"
   ]
  },
  {
   "cell_type": "code",
   "execution_count": 8,
   "id": "5487230b-af70-4846-bd97-55eea7474891",
   "metadata": {},
   "outputs": [
    {
     "data": {
      "text/plain": [
       "array([[ 0.98751477+0.15752643j,  0.        +0.j        ,\n",
       "         0.        +0.j        ,  0.        +0.j        ,\n",
       "         0.        +0.j        ,  0.        +0.j        ,\n",
       "         0.        +0.j        ,  0.        +0.j        ],\n",
       "       [ 0.        +0.j        , -0.99986235-0.01659189j,\n",
       "         0.        +0.j        ,  0.        +0.j        ,\n",
       "         0.        +0.j        ,  0.        +0.j        ,\n",
       "         0.        +0.j        ,  0.        +0.j        ],\n",
       "       [ 0.        +0.j        ,  0.        +0.j        ,\n",
       "         0.43117652-0.90226759j,  0.        +0.j        ,\n",
       "         0.        +0.j        ,  0.        +0.j        ,\n",
       "         0.        +0.j        ,  0.        +0.j        ],\n",
       "       [ 0.        +0.j        ,  0.        +0.j        ,\n",
       "         0.        +0.j        ,  0.99219767-0.12467473j,\n",
       "         0.        +0.j        ,  0.        +0.j        ,\n",
       "         0.        +0.j        ,  0.        +0.j        ],\n",
       "       [ 0.        +0.j        ,  0.        +0.j        ,\n",
       "         0.        +0.j        ,  0.        +0.j        ,\n",
       "         0.99219767-0.12467473j,  0.        +0.j        ,\n",
       "         0.        +0.j        ,  0.        +0.j        ],\n",
       "       [ 0.        +0.j        ,  0.        +0.j        ,\n",
       "         0.        +0.j        ,  0.        +0.j        ,\n",
       "         0.        +0.j        ,  0.43117652-0.90226759j,\n",
       "         0.        +0.j        ,  0.        +0.j        ],\n",
       "       [ 0.        +0.j        ,  0.        +0.j        ,\n",
       "         0.        +0.j        ,  0.        +0.j        ,\n",
       "         0.        +0.j        ,  0.        +0.j        ,\n",
       "        -0.99986235-0.01659189j,  0.        +0.j        ],\n",
       "       [ 0.        +0.j        ,  0.        +0.j        ,\n",
       "         0.        +0.j        ,  0.        +0.j        ,\n",
       "         0.        +0.j        ,  0.        +0.j        ,\n",
       "         0.        +0.j        ,  0.98751477+0.15752643j]])"
      ]
     },
     "execution_count": 8,
     "metadata": {},
     "output_type": "execute_result"
    }
   ],
   "source": [
    "L = 8\n",
    "Ud = expm(-0.5j*xhat(L, 1)@xhat(L, 1))\n",
    "Ud"
   ]
  },
  {
   "cell_type": "markdown",
   "id": "eb7c323c-ca95-4c7e-8b34-d6deffac7331",
   "metadata": {},
   "source": [
    "## Circuit"
   ]
  },
  {
   "cell_type": "code",
   "execution_count": 9,
   "id": "cc0396cd-f91d-4e0b-9cd8-e68c35198ef9",
   "metadata": {},
   "outputs": [],
   "source": [
    "def ZZ_decomp(th):\n",
    "    \"\"\"\n",
    "    Implements the unitary U = exp(-0.5i * th * Z ⊗ Z).\n",
    "    \n",
    "    Parameters:\n",
    "        th (float): The rotation angle θ.\n",
    "    \n",
    "    Returns:\n",
    "        QuantumCircuit: The 2-qubit quantum circuit implementing the unitary.\n",
    "    \"\"\"\n",
    "    # Create a 2-qubit quantum circuit with a custom name\n",
    "    zz = QuantumCircuit(2, name=r'$e^{-\\frac{i}{2}t Z\\otimes Z}$')\n",
    "    \n",
    "    # Apply the decomposition\n",
    "    zz.cx(1, 0)\n",
    "    zz.rz(th, 0)  # Apply RZ gate with angle θ\n",
    "    zz.cx(1, 0)\n",
    "    \n",
    "    return zz"
   ]
  },
  {
   "cell_type": "code",
   "execution_count": 10,
   "id": "abdd4a18-9010-4646-942e-fef3ab50ea7c",
   "metadata": {},
   "outputs": [
    {
     "data": {
      "image/png": "[encoded data removed]",
      "text/plain": [
       "<Figure size 370.906x200.667 with 1 Axes>"
      ]
     },
     "execution_count": 10,
     "metadata": {},
     "output_type": "execute_result"
    }
   ],
   "source": [
    "ZZ_decomp(0.5).draw('mpl')"
   ]
  },
  {
   "cell_type": "code",
   "execution_count": 11,
   "id": "b506f61d-60de-4a27-8ba0-264ae24aee0a",
   "metadata": {},
   "outputs": [
    {
     "data": {
      "image/png": "[encoded data removed]",
      "text/plain": [
       "<Figure size 872.774x284.278 with 1 Axes>"
      ]
     },
     "execution_count": 11,
     "metadata": {},
     "output_type": "execute_result"
    }
   ],
   "source": [
    "th = 1.0\n",
    "n = 3\n",
    "qc = QuantumCircuit(n)\n",
    "qc.global_phase = -(4**n-1.0)/24.0\n",
    "\n",
    "# Apply the decomposition\n",
    "qc.cx(1, 0)\n",
    "qc.rz(th, 0)  # Apply RZ gate with angle θ\n",
    "qc.cx(1, 0)\n",
    "\n",
    "qc.cx(2, 0)\n",
    "qc.rz(2.0*th, 0)  # Apply RZ gate with angle θ\n",
    "qc.cx(2, 0)\n",
    "\n",
    "qc.cx(2, 1)\n",
    "qc.rz(4.0*th, 1)  # Apply RZ gate with angle θ\n",
    "qc.cx(2, 1)\n",
    "\n",
    "qc.draw('mpl')"
   ]
  },
  {
   "cell_type": "code",
   "execution_count": 6,
   "id": "b50ea2a9-e91c-4314-876a-3f400fd60ee8",
   "metadata": {},
   "outputs": [],
   "source": [
    "qc.draw('mpl').savefig(\"circuit_x2.pdf\")"
   ]
  },
  {
   "cell_type": "code",
   "execution_count": 12,
   "id": "f5b82cc5-0a37-4204-a432-b690036639a0",
   "metadata": {},
   "outputs": [
    {
     "data": {
      "text/plain": [
       "array([[ True,  True,  True,  True,  True,  True,  True,  True],\n",
       "       [ True,  True,  True,  True,  True,  True,  True,  True],\n",
       "       [ True,  True,  True,  True,  True,  True,  True,  True],\n",
       "       [ True,  True,  True,  True,  True,  True,  True,  True],\n",
       "       [ True,  True,  True,  True,  True,  True,  True,  True],\n",
       "       [ True,  True,  True,  True,  True,  True,  True,  True],\n",
       "       [ True,  True,  True,  True,  True,  True,  True,  True],\n",
       "       [ True,  True,  True,  True,  True,  True,  True,  True]])"
      ]
     },
     "execution_count": 12,
     "metadata": {},
     "output_type": "execute_result"
    }
   ],
   "source": [
    "np.abs(Operator(qc).data - Ud)< 1e-15"
   ]
  },
  {
   "cell_type": "markdown",
   "id": "976c30b4-61d3-4f74-ba89-4eb2aa771302",
   "metadata": {},
   "source": [
    "Checked!"
   ]
  },
  {
   "cell_type": "markdown",
   "id": "c7dde531-4ce2-4d02-87b7-fdac3b84212e",
   "metadata": {},
   "source": [
    "# Exmaple 3.4"
   ]
  },
  {
   "cell_type": "code",
   "execution_count": 38,
   "id": "4376f47d-4f14-484d-9d29-53cc0f96ca8b",
   "metadata": {},
   "outputs": [
    {
     "data": {
      "text/plain": [
       "array([[0.43117652-0.90226759j, 0.        +0.j        ,\n",
       "        0.        +0.j        , 0.        +0.j        ],\n",
       "       [0.        +0.j        , 0.99219767-0.12467473j,\n",
       "        0.        +0.j        , 0.        +0.j        ],\n",
       "       [0.        +0.j        , 0.        +0.j        ,\n",
       "        0.99219767-0.12467473j, 0.        +0.j        ],\n",
       "       [0.        +0.j        , 0.        +0.j        ,\n",
       "        0.        +0.j        , 0.43117652-0.90226759j]])"
      ]
     },
     "execution_count": 38,
     "metadata": {},
     "output_type": "execute_result"
    }
   ],
   "source": [
    "L = 4 # 2^n\n",
    "th = 1.0\n",
    "\n",
    "Ud = expm(-0.5j*th*xhat(L, 1)@xhat(L, 1))\n",
    "Ukin = expm(-0.5j*th*phat(L, 1)@phat(L, 1))\n",
    "Ud"
   ]
  },
  {
   "cell_type": "code",
   "execution_count": 24,
   "id": "692cdd78-cab7-47ed-9444-fa59449666f0",
   "metadata": {},
   "outputs": [
    {
     "data": {
      "image/png": "[encoded data removed]",
      "text/plain": [
       "<Figure size 370.906x200.667 with 1 Axes>"
      ]
     },
     "execution_count": 24,
     "metadata": {},
     "output_type": "execute_result"
    }
   ],
   "source": [
    "n = 2\n",
    "qc = QuantumCircuit(n)\n",
    "qc.global_phase = -(4**n-1.0)/24.0\n",
    "\n",
    "# Apply the decomposition\n",
    "qc.cx(1, 0)\n",
    "qc.rz(th, 0)  # Apply RZ gate with angle θ\n",
    "qc.cx(1, 0)\n",
    "\n",
    "qc.draw('mpl')"
   ]
  },
  {
   "cell_type": "code",
   "execution_count": 14,
   "id": "da1e6fd2-6489-4e9e-9968-ced14ddd3907",
   "metadata": {},
   "outputs": [
    {
     "data": {
      "text/plain": [
       "array([[ True,  True,  True,  True],\n",
       "       [ True,  True,  True,  True],\n",
       "       [ True,  True,  True,  True],\n",
       "       [ True,  True,  True,  True]])"
      ]
     },
     "execution_count": 14,
     "metadata": {},
     "output_type": "execute_result"
    }
   ],
   "source": [
    "np.abs(Operator(qc).data - Ud)< 1e-15"
   ]
  },
  {
   "cell_type": "code",
   "execution_count": 16,
   "id": "35dbcf61-ed0f-44ea-9886-5c8b8744ab64",
   "metadata": {},
   "outputs": [],
   "source": [
    "def UQFT():\n",
    "    qc = QuantumCircuit(2, name='QFT')\n",
    "\n",
    "    qc.h(1)\n",
    "    qc.cs(0,1)\n",
    "    qc.h(0)\n",
    "    qc.swap(0,1)\n",
    "    display(qc.draw('mpl'))\n",
    "\n",
    "    return qc.to_instruction()"
   ]
  },
  {
   "cell_type": "code",
   "execution_count": 17,
   "id": "f11f6233-0f1a-466f-93cf-995fcde4ef72",
   "metadata": {},
   "outputs": [
    {
     "name": "stderr",
     "output_type": "stream",
     "text": [
      "<>:2: SyntaxWarning: invalid escape sequence '\\d'\n",
      "<>:2: SyntaxWarning: invalid escape sequence '\\d'\n",
      "/tmp/ipykernel_4249/1400490520.py:2: SyntaxWarning: invalid escape sequence '\\d'\n",
      "  \"\"\"\n"
     ]
    }
   ],
   "source": [
    "def UQFTd():\n",
    "    \"\"\"\n",
    "    UQFT^\\dagger\n",
    "    \"\"\"\n",
    "    qc = QuantumCircuit(2, name='QFT^+')\n",
    "\n",
    "    qc.swap(0,1)\n",
    "    qc.h(0)\n",
    "    qc.cs(0,1)\n",
    "    qc.cz(0,1)\n",
    "    qc.h(1)\n",
    "\n",
    "    display(qc.draw('mpl'))\n",
    "\n",
    "    return qc.to_instruction()"
   ]
  },
  {
   "cell_type": "code",
   "execution_count": 20,
   "id": "082d6d75-b227-4b21-bb56-90aa78f3f407",
   "metadata": {},
   "outputs": [
    {
     "data": {
      "image/png": "[encoded data removed]",
      "text/plain": [
       "<Figure size 454.517x200.667 with 1 Axes>"
      ]
     },
     "metadata": {},
     "output_type": "display_data"
    },
    {
     "data": {
      "image/png": "[encoded data removed]",
      "text/plain": [
       "<Figure size 538.128x200.667 with 1 Axes>"
      ]
     },
     "metadata": {},
     "output_type": "display_data"
    },
    {
     "data": {
      "image/png": "[encoded data removed]",
      "text/plain": [
       "<Figure size 203.683x200.667 with 1 Axes>"
      ]
     },
     "execution_count": 20,
     "metadata": {},
     "output_type": "execute_result"
    }
   ],
   "source": [
    "qc = QuantumCircuit(2)\n",
    "qft = UQFT()\n",
    "qftd = UQFTd()\n",
    "\n",
    "qc.append(qft, [0, 1])\n",
    "#qc.append(qftd, [0, 1])\n",
    "\n",
    "\n",
    "qc.draw('mpl')"
   ]
  },
  {
   "cell_type": "code",
   "execution_count": 21,
   "id": "682483e6-8b21-44a1-ac56-877e55391d99",
   "metadata": {},
   "outputs": [
    {
     "name": "stdout",
     "output_type": "stream",
     "text": [
      "Operator([[ 0.5+0.j ,  0.5+0.j ,  0.5+0.j ,  0.5+0.j ],\n",
      "          [ 0.5+0.j ,  0. +0.5j, -0.5+0.j ,  0. -0.5j],\n",
      "          [ 0.5+0.j , -0.5+0.j ,  0.5+0.j , -0.5+0.j ],\n",
      "          [ 0.5+0.j ,  0. -0.5j, -0.5+0.j ,  0. +0.5j]],\n",
      "         input_dims=(2, 2), output_dims=(2, 2))\n"
     ]
    }
   ],
   "source": [
    "Operator(qc)"
   ]
  },
  {
   "cell_type": "code",
   "execution_count": 55,
   "id": "50b4c833-de69-4678-840f-4a9418e3de1f",
   "metadata": {},
   "outputs": [
    {
     "data": {
      "image/png": "[encoded data removed]",
      "text/plain": [
       "<Figure size 538.128x200.667 with 1 Axes>"
      ]
     },
     "metadata": {},
     "output_type": "display_data"
    },
    {
     "data": {
      "image/png": "[encoded data removed]",
      "text/plain": [
       "<Figure size 454.517x200.667 with 1 Axes>"
      ]
     },
     "metadata": {},
     "output_type": "display_data"
    },
    {
     "data": {
      "image/png": "[encoded data removed]",
      "text/plain": [
       "<Figure size 956.183x200.667 with 1 Axes>"
      ]
     },
     "execution_count": 55,
     "metadata": {},
     "output_type": "execute_result"
    }
   ],
   "source": [
    "n = 2\n",
    "th = 1.0\n",
    "L = 2**n\n",
    "delta = np.pi*(L-1.0)/L\n",
    "\n",
    "qc = QuantumCircuit(2)\n",
    "\n",
    "for i in range(n):\n",
    "    qc.rz(2**i*delta, i)\n",
    "\n",
    "qftd = UQFTd()\n",
    "\n",
    "qc.append(qftd, [0, 1])\n",
    "\n",
    "for i in range(n):\n",
    "    qc.rz(2**i*delta, i)\n",
    "\n",
    "L = 2**n\n",
    "mu = 2.0*np.pi/L #dx=1\n",
    "\n",
    "qc.global_phase = -(4**n-1.0)*mu*mu/24.0\n",
    "\n",
    "# Apply the decomposition\n",
    "qc.cx(1, 0)\n",
    "qc.rz(th*mu*mu, 0)  # Apply RZ gate with angle θ\n",
    "qc.cx(1, 0)\n",
    "\n",
    "for i in range(n):\n",
    "    qc.rz(-2**i*delta, i)\n",
    "\n",
    "# QFT\n",
    "qft = UQFT()\n",
    "qc.append(qft, [0, 1])\n",
    "\n",
    "for i in range(n):\n",
    "    qc.rz(-2**i*delta, i)\n",
    "\n",
    "pcirc = qc.draw('mpl')\n",
    "pcirc"
   ]
  },
  {
   "cell_type": "code",
   "execution_count": 56,
   "id": "a6091377-a6ad-4c75-ba01-fae85579b205",
   "metadata": {},
   "outputs": [],
   "source": [
    "pcirc.savefig('circuit_kinetic.pdf')"
   ]
  },
  {
   "cell_type": "code",
   "execution_count": 45,
   "id": "926a3010-3fe7-425e-ac67-6ea548ea6178",
   "metadata": {},
   "outputs": [
    {
     "data": {
      "text/plain": [
       "array([[ True,  True,  True,  True],\n",
       "       [ True,  True,  True,  True],\n",
       "       [ True,  True,  True,  True],\n",
       "       [ True,  True,  True,  True]])"
      ]
     },
     "execution_count": 45,
     "metadata": {},
     "output_type": "execute_result"
    }
   ],
   "source": [
    "np.abs(Operator(qc).data-Ukin)<1e-15"
   ]
  },
  {
   "cell_type": "markdown",
   "id": "6984213b-f4a0-438f-8d6d-7b6dd94b61cc",
   "metadata": {},
   "source": [
    "# Exmaple 3.5"
   ]
  },
  {
   "cell_type": "markdown",
   "id": "c78ca0fe-0293-4d67-8962-c5de33c79438",
   "metadata": {},
   "source": [
    "## Direct exponentiation"
   ]
  },
  {
   "cell_type": "code",
   "execution_count": 46,
   "id": "843ef49f-1848-440a-bde4-1d2f84e1d7bb",
   "metadata": {},
   "outputs": [],
   "source": [
    "def xhat(N, dx):\n",
    "    xs = [(-0.5*(N-1) + i)*dx for i in range(N)]\n",
    "    return np.diag(xs)\n",
    "    \n",
    "def phat(N, dx):\n",
    "    phat = np.zeros([N,N], complex)\n",
    "    for k in range(N):\n",
    "        p = 2.0*np.pi*(-0.5*(N-1) + k)/(N*dx)\n",
    "        pk = np.array([ np.exp(1.0j*2.0*np.pi*(-0.5*(N-1) + k)*(-0.5*(N-1) + i)/N) for i in range(N)])/np.sqrt(N)\n",
    "        phat += p*np.kron(pk.reshape([N,1]), np.conj(pk))\n",
    "    return phat"
   ]
  },
  {
   "cell_type": "code",
   "execution_count": 47,
   "id": "885577c0-9143-47cb-80af-fd8035057a57",
   "metadata": {},
   "outputs": [],
   "source": [
    "dx = 1.0\n",
    "n = 3\n",
    "L = 2**n\n",
    "pm = phat(L, dx)\n",
    "xm = xhat(L, dx)"
   ]
  },
  {
   "cell_type": "code",
   "execution_count": 48,
   "id": "d33fd0af-d043-4729-ba0b-509d7d3f16d3",
   "metadata": {},
   "outputs": [],
   "source": [
    "H = 0.5*(pm@pm+xm@xm)"
   ]
  },
  {
   "cell_type": "code",
   "execution_count": 49,
   "id": "a4b2aafe-50e6-4c66-ad8a-9f4981ecdadf",
   "metadata": {},
   "outputs": [],
   "source": [
    "eigenvalues, eigenvectors = np.linalg.eig(H)\n",
    "idx = np.argsort(eigenvalues)  # Indices that would sort the eigenvalues\n",
    "eigenvalues = eigenvalues[idx]  # Sorted eigenvalues\n",
    "eigenvectors = eigenvectors[:, idx]  # Reorder the eigenvectors accordingly"
   ]
  },
  {
   "cell_type": "code",
   "execution_count": 50,
   "id": "f8fab39b-69be-47c7-831d-e6d0a1f4117c",
   "metadata": {},
   "outputs": [],
   "source": [
    "eigenExact = [0.5 + i for i in range(L)]"
   ]
  },
  {
   "cell_type": "code",
   "execution_count": 51,
   "id": "bf51ecc5-0abb-4fab-8a2a-cbf016a2cb6f",
   "metadata": {},
   "outputs": [
    {
     "data": {
      "text/plain": [
       "array([0.00036558, 0.00258476, 0.00963865, 0.04052924, 0.07794294,\n",
       "       0.0841878 , 0.0901062 , 0.21358737])"
      ]
     },
     "execution_count": 51,
     "metadata": {},
     "output_type": "execute_result"
    }
   ],
   "source": [
    "np.abs(eigenvalues/eigenExact-1)"
   ]
  },
  {
   "cell_type": "code",
   "execution_count": 52,
   "id": "7a36cfd1-4e43-4049-8454-3d0fc0b31c12",
   "metadata": {},
   "outputs": [
    {
     "data": {
      "text/plain": [
       "array([[-6.16297582e-33+1.00020905e+00j,  8.88901454e-19-4.71844785e-16j,\n",
       "         2.10304253e-19-2.22857153e-03j,  8.39797227e-18+4.44089210e-16j,\n",
       "         6.66686906e-19+8.14562752e-03j, -1.33947567e-17-3.33066907e-16j,\n",
       "         2.03450775e-17+9.71445147e-16j,  1.80399306e-18-2.09285562e-02j],\n",
       "       [-8.88901454e-19-4.71844785e-16j, -1.23259516e-32+9.85294751e-01j,\n",
       "         7.68897781e-18-4.98342118e-33j, -3.19957737e-18-1.10221446e-01j,\n",
       "         2.91373974e-17-1.52655666e-15j, -1.75091852e-17+1.94576330e-01j,\n",
       "        -3.42240505e-17-2.60394087e-01j, -2.12364234e-17+3.60822483e-16j],\n",
       "       [-2.10304253e-19-2.22857153e-03j, -7.68897781e-18+1.66533454e-16j,\n",
       "         0.00000000e+00+1.02514483e+00j, -8.35208843e-17-2.77555756e-17j,\n",
       "        -1.50212717e-17-8.52448364e-02j,  1.50205836e-16-1.49880108e-15j,\n",
       "        -2.71004643e-16+2.69229083e-15j,  2.32854429e-18+2.85025310e-01j],\n",
       "       [-8.39797227e-18+5.55111512e-16j,  3.19957737e-18-1.10221446e-01j,\n",
       "         8.35208843e-17-1.11022302e-16j,  9.24446373e-33+1.30897222e-01j,\n",
       "         1.72324109e-16-8.88178420e-15j, -1.79560401e-16+1.50872289e+00j,\n",
       "        -2.50577035e-16-2.44696676e+00j,  2.47002163e-16+6.66133815e-16j],\n",
       "       [-6.66686906e-19+8.14562752e-03j, -2.91373974e-17-1.55431223e-15j,\n",
       "         1.50212717e-17-8.52448364e-02j, -1.72324109e-16-8.65973959e-15j,\n",
       "         2.46519033e-32+1.39321438e+00j,  3.70337845e-16+2.14273044e-14j,\n",
       "        -2.88948328e-16-2.24126273e-14j,  1.22199282e-16-7.27187664e-01j],\n",
       "       [ 1.33947567e-17-2.18273467e-33j,  1.75091852e-17+1.94576330e-01j,\n",
       "        -1.50205836e-16-1.77635684e-15j,  1.79560401e-16+1.50872289e+00j,\n",
       "        -3.70337845e-16+2.10942375e-14j, -9.86076132e-32-1.88259973e+00j,\n",
       "         8.43973577e-16+3.81167636e+00j, -4.14781344e-16-3.99680289e-15j],\n",
       "       [-2.03450775e-17+8.88178420e-16j,  3.42240505e-17-2.60394087e-01j,\n",
       "         2.71004643e-16+2.66453526e-15j,  2.50577035e-16-2.44696676e+00j,\n",
       "         2.88948328e-16-2.30926389e-14j, -8.43973577e-16+3.81167636e+00j,\n",
       "        -9.86076132e-32-1.08434049e+01j,  1.42978556e-15+3.55271368e-15j],\n",
       "       [-1.80399306e-18-2.09285562e-02j,  2.12364234e-17+4.44089210e-16j,\n",
       "        -2.32854429e-18+2.85025310e-01j, -2.47002163e-16+8.88178420e-16j,\n",
       "        -1.22199282e-16-7.27187664e-01j,  4.14781344e-16-3.55271368e-15j,\n",
       "        -1.42978556e-15+5.77315973e-15j,  9.86076132e-32+8.19124434e+00j]])"
      ]
     },
     "execution_count": 52,
     "metadata": {},
     "output_type": "execute_result"
    }
   ],
   "source": [
    "np.array([[np.conj(eigenvectors[:,i])@(xm@pm - pm@xm)@eigenvectors[:,j] for j in range(L)] for i in range(L)])"
   ]
  },
  {
   "cell_type": "code",
   "execution_count": 53,
   "id": "582be539-32ec-4432-a353-48514d8865ba",
   "metadata": {},
   "outputs": [],
   "source": [
    "def output(matrix):\n",
    "    latex_code = \"\\\\begin{bmatrix}\\n\" + \" \\\\\\\\\\n\".join(\n",
    "        [\" & \".join(f\"{elem.real:.4f} + {elem.imag:.4f}i\" if elem.imag >= 0 \n",
    "                else f\"{elem.real:.4f} - {-elem.imag:.4f}i\" \n",
    "                for elem in row) for row in matrix]\n",
    "    ) + \"\\n\\\\end{bmatrix}\"\n",
    "\n",
    "    return latex_code"
   ]
  },
  {
   "cell_type": "code",
   "execution_count": 54,
   "id": "ccb5fad2-bd39-4579-aafc-61a1b9af09e3",
   "metadata": {},
   "outputs": [
    {
     "name": "stdout",
     "output_type": "stream",
     "text": [
      "\\begin{bmatrix}\n",
      "-0.0000 + 1.0002i & 0.0000 - 0.0000i & 0.0000 - 0.0022i & 0.0000 + 0.0000i & 0.0000 + 0.0081i & -0.0000 - 0.0000i & 0.0000 + 0.0000i & 0.0000 - 0.0209i \\\\\n",
      "-0.0000 - 0.0000i & -0.0000 + 0.9853i & 0.0000 - 0.0000i & -0.0000 - 0.1102i & 0.0000 - 0.0000i & -0.0000 + 0.1946i & -0.0000 - 0.2604i & -0.0000 + 0.0000i \\\\\n",
      "-0.0000 - 0.0022i & -0.0000 + 0.0000i & 0.0000 + 1.0251i & -0.0000 - 0.0000i & -0.0000 - 0.0852i & 0.0000 - 0.0000i & -0.0000 + 0.0000i & 0.0000 + 0.2850i \\\\\n",
      "-0.0000 + 0.0000i & 0.0000 - 0.1102i & 0.0000 - 0.0000i & 0.0000 + 0.1309i & 0.0000 - 0.0000i & -0.0000 + 1.5087i & -0.0000 - 2.4470i & 0.0000 + 0.0000i \\\\\n",
      "-0.0000 + 0.0081i & -0.0000 - 0.0000i & 0.0000 - 0.0852i & -0.0000 - 0.0000i & 0.0000 + 1.3932i & 0.0000 + 0.0000i & -0.0000 - 0.0000i & 0.0000 - 0.7272i \\\\\n",
      "0.0000 - 0.0000i & 0.0000 + 0.1946i & -0.0000 - 0.0000i & 0.0000 + 1.5087i & -0.0000 + 0.0000i & -0.0000 - 1.8826i & 0.0000 + 3.8117i & -0.0000 - 0.0000i \\\\\n",
      "-0.0000 + 0.0000i & 0.0000 - 0.2604i & 0.0000 + 0.0000i & 0.0000 - 2.4470i & 0.0000 - 0.0000i & -0.0000 + 3.8117i & -0.0000 - 10.8434i & 0.0000 + 0.0000i \\\\\n",
      "-0.0000 - 0.0209i & 0.0000 + 0.0000i & -0.0000 + 0.2850i & -0.0000 + 0.0000i & -0.0000 - 0.7272i & 0.0000 - 0.0000i & -0.0000 + 0.0000i & 0.0000 + 8.1912i\n",
      "\\end{bmatrix}\n"
     ]
    }
   ],
   "source": [
    "print(output(np.array([[np.conj(eigenvectors[:,i])@(xm@pm - pm@xm)@eigenvectors[:,j] for j in range(L)] for i in range(L)])))"
   ]
  },
  {
   "cell_type": "code",
   "execution_count": null,
   "id": "bb38e401-1d7b-48d1-9a7f-76735287f660",
   "metadata": {},
   "outputs": [],
   "source": []
  }
 ],
 "metadata": {
  "kernelspec": {
   "display_name": "Python 3 (ipykernel)",
   "language": "python",
   "name": "python3"
  },
  "language_info": {
   "codemirror_mode": {
    "name": "ipython",
    "version": 3
   },
   "file_extension": ".py",
   "mimetype": "text/x-python",
   "name": "python",
   "nbconvert_exporter": "python",
   "pygments_lexer": "ipython3",
   "version": "3.12.7"
  }
 },
 "nbformat": 4,
 "nbformat_minor": 5
}
