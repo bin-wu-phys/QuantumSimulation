{
 "cells": [
  {
   "cell_type": "code",
   "execution_count": 7,
   "id": "12666500-cd0e-428a-b31b-9e95d578c171",
   "metadata": {},
   "outputs": [],
   "source": [
    "import numpy as np\n",
    "import matplotlib.pyplot as plt"
   ]
  },
  {
   "cell_type": "markdown",
   "id": "6e555f6f-d75e-441e-908d-fcc87ed5d0a4",
   "metadata": {},
   "source": [
    "# Example 3.3\n",
    "\n",
    "Let us choose $n=3$ and $\\Delta x = 1$. Then,\n",
    "\n",
    "\\begin{align}\n",
    "    \\hat{x}^2 = \\frac{63}{12} + \\mathbb{1}\\otimes Z \\otimes Z  + 2 Z \\otimes \\mathbb{1} \\otimes Z  + 4 Z \\otimes Z \\otimes \\mathbb{1},\n",
    "\\end{align}\n",
    "\n",
    "and the evolution operator\n",
    "\n",
    "\\begin{align}\n",
    "    \\hat{U}(t)\\equiv e^{-\\frac{i}{2}\\hat{x}^2 t} = e^{-i\\frac{63}{24}t}\n",
    "    e^{-\\frac{i}{2}t\\mathbb{1}\\otimes Z \\otimes Z}\n",
    "    e^{-\\frac{i}{2}2tZ \\otimes \\mathbb{1} \\otimes Z}\n",
    "    e^{-\\frac{i}{2}4tZ \\otimes Z \\otimes \\mathbb{1}}.\n",
    "\\end{align}"
   ]
  },
  {
   "cell_type": "code",
   "execution_count": 1,
   "id": "4d17e704-f219-4d8a-823d-8e3c36eef5b6",
   "metadata": {},
   "outputs": [],
   "source": [
    "from qiskit import *\n",
    "from qiskit.visualization import *\n",
    "from qiskit.quantum_info import Operator\n",
    "import numpy as np\n",
    "import matplotlib.pyplot as plt"
   ]
  },
  {
   "cell_type": "markdown",
   "id": "41c2ce07-07d0-4eca-83f6-818dbb0a8990",
   "metadata": {},
   "source": [
    "## Direct exponentiation"
   ]
  },
  {
   "cell_type": "code",
   "execution_count": 2,
   "id": "fe4b4c38-4d1a-4be7-906f-21437a0bdfea",
   "metadata": {},
   "outputs": [],
   "source": [
    "def xhat(N, dx):\n",
    "    xs = [(-0.5*(N-1) + i)*dx for i in range(N)]\n",
    "    return np.diag(xs)\n",
    "\n",
    "def phat(N, dx):\n",
    "    phat = np.zeros([N,N], complex)\n",
    "    for k in range(N):\n",
    "        p = 2.0*np.pi*(-0.5*N + k)/4.0\n",
    "        pk = np.array([ np.exp(1.0j*2.0*np.pi*(-0.5*N + k)*(-0.5*N + i)/N) for i in range(N)])/np.sqrt(N)\n",
    "        phat += p*np.kron(pk.reshape([N,1]), np.conj(pk))\n",
    "    return phat"
   ]
  },
  {
   "cell_type": "code",
   "execution_count": 64,
   "id": "9e9446f3-c4c3-4abb-a4d6-de19d07757a4",
   "metadata": {},
   "outputs": [
    {
     "data": {
      "text/plain": [
       "array([[-3.5,  0. ,  0. ,  0. ,  0. ,  0. ,  0. ,  0. ],\n",
       "       [ 0. , -2.5,  0. ,  0. ,  0. ,  0. ,  0. ,  0. ],\n",
       "       [ 0. ,  0. , -1.5,  0. ,  0. ,  0. ,  0. ,  0. ],\n",
       "       [ 0. ,  0. ,  0. , -0.5,  0. ,  0. ,  0. ,  0. ],\n",
       "       [ 0. ,  0. ,  0. ,  0. ,  0.5,  0. ,  0. ,  0. ],\n",
       "       [ 0. ,  0. ,  0. ,  0. ,  0. ,  1.5,  0. ,  0. ],\n",
       "       [ 0. ,  0. ,  0. ,  0. ,  0. ,  0. ,  2.5,  0. ],\n",
       "       [ 0. ,  0. ,  0. ,  0. ,  0. ,  0. ,  0. ,  3.5]])"
      ]
     },
     "execution_count": 64,
     "metadata": {},
     "output_type": "execute_result"
    }
   ],
   "source": [
    "xhat(L, 1)"
   ]
  },
  {
   "cell_type": "code",
   "execution_count": 8,
   "id": "5487230b-af70-4846-bd97-55eea7474891",
   "metadata": {},
   "outputs": [
    {
     "data": {
      "text/plain": [
       "array([[ 0.98751477+0.15752643j,  0.        +0.j        ,\n",
       "         0.        +0.j        ,  0.        +0.j        ,\n",
       "         0.        +0.j        ,  0.        +0.j        ,\n",
       "         0.        +0.j        ,  0.        +0.j        ],\n",
       "       [ 0.        +0.j        , -0.99986235-0.01659189j,\n",
       "         0.        +0.j        ,  0.        +0.j        ,\n",
       "         0.        +0.j        ,  0.        +0.j        ,\n",
       "         0.        +0.j        ,  0.        +0.j        ],\n",
       "       [ 0.        +0.j        ,  0.        +0.j        ,\n",
       "         0.43117652-0.90226759j,  0.        +0.j        ,\n",
       "         0.        +0.j        ,  0.        +0.j        ,\n",
       "         0.        +0.j        ,  0.        +0.j        ],\n",
       "       [ 0.        +0.j        ,  0.        +0.j        ,\n",
       "         0.        +0.j        ,  0.99219767-0.12467473j,\n",
       "         0.        +0.j        ,  0.        +0.j        ,\n",
       "         0.        +0.j        ,  0.        +0.j        ],\n",
       "       [ 0.        +0.j        ,  0.        +0.j        ,\n",
       "         0.        +0.j        ,  0.        +0.j        ,\n",
       "         0.99219767-0.12467473j,  0.        +0.j        ,\n",
       "         0.        +0.j        ,  0.        +0.j        ],\n",
       "       [ 0.        +0.j        ,  0.        +0.j        ,\n",
       "         0.        +0.j        ,  0.        +0.j        ,\n",
       "         0.        +0.j        ,  0.43117652-0.90226759j,\n",
       "         0.        +0.j        ,  0.        +0.j        ],\n",
       "       [ 0.        +0.j        ,  0.        +0.j        ,\n",
       "         0.        +0.j        ,  0.        +0.j        ,\n",
       "         0.        +0.j        ,  0.        +0.j        ,\n",
       "        -0.99986235-0.01659189j,  0.        +0.j        ],\n",
       "       [ 0.        +0.j        ,  0.        +0.j        ,\n",
       "         0.        +0.j        ,  0.        +0.j        ,\n",
       "         0.        +0.j        ,  0.        +0.j        ,\n",
       "         0.        +0.j        ,  0.98751477+0.15752643j]])"
      ]
     },
     "execution_count": 8,
     "metadata": {},
     "output_type": "execute_result"
    }
   ],
   "source": [
    "from scipy.linalg import expm\n",
    "L = 8\n",
    "Ud = expm(-0.5j*xhat(L, 1)@xhat(L, 1))\n",
    "Ud"
   ]
  },
  {
   "cell_type": "markdown",
   "id": "eb7c323c-ca95-4c7e-8b34-d6deffac7331",
   "metadata": {},
   "source": [
    "## Circuit"
   ]
  },
  {
   "cell_type": "code",
   "execution_count": 9,
   "id": "cc0396cd-f91d-4e0b-9cd8-e68c35198ef9",
   "metadata": {},
   "outputs": [],
   "source": [
    "def ZZ_decomp(th):\n",
    "    \"\"\"\n",
    "    Implements the unitary U = exp(-0.5i * th * Z ⊗ Z).\n",
    "    \n",
    "    Parameters:\n",
    "        th (float): The rotation angle θ.\n",
    "    \n",
    "    Returns:\n",
    "        QuantumCircuit: The 2-qubit quantum circuit implementing the unitary.\n",
    "    \"\"\"\n",
    "    # Create a 2-qubit quantum circuit with a custom name\n",
    "    zz = QuantumCircuit(2, name=r'$e^{-\\frac{i}{2}t Z\\otimes Z}$')\n",
    "    \n",
    "    # Apply the decomposition\n",
    "    zz.cx(1, 0)\n",
    "    zz.rz(th, 0)  # Apply RZ gate with angle θ\n",
    "    zz.cx(1, 0)\n",
    "    \n",
    "    return zz"
   ]
  },
  {
   "cell_type": "code",
   "execution_count": 10,
   "id": "abdd4a18-9010-4646-942e-fef3ab50ea7c",
   "metadata": {},
   "outputs": [
    {
     "data": {
      "image/png": "[encoded data removed]",
      "text/plain": [
       "<Figure size 370.906x200.667 with 1 Axes>"
      ]
     },
     "execution_count": 10,
     "metadata": {},
     "output_type": "execute_result"
    }
   ],
   "source": [
    "ZZ_decomp(0.5).draw('mpl')"
   ]
  },
  {
   "cell_type": "code",
   "execution_count": 11,
   "id": "b506f61d-60de-4a27-8ba0-264ae24aee0a",
   "metadata": {},
   "outputs": [
    {
     "data": {
      "image/png": "[encoded data removed]",
      "text/plain": [
       "<Figure size 872.774x284.278 with 1 Axes>"
      ]
     },
     "execution_count": 11,
     "metadata": {},
     "output_type": "execute_result"
    }
   ],
   "source": [
    "th = 1.0\n",
    "n = 3\n",
    "qc = QuantumCircuit(n)\n",
    "qc.global_phase = -(4**n-1.0)/24.0\n",
    "\n",
    "# Apply the decomposition\n",
    "qc.cx(1, 0)\n",
    "qc.rz(th, 0)  # Apply RZ gate with angle θ\n",
    "qc.cx(1, 0)\n",
    "\n",
    "qc.cx(2, 0)\n",
    "qc.rz(2.0*th, 0)  # Apply RZ gate with angle θ\n",
    "qc.cx(2, 0)\n",
    "\n",
    "qc.cx(2, 1)\n",
    "qc.rz(4.0*th, 1)  # Apply RZ gate with angle θ\n",
    "qc.cx(2, 1)\n",
    "\n",
    "qc.draw('mpl')"
   ]
  },
  {
   "cell_type": "code",
   "execution_count": 6,
   "id": "b50ea2a9-e91c-4314-876a-3f400fd60ee8",
   "metadata": {},
   "outputs": [],
   "source": [
    "qc.draw('mpl').savefig(\"circuit_x2.pdf\")"
   ]
  },
  {
   "cell_type": "code",
   "execution_count": 12,
   "id": "f5b82cc5-0a37-4204-a432-b690036639a0",
   "metadata": {},
   "outputs": [
    {
     "data": {
      "text/plain": [
       "array([[ True,  True,  True,  True,  True,  True,  True,  True],\n",
       "       [ True,  True,  True,  True,  True,  True,  True,  True],\n",
       "       [ True,  True,  True,  True,  True,  True,  True,  True],\n",
       "       [ True,  True,  True,  True,  True,  True,  True,  True],\n",
       "       [ True,  True,  True,  True,  True,  True,  True,  True],\n",
       "       [ True,  True,  True,  True,  True,  True,  True,  True],\n",
       "       [ True,  True,  True,  True,  True,  True,  True,  True],\n",
       "       [ True,  True,  True,  True,  True,  True,  True,  True]])"
      ]
     },
     "execution_count": 12,
     "metadata": {},
     "output_type": "execute_result"
    }
   ],
   "source": [
    "np.abs(Operator(qc).data - Ud)< 1e-15"
   ]
  },
  {
   "cell_type": "markdown",
   "id": "976c30b4-61d3-4f74-ba89-4eb2aa771302",
   "metadata": {},
   "source": [
    "Checked!"
   ]
  },
  {
   "cell_type": "markdown",
   "id": "c7dde531-4ce2-4d02-87b7-fdac3b84212e",
   "metadata": {},
   "source": [
    "# Exmaple 3.4"
   ]
  },
  {
   "cell_type": "code",
   "execution_count": 14,
   "id": "4376f47d-4f14-484d-9d29-53cc0f96ca8b",
   "metadata": {},
   "outputs": [
    {
     "data": {
      "text/plain": [
       "array([[0.43117652-0.90226759j, 0.        +0.j        ,\n",
       "        0.        +0.j        , 0.        +0.j        ],\n",
       "       [0.        +0.j        , 0.99219767-0.12467473j,\n",
       "        0.        +0.j        , 0.        +0.j        ],\n",
       "       [0.        +0.j        , 0.        +0.j        ,\n",
       "        0.99219767-0.12467473j, 0.        +0.j        ],\n",
       "       [0.        +0.j        , 0.        +0.j        ,\n",
       "        0.        +0.j        , 0.43117652-0.90226759j]])"
      ]
     },
     "execution_count": 14,
     "metadata": {},
     "output_type": "execute_result"
    }
   ],
   "source": [
    "L = 4 # 2^n\n",
    "Ud = expm(-0.5j*xhat(L, 1)@xhat(L, 1))\n",
    "Ukin = expm(-0.5j*phat(L, 1)@phat(L, 1))\n",
    "Ud"
   ]
  },
  {
   "cell_type": "code",
   "execution_count": 15,
   "id": "692cdd78-cab7-47ed-9444-fa59449666f0",
   "metadata": {},
   "outputs": [
    {
     "data": {
      "image/png": "[encoded data removed]",
      "text/plain": [
       "<Figure size 370.906x200.667 with 1 Axes>"
      ]
     },
     "execution_count": 15,
     "metadata": {},
     "output_type": "execute_result"
    }
   ],
   "source": [
    "th = 1.0\n",
    "n = 2\n",
    "qc = QuantumCircuit(n)\n",
    "qc.global_phase = -(4**n-1.0)/24.0\n",
    "\n",
    "# Apply the decomposition\n",
    "qc.cx(1, 0)\n",
    "qc.rz(th, 0)  # Apply RZ gate with angle θ\n",
    "qc.cx(1, 0)\n",
    "\n",
    "qc.draw('mpl')"
   ]
  },
  {
   "cell_type": "code",
   "execution_count": 16,
   "id": "da1e6fd2-6489-4e9e-9968-ced14ddd3907",
   "metadata": {},
   "outputs": [
    {
     "data": {
      "text/plain": [
       "array([[ True,  True,  True,  True],\n",
       "       [ True,  True,  True,  True],\n",
       "       [ True,  True,  True,  True],\n",
       "       [ True,  True,  True,  True]])"
      ]
     },
     "execution_count": 16,
     "metadata": {},
     "output_type": "execute_result"
    }
   ],
   "source": [
    "np.abs(Operator(qc).data - Ud)< 1e-15"
   ]
  },
  {
   "cell_type": "code",
   "execution_count": 86,
   "id": "bd1e1acb-7dd5-4aec-9da7-3ab326152b5d",
   "metadata": {},
   "outputs": [],
   "source": [
    "L = 2**n\n",
    "delta = np.pi*(L-1)/L"
   ]
  },
  {
   "cell_type": "code",
   "execution_count": 85,
   "id": "ac3084cc-da54-46d9-93c1-2b7b75c837e1",
   "metadata": {},
   "outputs": [
    {
     "data": {
      "text/plain": [
       "2.356194490192345"
      ]
     },
     "execution_count": 85,
     "metadata": {},
     "output_type": "execute_result"
    }
   ],
   "source": [
    "delta"
   ]
  },
  {
   "cell_type": "code",
   "execution_count": 17,
   "id": "35dbcf61-ed0f-44ea-9886-5c8b8744ab64",
   "metadata": {},
   "outputs": [],
   "source": [
    "def UQFT():\n",
    "    qc = QuantumCircuit(2, name='QFT')\n",
    "\n",
    "    qc.h(1)\n",
    "    qc.cs(0,1)\n",
    "    qc.h(0)\n",
    "    qc.swap(0,1)\n",
    "    display(qc.draw('mpl'))\n",
    "\n",
    "    return qc.to_instruction()"
   ]
  },
  {
   "cell_type": "code",
   "execution_count": 18,
   "id": "f11f6233-0f1a-466f-93cf-995fcde4ef72",
   "metadata": {},
   "outputs": [],
   "source": [
    "def UQFTd():\n",
    "    \"\"\"\n",
    "    UQFT^\\dagger\n",
    "    \"\"\"\n",
    "    qc = QuantumCircuit(2, name='QFT^+')\n",
    "\n",
    "    qc.swap(0,1)\n",
    "    qc.h(0)\n",
    "    qc.cs(0,1)\n",
    "    qc.cz(0,1)\n",
    "    qc.h(1)\n",
    "\n",
    "    display(qc.draw('mpl'))\n",
    "\n",
    "    return qc.to_instruction()"
   ]
  },
  {
   "cell_type": "code",
   "execution_count": 21,
   "id": "082d6d75-b227-4b21-bb56-90aa78f3f407",
   "metadata": {},
   "outputs": [
    {
     "data": {
      "image/png": "[encoded data removed]",
      "text/plain": [
       "<Figure size 454.517x200.667 with 1 Axes>"
      ]
     },
     "metadata": {},
     "output_type": "display_data"
    },
    {
     "data": {
      "image/png": "[encoded data removed]",
      "text/plain": [
       "<Figure size 538.128x200.667 with 1 Axes>"
      ]
     },
     "metadata": {},
     "output_type": "display_data"
    },
    {
     "data": {
      "image/png": "[encoded data removed]",
      "text/plain": [
       "<Figure size 370.906x200.667 with 1 Axes>"
      ]
     },
     "execution_count": 21,
     "metadata": {},
     "output_type": "execute_result"
    }
   ],
   "source": [
    "qc = QuantumCircuit(2)\n",
    "qft = UQFT()\n",
    "qftd = UQFTd()\n",
    "\n",
    "qc.append(qft, [0, 1])\n",
    "qc.append(qftd, [0, 1])\n",
    "\n",
    "\n",
    "qc.draw('mpl')"
   ]
  },
  {
   "cell_type": "code",
   "execution_count": 22,
   "id": "682483e6-8b21-44a1-ac56-877e55391d99",
   "metadata": {},
   "outputs": [
    {
     "data": {
      "text/plain": [
       "Operator([[1.+0.j, 0.+0.j, 0.+0.j, 0.+0.j],\n",
       "          [0.+0.j, 1.+0.j, 0.+0.j, 0.+0.j],\n",
       "          [0.+0.j, 0.+0.j, 1.+0.j, 0.+0.j],\n",
       "          [0.+0.j, 0.+0.j, 0.+0.j, 1.+0.j]],\n",
       "         input_dims=(2, 2), output_dims=(2, 2))"
      ]
     },
     "execution_count": 22,
     "metadata": {},
     "output_type": "execute_result"
    }
   ],
   "source": [
    "Operator(qc)"
   ]
  },
  {
   "cell_type": "code",
   "execution_count": 27,
   "id": "50b4c833-de69-4678-840f-4a9418e3de1f",
   "metadata": {},
   "outputs": [
    {
     "data": {
      "image/png": "[encoded data removed]",
      "text/plain": [
       "<Figure size 538.128x200.667 with 1 Axes>"
      ]
     },
     "metadata": {},
     "output_type": "display_data"
    },
    {
     "data": {
      "image/png": "[encoded data removed]",
      "text/plain": [
       "<Figure size 454.517x200.667 with 1 Axes>"
      ]
     },
     "metadata": {},
     "output_type": "display_data"
    },
    {
     "data": {
      "image/png": "[encoded data removed]",
      "text/plain": [
       "<Figure size 956.183x200.667 with 1 Axes>"
      ]
     },
     "execution_count": 27,
     "metadata": {},
     "output_type": "execute_result"
    }
   ],
   "source": [
    "delta = 1.0\n",
    "n = 2\n",
    "th = 1.0\n",
    "\n",
    "qc = QuantumCircuit(2)\n",
    "\n",
    "for i in range(n):\n",
    "    qc.rz(2**i*delta, i)\n",
    "\n",
    "qftd = UQFTd()\n",
    "\n",
    "qc.append(qftd, [0, 1])\n",
    "\n",
    "for i in range(n):\n",
    "    qc.rz(2**i*delta, i)\n",
    "\n",
    "L = 2**n\n",
    "mu = 2.0*np.pi/L #dx=1\n",
    "\n",
    "qc.global_phase = -(4**n-1.0)*mu*mu/24.0\n",
    "\n",
    "# Apply the decomposition\n",
    "qc.cx(1, 0)\n",
    "qc.rz(th*mu*mu, 0)  # Apply RZ gate with angle θ\n",
    "qc.cx(1, 0)\n",
    "\n",
    "for i in range(n):\n",
    "    qc.rz(-2**i*delta, i)\n",
    "\n",
    "# QFT\n",
    "qft = UQFT()\n",
    "qc.append(qft, [0, 1])\n",
    "\n",
    "for i in range(n):\n",
    "    qc.rz(-2**i*delta, i)\n",
    "\n",
    "qc.draw('mpl')"
   ]
  },
  {
   "cell_type": "code",
   "execution_count": 28,
   "id": "926a3010-3fe7-425e-ac67-6ea548ea6178",
   "metadata": {},
   "outputs": [
    {
     "data": {
      "text/plain": [
       "Operator([[-0.46103842-0.10259418j, -0.03411228-0.40381924j,\n",
       "           -0.13977215-0.7157016j ,  0.22083021-0.27818255j],\n",
       "          [-0.07149384+0.89965084j, -0.46103842-0.10259418j,\n",
       "           -0.03411228-0.40381924j, -0.13977215-0.7157016j ],\n",
       "          [-0.13977215-0.7157016j , -0.07149384+0.89965084j,\n",
       "           -0.46103842-0.10259418j, -0.03411228-0.40381924j],\n",
       "          [ 0.19022985+0.78883136j, -0.13977215-0.7157016j ,\n",
       "           -0.07149384+0.89965084j, -0.46103842-0.10259418j]],\n",
       "         input_dims=(2, 2), output_dims=(2, 2))"
      ]
     },
     "execution_count": 28,
     "metadata": {},
     "output_type": "execute_result"
    }
   ],
   "source": [
    "Operator(qc) - Ukin"
   ]
  },
  {
   "cell_type": "markdown",
   "id": "6984213b-f4a0-438f-8d6d-7b6dd94b61cc",
   "metadata": {},
   "source": [
    "# Exmaple 3.5"
   ]
  },
  {
   "cell_type": "code",
   "execution_count": 2,
   "id": "6c7315aa-a357-4a5a-849c-3dd9f434cbbb",
   "metadata": {},
   "outputs": [],
   "source": [
    "L = 6.0\n",
    "def phat(N):\n",
    "    phat = np.zeros([N,N], complex)\n",
    "    dx = 6.0/N\n",
    "    for k in range(N):\n",
    "        p = 2.0*np.pi*(-0.5*N + k)/4.0\n",
    "        pk = np.array([ np.exp(1.0j*2.0*np.pi*(-0.5*N + k)*(-0.5*N + i)/N) for i in range(N)])/np.sqrt(N)\n",
    "        phat += p*np.kron(pk.reshape([N,1]), np.conj(pk))\n",
    "    return phat\n",
    "\n",
    "def xhat(N):\n",
    "    dx = 4.0/N\n",
    "    xs = [(-0.5*(N-1) + i)*dx for i in range(N)]\n",
    "    return np.diag(xs)"
   ]
  },
  {
   "cell_type": "code",
   "execution_count": 23,
   "id": "2b811909-e050-4031-b342-44c5227e4ff7",
   "metadata": {},
   "outputs": [],
   "source": [
    "def xEig(n, ls):\n",
    "    return -0.5*(2**n - 1) + np.array([ ls[l]*2**(n-1-l) for l in range(len(ls))]).sum(), np.array([- 2**(n-1)*2**(-i-1)*(-1.0)**ls[i] for i in range(n)]).sum()"
   ]
  },
  {
   "cell_type": "code",
   "execution_count": 26,
   "id": "4156b6f5-74be-460c-84e6-38bae8b2b64c",
   "metadata": {},
   "outputs": [
    {
     "data": {
      "text/plain": [
       "(-5.5, -5.5)"
      ]
     },
     "execution_count": 26,
     "metadata": {},
     "output_type": "execute_result"
    }
   ],
   "source": [
    "xEig(4, [0, 0, 1, 0])"
   ]
  },
  {
   "cell_type": "code",
   "execution_count": 10,
   "id": "83d55ce0-20cd-46a2-be57-e97255731a5a",
   "metadata": {},
   "outputs": [
    {
     "data": {
      "text/plain": [
       "7.5"
      ]
     },
     "execution_count": 10,
     "metadata": {},
     "output_type": "execute_result"
    }
   ],
   "source": [
    "(2**4-1)/2"
   ]
  },
  {
   "cell_type": "code",
   "execution_count": 10,
   "id": "97e51baf-05f1-4118-9931-fda01454f2b0",
   "metadata": {},
   "outputs": [],
   "source": [
    "pm = phat(4)\n",
    "xm = xhat(4)"
   ]
  },
  {
   "cell_type": "code",
   "execution_count": 15,
   "id": "b3c449be-1119-4452-b788-9a5b46ad39d3",
   "metadata": {},
   "outputs": [],
   "source": [
    "H = 0.5*(pm@pm+xm@xm)"
   ]
  },
  {
   "cell_type": "code",
   "execution_count": 16,
   "id": "876e0eba-3f13-4182-9060-d24e2947b2e5",
   "metadata": {},
   "outputs": [],
   "source": [
    "eigenvalues, eigenvectors = np.linalg.eig(H)"
   ]
  },
  {
   "cell_type": "code",
   "execution_count": 17,
   "id": "be1ee040-a060-4add-be13-370bef972cd9",
   "metadata": {},
   "outputs": [],
   "source": [
    "eigenvalues.sort()"
   ]
  },
  {
   "cell_type": "code",
   "execution_count": 18,
   "id": "a9b866d2-88d3-44fe-ab15-e2349cc99440",
   "metadata": {},
   "outputs": [
    {
     "data": {
      "text/plain": [
       "array([0.46679843-1.3780780e-32j, 1.73370055+0.0000000e+00j,\n",
       "       2.34842291+1.4025793e-32j, 5.85328141-2.4501298e-34j])"
      ]
     },
     "execution_count": 18,
     "metadata": {},
     "output_type": "execute_result"
    }
   ],
   "source": [
    "eigenvalues"
   ]
  },
  {
   "cell_type": "code",
   "execution_count": null,
   "id": "c6ce59e3-2b5c-4bc3-a632-5c31c0f57977",
   "metadata": {},
   "outputs": [],
   "source": []
  }
 ],
 "metadata": {
  "kernelspec": {
   "display_name": "Python 3 (ipykernel)",
   "language": "python",
   "name": "python3"
  },
  "language_info": {
   "codemirror_mode": {
    "name": "ipython",
    "version": 3
   },
   "file_extension": ".py",
   "mimetype": "text/x-python",
   "name": "python",
   "nbconvert_exporter": "python",
   "pygments_lexer": "ipython3",
   "version": "3.8.19"
  }
 },
 "nbformat": 4,
 "nbformat_minor": 5
}
