{
 "cells": [
  {
   "cell_type": "markdown",
   "id": "279f0e48-dbb0-4ad8-9e4a-4a2cb5b6d650",
   "metadata": {},
   "source": [
    "# Lecture 2: Digital quantum simulation\n",
    "\n",
    "## 2.1 The quantum circuit model\n",
    "\n",
    "In these lecture notes, we use the terms **universal quantum computer** and the **quantum circuit model of computation** interchangeably. Quantum circuits form the foundation of quantum computation. They provide a visual and mathematical framework for representing quantum algorithms, analogous to classical logic circuits in classical computation. \n",
    "\n",
    "A **quantum circuit** consists of:\n",
    "- **Wires**, each representing a qubit.\n",
    "- **Gates**, each performing a specific unitary operation to manipulate the quantum state of the qubits.\n",
    "\n",
    "It is depicted in a circuit diagram where:\n",
    "\n",
    "- Horizontal lines represent qubits.\n",
    "- Boxes or symbols along these lines represent quantum gates that apply specific operations.\n",
    "- Time flows from left to right, illustrating the sequence of operations applied to the qubits (**opposite to the order in their mathematical expessions**).\n"
   ]
  },
  {
   "cell_type": "markdown",
   "id": "b320d75f-f9fe-40cf-9734-3aeee1f43d31",
   "metadata": {},
   "source": [
    "We are going to use **IBM Qiskt 1.x**:"
   ]
  },
  {
   "cell_type": "code",
   "execution_count": 1,
   "id": "247638d5-4f04-4366-8fd9-5bfc3aa1caef",
   "metadata": {},
   "outputs": [
    {
     "data": {
      "text/plain": [
       "'1.3.1'"
      ]
     },
     "execution_count": 1,
     "metadata": {},
     "output_type": "execute_result"
    }
   ],
   "source": [
    "import qiskit\n",
    "qiskit.__version__"
   ]
  },
  {
   "cell_type": "code",
   "execution_count": 2,
   "id": "e3907a07-efc7-4b9a-8109-43234555f5df",
   "metadata": {},
   "outputs": [],
   "source": [
    "from qiskit import *\n",
    "from qiskit.visualization import *\n",
    "from qiskit.quantum_info import Operator, Statevector\n",
    "from qiskit.circuit import Parameter\n",
    "import numpy as np"
   ]
  },
  {
   "cell_type": "markdown",
   "id": "435c6006-1102-442f-baa6-13e2e5d859e9",
   "metadata": {},
   "source": [
    "### 2.1.1 Quantum bits\n",
    "\n",
    "**A quantum bit (qubit)** is a quantum system that has two orthonormal basis states, typically denoted as $|0\\rangle$ and $|1\\rangle$ in the computational basis. They are conventionally represented as vectors:\n",
    "\n",
    "\\begin{align}\n",
    "    |0\\rangle = \\begin{pmatrix}\n",
    "        1\\\\0\n",
    "    \\end{pmatrix}\n",
    "    \\qquad\n",
    "    \\text{and}\n",
    "    \\qquad\n",
    "    |1\\rangle = \\begin{pmatrix}\n",
    "        0\\\\1\n",
    "    \\end{pmatrix}.    \n",
    "\\end{align}\n",
    "\n",
    "For $n$ qubits, the $2^n$ computational basis states can be constructed using the tensor product $\\otimes$. **A quantum register** is a set of qubits used in quantum computation to store and manipulate quantum information. It is an extension of the concept of a classical register in a digital computer, which is a memory unit for storing classical bits. The bit on the left is called the **Most Significant Bit (MSB)**, while the bit on the right is known as the **Least Significant Bit (LSB)**. In the binary representation, a computational basis state is written as\n",
    "\n",
    "\\begin{align}\n",
    "    |q_{n-1} q_{n-2}\\cdots q_0\\rangle \\equiv |q_{n-1}\\rangle \\otimes |q_{n-2}\\rangle \\otimes \\cdots \\otimes |q_0\\rangle\n",
    "\\end{align}\n",
    "\n",
    "where $q_i$ takes values in $\\{0, 1\\}$, with $q_{n-1}$ and $q_0$ representing the MSB and LSB, respectively. This state is sometimes expressed in decimal form as $|m\\rangle$ with \n",
    "\n",
    "$$\n",
    "m=\\sum\\limits_{i=0}^{n-1} 2^i q_i,\n",
    "$$\n",
    "\n",
    "and is represented as a vector with its $(m+1)^{\\text{th}}$ component equal to 1, while all the other components are 0. \n",
    "\n",
    "> In conventional textbooks like [Nielsen & Chuang, 2012](https://www.cambridge.org/9781107002173), the same state in decimal form has a different binary representation: $|j_1j_2\\cdots j_{n}\\rangle$.\n",
    "\n",
    "According to the `Qiskit` convention, the MSB is positioned on **the lower bit in the circuit diagram**. For instance, in `Qiskit`, a circuit corresponding to an initial $n$-qubit state is created using:\n",
    "\n",
    "```python\n",
    "QuantumCircuit(q_0, q_1, \\dots, q_{n-1})\n",
    "```\n",
    "\n",
    "where each `q_i` represents a `QuantumRegister` object. Here, `q_0` and `q_{n-1}` represent the LSB and MSB, respectively. In the circuit diagram, the wire corresponding to `q_0` appears at the top, while the wire for `q_{n-1}` is positioned at the bottom.\n",
    "\n",
    "For example:"
   ]
  },
  {
   "cell_type": "code",
   "execution_count": 3,
   "id": "06f2efef-6884-4fe7-aff1-9ce44f100905",
   "metadata": {},
   "outputs": [
    {
     "data": {
      "image/png": "[encoded data removed]",
      "text/plain": [
       "<Figure size 162.08x367.889 with 1 Axes>"
      ]
     },
     "execution_count": 3,
     "metadata": {},
     "output_type": "execute_result"
    }
   ],
   "source": [
    "# Create a quantum circuit with 4 qubits\n",
    "qc = QuantumCircuit(4)\n",
    "\n",
    "# Visualize the circuit\n",
    "qc.draw('mpl')"
   ]
  },
  {
   "cell_type": "markdown",
   "id": "3dfd8cb2-0e8a-425b-8a5d-b999926585cc",
   "metadata": {},
   "source": [
    "This corresponds to a state vector $|q_3q_2q_1q_0\\rangle$."
   ]
  },
  {
   "cell_type": "markdown",
   "id": "8051c952-1383-4f79-9cde-fa700ab0a99a",
   "metadata": {},
   "source": [
    "**Tensor Product**\n",
    "\n",
    "The tensor product can be implemented through the Kronecker product. Suppose $A$ is an $m \\times n$ matrix, and $B$ is a $p \\times q$ matrix. Then the matrix representation of their Kronecker product is given by:\n",
    "\n",
    "\\begin{align}\n",
    "    A \\otimes B = \\begin{pmatrix}\n",
    "        a_{11}B & a_{12}B & \\cdots & a_{1n}B \\\\\n",
    "        a_{21}B & a_{22}B & \\cdots & a_{2n}B \\\\\n",
    "        \\vdots & \\vdots & \\ddots & \\vdots \\\\\n",
    "        a_{m1}B & a_{m2}B & \\cdots & a_{mn}B\n",
    "    \\end{pmatrix}\n",
    "\\end{align}\n",
    "\n",
    "where each element $a_{ij}$ of matrix $A$ is multiplied by the entire matrix $B$, forming a block matrix. In `numpy`, the Kronecker product can be computed using the function:\n",
    "\n",
    "```python\n",
    "numpy.kron(A, B)"
   ]
  },
  {
   "cell_type": "markdown",
   "id": "4e52d4a6-049c-47a9-ae45-ccfe9d586f66",
   "metadata": {},
   "source": [
    "### 2.1.2 Single-qubit gates"
   ]
  },
  {
   "cell_type": "code",
   "execution_count": 4,
   "id": "a029e620-cd99-4c18-a411-3ffecb26d802",
   "metadata": {},
   "outputs": [
    {
     "data": {
      "image/png": "[encoded data removed]",
      "text/plain": [
       "<Figure size 185.453x117.056 with 1 Axes>"
      ]
     },
     "execution_count": 4,
     "metadata": {},
     "output_type": "execute_result"
    }
   ],
   "source": [
    "qc = QuantumCircuit(1,0)\n",
    "qc.x(0)\n",
    "x = qc.draw('mpl')\n",
    "x"
   ]
  },
  {
   "cell_type": "code",
   "execution_count": 88,
   "id": "26f012c5-4449-4e5c-afbf-902d156232c3",
   "metadata": {},
   "outputs": [],
   "source": [
    "x.savefig('x.pdf')"
   ]
  },
  {
   "cell_type": "code",
   "execution_count": 5,
   "id": "53327cd9-ff04-4bfd-8402-42171515c560",
   "metadata": {},
   "outputs": [
    {
     "data": {
      "image/png": "[encoded data removed]",
      "text/plain": [
       "<Figure size 185.453x117.056 with 1 Axes>"
      ]
     },
     "execution_count": 5,
     "metadata": {},
     "output_type": "execute_result"
    }
   ],
   "source": [
    "qc = QuantumCircuit(1,0)\n",
    "qc.y(0)\n",
    "y = qc.draw('mpl')\n",
    "y"
   ]
  },
  {
   "cell_type": "code",
   "execution_count": 90,
   "id": "27f8a4de-02db-4df0-930a-a6dd0a172483",
   "metadata": {},
   "outputs": [],
   "source": [
    "y.savefig('y.pdf')"
   ]
  },
  {
   "cell_type": "code",
   "execution_count": 6,
   "id": "ad6415ba-3b31-4d01-8e2b-b49f2e12f6d5",
   "metadata": {},
   "outputs": [
    {
     "data": {
      "image/png": "[encoded data removed]",
      "text/plain": [
       "<Figure size 185.453x117.056 with 1 Axes>"
      ]
     },
     "execution_count": 6,
     "metadata": {},
     "output_type": "execute_result"
    }
   ],
   "source": [
    "qc = QuantumCircuit(1,0)\n",
    "qc.z(0)\n",
    "z = qc.draw('mpl')\n",
    "z"
   ]
  },
  {
   "cell_type": "code",
   "execution_count": 92,
   "id": "4de70f04-e7fd-49b0-91a0-28c8eedf81b6",
   "metadata": {},
   "outputs": [],
   "source": [
    "z.savefig('z.pdf')"
   ]
  },
  {
   "cell_type": "code",
   "execution_count": 11,
   "id": "c0a8cd1d-7cb2-4ce9-8f53-793c950aefb3",
   "metadata": {},
   "outputs": [
    {
     "data": {
      "text/latex": [
       "$$\n",
       "\n",
       "\\begin{bmatrix}\n",
       "1 & 0  \\\\\n",
       " 0 & -1  \\\\\n",
       " \\end{bmatrix}\n",
       "$$"
      ],
      "text/plain": [
       "<IPython.core.display.Latex object>"
      ]
     },
     "execution_count": 11,
     "metadata": {},
     "output_type": "execute_result"
    }
   ],
   "source": [
    "Operator(qc).draw('latex')"
   ]
  },
  {
   "cell_type": "code",
   "execution_count": 79,
   "id": "8a5cd114-25f9-4992-a0cd-f58f374d6f6a",
   "metadata": {},
   "outputs": [],
   "source": [
    "cnot.savefig('cnot.pdf')"
   ]
  },
  {
   "cell_type": "markdown",
   "id": "3189e75c-49d2-4a08-9f70-bad221ddf422",
   "metadata": {},
   "source": [
    "\\begin{align}\n",
    "    R_x(\\theta) & = e^{-\\frac{i}{2}\\theta X} =\\cos\\frac{\\theta}{2}-i X \\sin\\frac{\\theta}{2},\\notag\\\\\n",
    "    R_y(\\theta) & = e^{-\\frac{i}{2}\\theta Y} =\\cos\\frac{\\theta}{2}-i Y \\sin\\frac{\\theta}{2},\\notag\\\\\n",
    "    R_z(\\theta) & = e^{-\\frac{i}{2}\\theta Z} =\\cos\\frac{\\theta}{2}-i Z \\sin\\frac{\\theta}{2}.\n",
    "    \\end{align}"
   ]
  },
  {
   "cell_type": "code",
   "execution_count": 12,
   "id": "642ebee0-d4df-4772-9706-776841b850de",
   "metadata": {},
   "outputs": [
    {
     "data": {
      "image/png": "[encoded data removed]",
      "text/plain": [
       "<Figure size 185.453x117.056 with 1 Axes>"
      ]
     },
     "execution_count": 12,
     "metadata": {},
     "output_type": "execute_result"
    }
   ],
   "source": [
    "qc = QuantumCircuit(1)\n",
    "\n",
    "# Define the rotation angle (theta)\n",
    "theta = 1.57  # Example: pi/2 radians\n",
    "\n",
    "# Apply the Rx rotation gate\n",
    "θ = Parameter('θ')\n",
    "qc.rx(θ, 0)\n",
    "rx = qc.draw('mpl')\n",
    "rx"
   ]
  },
  {
   "cell_type": "code",
   "execution_count": 12,
   "id": "00a22695-1254-4743-82dc-189837e3e337",
   "metadata": {},
   "outputs": [],
   "source": [
    "rx.savefig('rx.pdf')"
   ]
  },
  {
   "cell_type": "code",
   "execution_count": 7,
   "id": "619635a1-b528-4951-b2a3-b199dbaea2c8",
   "metadata": {},
   "outputs": [
    {
     "data": {
      "image/png": "[encoded data removed]",
      "text/plain": [
       "<Figure size 185.453x117.056 with 1 Axes>"
      ]
     },
     "execution_count": 7,
     "metadata": {},
     "output_type": "execute_result"
    }
   ],
   "source": [
    "qc = QuantumCircuit(1)\n",
    "\n",
    "# Define the rotation angle (theta)\n",
    "θ = Parameter('θ')\n",
    "qc.ry(θ, 0)\n",
    "\n",
    "# Visualize the circuit\n",
    "ry = qc.draw('mpl')\n",
    "ry"
   ]
  },
  {
   "cell_type": "code",
   "execution_count": 14,
   "id": "f288fba0-0719-48c4-b063-8974aae5cace",
   "metadata": {},
   "outputs": [],
   "source": [
    "ry.savefig('ry.pdf')"
   ]
  },
  {
   "cell_type": "code",
   "execution_count": 8,
   "id": "60b39aa5-6de3-4487-b5ad-388841ee311c",
   "metadata": {},
   "outputs": [
    {
     "data": {
      "image/png": "[encoded data removed]",
      "text/plain": [
       "<Figure size 185.453x117.056 with 1 Axes>"
      ]
     },
     "execution_count": 8,
     "metadata": {},
     "output_type": "execute_result"
    }
   ],
   "source": [
    "qc = QuantumCircuit(1)\n",
    "\n",
    "# Define the rotation angle (theta)\n",
    "θ = Parameter('θ')\n",
    "qc.rz(θ, 0)\n",
    "\n",
    "# Visualize the circuit\n",
    "rz = qc.draw('mpl')\n",
    "rz"
   ]
  },
  {
   "cell_type": "code",
   "execution_count": 10,
   "id": "b56ec492-423b-4338-85c9-f24ce483e673",
   "metadata": {},
   "outputs": [
    {
     "data": {
      "text/latex": [
       "$$\n",
       "\n",
       "\\begin{bmatrix}\n",
       "\\frac{\\sqrt{2}}{2} - \\frac{\\sqrt{2} i}{2} & 0  \\\\\n",
       " 0 & \\frac{\\sqrt{2}}{2} + \\frac{\\sqrt{2} i}{2}  \\\\\n",
       " \\end{bmatrix}\n",
       "$$"
      ],
      "text/plain": [
       "<IPython.core.display.Latex object>"
      ]
     },
     "execution_count": 10,
     "metadata": {},
     "output_type": "execute_result"
    }
   ],
   "source": [
    "rz_gate = Operator(qc.assign_parameters({θ: np.pi/2}))\n",
    "rz_gate.draw('latex')"
   ]
  },
  {
   "cell_type": "code",
   "execution_count": 11,
   "id": "1293f106-ca1e-4ae9-b293-64905793b8e3",
   "metadata": {},
   "outputs": [
    {
     "data": {
      "text/plain": [
       "array([[0.+0.j, 0.+0.j],\n",
       "       [0.+0.j, 0.+0.j]])"
      ]
     },
     "execution_count": 11,
     "metadata": {},
     "output_type": "execute_result"
    }
   ],
   "source": [
    "theta = np.pi/2\n",
    "np.cos(theta/2)*np.identity(2) - 1.0j*np.sin(theta/2)*np.array([[1.0, 0.0], [0.0, -1.0]])-rz_gate.data"
   ]
  },
  {
   "cell_type": "code",
   "execution_count": 16,
   "id": "4b2e7fee-6bdc-488f-b8f3-b341c2706128",
   "metadata": {},
   "outputs": [],
   "source": [
    "rz.savefig('rz.pdf')"
   ]
  },
  {
   "cell_type": "code",
   "execution_count": 12,
   "id": "8bca198e-468d-430f-b6d7-2d8e20860ded",
   "metadata": {},
   "outputs": [
    {
     "data": {
      "image/png": "[encoded data removed]",
      "text/plain": [
       "<Figure size 185.453x117.056 with 1 Axes>"
      ]
     },
     "execution_count": 12,
     "metadata": {},
     "output_type": "execute_result"
    }
   ],
   "source": [
    "qc = QuantumCircuit(1)\n",
    "\n",
    "qc.h(0)\n",
    "\n",
    "h_gate = Operator(qc)\n",
    "h = qc.draw('mpl')\n",
    "h"
   ]
  },
  {
   "cell_type": "code",
   "execution_count": 29,
   "id": "e1a2927b-3190-4e66-be72-66ac8f5f8431",
   "metadata": {},
   "outputs": [
    {
     "data": {
      "text/latex": [
       "$$\n",
       "\n",
       "\\begin{bmatrix}\n",
       "\\frac{\\sqrt{2}}{2} & \\frac{\\sqrt{2}}{2}  \\\\\n",
       " \\frac{\\sqrt{2}}{2} & - \\frac{\\sqrt{2}}{2}  \\\\\n",
       " \\end{bmatrix}\n",
       "$$"
      ],
      "text/plain": [
       "<IPython.core.display.Latex object>"
      ]
     },
     "execution_count": 29,
     "metadata": {},
     "output_type": "execute_result"
    }
   ],
   "source": [
    "h_gate.draw('latex')"
   ]
  },
  {
   "cell_type": "code",
   "execution_count": 18,
   "id": "3c38592f-4be2-4d06-b314-5a86e5744a64",
   "metadata": {},
   "outputs": [],
   "source": [
    "h.savefig('h.pdf')"
   ]
  },
  {
   "cell_type": "code",
   "execution_count": 13,
   "id": "817c4baa-4850-4ce2-9d67-102f18d556fd",
   "metadata": {},
   "outputs": [
    {
     "data": {
      "image/png": "[encoded data removed]",
      "text/plain": [
       "<Figure size 185.453x117.056 with 1 Axes>"
      ]
     },
     "execution_count": 13,
     "metadata": {},
     "output_type": "execute_result"
    }
   ],
   "source": [
    "qc = QuantumCircuit(1)\n",
    "\n",
    "# Define the rotation angle (theta)\n",
    "theta = 1.57  # Example: pi/2 radians\n",
    "\n",
    "# Apply the Rx rotation gate\n",
    "qc.t(0)\n",
    "t_gate = Operator(qc)\n",
    "\n",
    "t = qc.draw('mpl')\n",
    "t"
   ]
  },
  {
   "cell_type": "code",
   "execution_count": 33,
   "id": "acdfea1a-41e4-4019-a770-2c589a308796",
   "metadata": {},
   "outputs": [
    {
     "data": {
      "text/latex": [
       "$$\n",
       "\n",
       "\\begin{bmatrix}\n",
       "1 & 0  \\\\\n",
       " 0 & \\frac{\\sqrt{2}}{2} + \\frac{\\sqrt{2} i}{2}  \\\\\n",
       " \\end{bmatrix}\n",
       "$$"
      ],
      "text/plain": [
       "<IPython.core.display.Latex object>"
      ]
     },
     "execution_count": 33,
     "metadata": {},
     "output_type": "execute_result"
    }
   ],
   "source": [
    "t_gate.draw('latex')"
   ]
  },
  {
   "cell_type": "code",
   "execution_count": 24,
   "id": "4ad224e4-8fda-43ef-9954-9b934fae6881",
   "metadata": {},
   "outputs": [],
   "source": [
    "t.savefig('t.pdf')"
   ]
  },
  {
   "cell_type": "code",
   "execution_count": 14,
   "id": "2f675060-4ba0-4d3b-a46f-f7f343b3d56e",
   "metadata": {},
   "outputs": [
    {
     "data": {
      "image/png": "[encoded data removed]",
      "text/plain": [
       "<Figure size 185.453x117.056 with 1 Axes>"
      ]
     },
     "execution_count": 14,
     "metadata": {},
     "output_type": "execute_result"
    }
   ],
   "source": [
    "qc = QuantumCircuit(1)\n",
    "\n",
    "# Define the rotation angle (theta)\n",
    "theta = 1.57  # Example: pi/2 radians\n",
    "\n",
    "# Apply the Rx rotation gate\n",
    "qc.s(0)\n",
    "\n",
    "s_gate = Operator(qc)\n",
    "s = qc.draw('mpl')\n",
    "s"
   ]
  },
  {
   "cell_type": "code",
   "execution_count": 35,
   "id": "e0d4e99f-d15c-4560-9f92-9129c069c081",
   "metadata": {},
   "outputs": [
    {
     "data": {
      "text/latex": [
       "$$\n",
       "\n",
       "\\begin{bmatrix}\n",
       "1 & 0  \\\\\n",
       " 0 & i  \\\\\n",
       " \\end{bmatrix}\n",
       "$$"
      ],
      "text/plain": [
       "<IPython.core.display.Latex object>"
      ]
     },
     "execution_count": 35,
     "metadata": {},
     "output_type": "execute_result"
    }
   ],
   "source": [
    "s_gate.draw('latex')"
   ]
  },
  {
   "cell_type": "code",
   "execution_count": 25,
   "id": "cf488155-d317-42e8-ab94-eeea7b098393",
   "metadata": {},
   "outputs": [],
   "source": [
    "s.savefig('s.pdf')"
   ]
  },
  {
   "cell_type": "markdown",
   "id": "9325fe74-382d-4fff-9974-d949f21ca448",
   "metadata": {},
   "source": [
    "Let us start with $|0\\rangle$, and prepare a state using the rotation operators:\n",
    "\\begin{align}\n",
    "    |\\psi\\rangle = R_z(\\phi) R_y(\\theta)|0\\rangle = e^{-\\frac{i}{2}\\phi}[ \\cos({\\theta}/{2})|0\\rangle + e^{i\\phi}\\sin{\\theta}/{2}|1\\rangle ],\n",
    "\\end{align}\n",
    "which is indistinguishable from $|\\psi\\rangle=\\cos({\\theta}/{2})|0\\rangle + e^{i\\phi}\\sin{\\theta}/{2}|1\\rangle$. Such a state can be conveniently represented as a point on the surface of a sphere with a radius of 1, known as the **Bloch sphere**. The polar angle, $\\theta$, corresponds to the angle between the Bloch vector (which points from the origin to the point) and the $z$-axis, while the azimuthal angle, $\\phi$, represents the angle between the projection of the Bloch vector onto the $x$-$y$ plane and the $x$-axis. The Bloch sphere for one qubit can be produced by the following code:\n"
   ]
  },
  {
   "cell_type": "code",
   "execution_count": 15,
   "id": "bad48e0f-88f4-4df2-b625-94faed1286a0",
   "metadata": {},
   "outputs": [
    {
     "data": {
      "image/png": "[encoded data removed]",
      "text/plain": [
       "<Figure size 480x480 with 1 Axes>"
      ]
     },
     "execution_count": 15,
     "metadata": {},
     "output_type": "execute_result"
    }
   ],
   "source": [
    "# Create a quantum circuit with one qubit\n",
    "qc = QuantumCircuit(1)\n",
    "\n",
    "# Apply gates to set the qubit's state (adjust these gates to experiment)\n",
    "theta = np.pi/5\n",
    "phi = np.pi/3\n",
    "qc.ry(theta, 0)\n",
    "qc.rz(phi, 0)\n",
    "\n",
    "# Get the statevector of the qubit\n",
    "state = Statevector.from_instruction(qc)\n",
    "\n",
    "# Visualize the state on the Bloch sphere\n",
    "bs = plot_bloch_multivector(state.data)\n",
    "bs"
   ]
  },
  {
   "cell_type": "markdown",
   "id": "307be27d-c14c-48c8-a679-b35aaaf851c2",
   "metadata": {},
   "source": [
    "### 2.1.3 Two-qubit gates\n",
    "\n",
    "The **CNOT gate** is a critical operator in quantum computing. It operates on two input qubits, known as the **control qubit** and **target qubit**. Specifically, if the control qubit is in the state $|1\\rangle$, the target qubit is flipped; otherwise, the target qubit remains unchanged. When the control qubit is the leftmost (MSB), the CNOT gate is represented as:\n",
    "\\begin{align}\n",
    "\\text{CNOT} = |0\\rangle\\langle0| \\otimes \\mathbb{1} + |1\\rangle\\langle1| \\otimes X\n",
    "\\end{align}\n"
   ]
  },
  {
   "cell_type": "code",
   "execution_count": 16,
   "id": "0798583c-bf23-4234-b747-a2a1caf6de4b",
   "metadata": {},
   "outputs": [
    {
     "data": {
      "image/png": "[encoded data removed]",
      "text/plain": [
       "<Figure size 229.923x200.667 with 1 Axes>"
      ]
     },
     "execution_count": 16,
     "metadata": {},
     "output_type": "execute_result"
    }
   ],
   "source": [
    "lsb, msb = QuantumRegister(1, 'LSB'), QuantumRegister(1, 'MSB')\n",
    "qc = QuantumCircuit(lsb, msb)\n",
    "qc.cx(msb, lsb)\n",
    "\n",
    "cnot_gate = Operator(qc)\n",
    "cnot = qc.draw('mpl')\n",
    "cnot"
   ]
  },
  {
   "cell_type": "code",
   "execution_count": 38,
   "id": "815de138-e46b-4a0b-b571-769c2fecb919",
   "metadata": {},
   "outputs": [
    {
     "data": {
      "text/latex": [
       "$$\n",
       "\n",
       "\\begin{bmatrix}\n",
       "1 & 0 & 0 & 0  \\\\\n",
       " 0 & 1 & 0 & 0  \\\\\n",
       " 0 & 0 & 0 & 1  \\\\\n",
       " 0 & 0 & 1 & 0  \\\\\n",
       " \\end{bmatrix}\n",
       "$$"
      ],
      "text/plain": [
       "<IPython.core.display.Latex object>"
      ]
     },
     "execution_count": 38,
     "metadata": {},
     "output_type": "execute_result"
    }
   ],
   "source": [
    "cnot_gate.draw('latex')"
   ]
  },
  {
   "cell_type": "code",
   "execution_count": 45,
   "id": "90994ea2-ac57-40f2-b346-ecefbe9c561e",
   "metadata": {},
   "outputs": [
    {
     "data": {
      "text/plain": [
       "array([[0.+0.j, 0.+0.j, 0.+0.j, 0.+0.j],\n",
       "       [0.+0.j, 0.+0.j, 0.+0.j, 0.+0.j],\n",
       "       [0.+0.j, 0.+0.j, 0.+0.j, 0.+0.j],\n",
       "       [0.+0.j, 0.+0.j, 0.+0.j, 0.+0.j]])"
      ]
     },
     "execution_count": 45,
     "metadata": {},
     "output_type": "execute_result"
    }
   ],
   "source": [
    "c0 = np.array([[1], [0]])\n",
    "c1 = np.array([[0], [1]])\n",
    "x = np.kron(c0, c1.T) + np.kron(c1, c0.T)\n",
    "\n",
    "np.kron(np.kron(c0, c0.T), np.identity(2)) + np.kron(np.kron(c1, c1.T), x) - cnot_gate.data"
   ]
  },
  {
   "cell_type": "code",
   "execution_count": null,
   "id": "5cb0bb25-6a3c-4da6-a218-af5e9972bbcc",
   "metadata": {},
   "outputs": [],
   "source": [
    "cnot.savefig('cnot.pdf')"
   ]
  },
  {
   "cell_type": "markdown",
   "id": "5b267a21-47e5-4351-b46b-b10da62e33a8",
   "metadata": {},
   "source": [
    "If we need to specify the control ($i$) and target ($j$) qubits of a CNOT gate, we use the notation $(\\text{C}_i\\text{X}_j)$. This gate can be used to create entanglement between two qubits.\n",
    "\n",
    "Similarly, one can defined **controlled-Z (CZ) gate**:"
   ]
  },
  {
   "cell_type": "code",
   "execution_count": 17,
   "id": "34fa13c3-f84c-48e8-bd8b-392608001230",
   "metadata": {},
   "outputs": [
    {
     "data": {
      "image/png": "[encoded data removed]",
      "text/plain": [
       "<Figure size 229.923x200.667 with 1 Axes>"
      ]
     },
     "execution_count": 17,
     "metadata": {},
     "output_type": "execute_result"
    }
   ],
   "source": [
    "lsb, msb = QuantumRegister(1, 'LSB'), QuantumRegister(1, 'MSB')\n",
    "qc = QuantumCircuit(lsb, msb)\n",
    "qc.cz(msb, lsb)\n",
    "\n",
    "cz_gate = Operator(qc)\n",
    "cz = qc.draw('mpl')\n",
    "cz"
   ]
  },
  {
   "cell_type": "code",
   "execution_count": 47,
   "id": "a1d6e538-7f50-44cc-86bf-0cdf4e0da775",
   "metadata": {},
   "outputs": [
    {
     "data": {
      "text/latex": [
       "$$\n",
       "\n",
       "\\begin{bmatrix}\n",
       "1 & 0 & 0 & 0  \\\\\n",
       " 0 & 1 & 0 & 0  \\\\\n",
       " 0 & 0 & 1 & 0  \\\\\n",
       " 0 & 0 & 0 & -1  \\\\\n",
       " \\end{bmatrix}\n",
       "$$"
      ],
      "text/plain": [
       "<IPython.core.display.Latex object>"
      ]
     },
     "execution_count": 47,
     "metadata": {},
     "output_type": "execute_result"
    }
   ],
   "source": [
    "cz_gate.draw('latex')"
   ]
  },
  {
   "cell_type": "code",
   "execution_count": 6,
   "id": "afe72a3f-3d8b-4e0e-b6b6-054417a283b0",
   "metadata": {},
   "outputs": [],
   "source": [
    "cz.savefig('cz.pdf')"
   ]
  },
  {
   "cell_type": "code",
   "execution_count": 18,
   "id": "b3d25b14-e84e-4aac-a0d4-99611a6f61b4",
   "metadata": {},
   "outputs": [
    {
     "data": {
      "image/png": "[encoded data removed]",
      "text/plain": [
       "<Figure size 370.906x200.667 with 1 Axes>"
      ]
     },
     "execution_count": 18,
     "metadata": {},
     "output_type": "execute_result"
    }
   ],
   "source": [
    "qc = QuantumCircuit(2)\n",
    "qc.h(0)\n",
    "qc.cx(1, 0)\n",
    "qc.h(0)\n",
    "cz = qc.draw('mpl')\n",
    "cz"
   ]
  },
  {
   "cell_type": "code",
   "execution_count": 19,
   "id": "3f1f3d67-0070-425e-b692-f24ad97d96f1",
   "metadata": {},
   "outputs": [
    {
     "data": {
      "text/latex": [
       "$$\n",
       "\n",
       "\\begin{bmatrix}\n",
       "1 & 0 & 0 & 0  \\\\\n",
       " 0 & 1 & 0 & 0  \\\\\n",
       " 0 & 0 & 1 & 0  \\\\\n",
       " 0 & 0 & 0 & -1  \\\\\n",
       " \\end{bmatrix}\n",
       "$$"
      ],
      "text/plain": [
       "<IPython.core.display.Latex object>"
      ]
     },
     "execution_count": 19,
     "metadata": {},
     "output_type": "execute_result"
    }
   ],
   "source": [
    "Operator(qc).draw('latex')"
   ]
  },
  {
   "cell_type": "code",
   "execution_count": null,
   "id": "47ce8890-3a4c-4d70-8129-d95fa0a4311b",
   "metadata": {},
   "outputs": [],
   "source": [
    "cz.savefig('cz_from_cnot.pdf')"
   ]
  },
  {
   "cell_type": "markdown",
   "id": "e6136813-30a3-4874-bdf3-704958e6d2d2",
   "metadata": {},
   "source": [
    "The **SWAP gate**:"
   ]
  },
  {
   "cell_type": "code",
   "execution_count": 20,
   "id": "447eb553-fcb9-4992-8932-4fa1ecfbd1f0",
   "metadata": {},
   "outputs": [
    {
     "data": {
      "image/png": "[encoded data removed]",
      "text/plain": [
       "<Figure size 203.683x200.667 with 1 Axes>"
      ]
     },
     "execution_count": 20,
     "metadata": {},
     "output_type": "execute_result"
    }
   ],
   "source": [
    "# Create a quantum circuit with two qubits\n",
    "qc = QuantumCircuit(2)\n",
    "\n",
    "# Apply the SWAP gate\n",
    "qc.swap(0, 1)\n",
    "\n",
    "# Extract and print the SWAP gate matrix\n",
    "swap_matrix = Operator(qc)\n",
    "\n",
    "# Visualize the circuit\n",
    "swap = qc.draw('mpl')\n",
    "swap"
   ]
  },
  {
   "cell_type": "code",
   "execution_count": 49,
   "id": "4a261751-8568-4ce9-a3db-1918283caebb",
   "metadata": {},
   "outputs": [
    {
     "data": {
      "text/latex": [
       "$$\n",
       "\n",
       "\\begin{bmatrix}\n",
       "1 & 0 & 0 & 0  \\\\\n",
       " 0 & 0 & 1 & 0  \\\\\n",
       " 0 & 1 & 0 & 0  \\\\\n",
       " 0 & 0 & 0 & 1  \\\\\n",
       " \\end{bmatrix}\n",
       "$$"
      ],
      "text/plain": [
       "<IPython.core.display.Latex object>"
      ]
     },
     "execution_count": 49,
     "metadata": {},
     "output_type": "execute_result"
    }
   ],
   "source": [
    "swap_matrix.draw('latex')"
   ]
  },
  {
   "cell_type": "code",
   "execution_count": 9,
   "id": "180c0af9-9d3b-48e6-b4b2-81af95ba9ce3",
   "metadata": {},
   "outputs": [],
   "source": [
    "swap.savefig('swap.pdf')"
   ]
  },
  {
   "cell_type": "code",
   "execution_count": 21,
   "id": "0c28ea71-88e1-4788-a88e-5001d6c9beeb",
   "metadata": {},
   "outputs": [
    {
     "data": {
      "image/png": "[encoded data removed]",
      "text/plain": [
       "<Figure size 370.906x200.667 with 1 Axes>"
      ]
     },
     "execution_count": 21,
     "metadata": {},
     "output_type": "execute_result"
    }
   ],
   "source": [
    "qc = QuantumCircuit(2)\n",
    "qc.cx(0, 1)\n",
    "qc.cx(1, 0)\n",
    "qc.cx(0, 1)\n",
    "swap = qc.draw('mpl')\n",
    "swap"
   ]
  },
  {
   "cell_type": "code",
   "execution_count": 22,
   "id": "dc4c2501-9a94-45f4-aa39-b2b7d4018d7a",
   "metadata": {},
   "outputs": [
    {
     "data": {
      "text/latex": [
       "$$\n",
       "\n",
       "\\begin{bmatrix}\n",
       "1 & 0 & 0 & 0  \\\\\n",
       " 0 & 0 & 1 & 0  \\\\\n",
       " 0 & 1 & 0 & 0  \\\\\n",
       " 0 & 0 & 0 & 1  \\\\\n",
       " \\end{bmatrix}\n",
       "$$"
      ],
      "text/plain": [
       "<IPython.core.display.Latex object>"
      ]
     },
     "execution_count": 22,
     "metadata": {},
     "output_type": "execute_result"
    }
   ],
   "source": [
    "Operator(qc).draw('latex')"
   ]
  },
  {
   "cell_type": "code",
   "execution_count": null,
   "id": "58e0e66c-310a-4307-bc91-b57a619d962a",
   "metadata": {},
   "outputs": [],
   "source": [
    "swap.savefig('swap_from_cnot.pdf')"
   ]
  },
  {
   "cell_type": "markdown",
   "id": "d6e1ef88-5d7c-4fb2-bcb7-6e31446b3461",
   "metadata": {},
   "source": [
    "### 2.1.4 Measurement\n",
    "\n",
    "Measurement is a fundamental concept in quantum computing, serving as the primary mechanism for extracting information from quantum systems. Unlike classical systems, where a system's state can be observed without alteration, quantum measurement is inherently probabilistic and inevitably affects the state being measured. Upon measurement, the wave function of a quantum system collapses into an eigenstate of the corresponding Hermitian operator, making measurement an irreversible operation.\\footnote{Decoherence can be understood as the undesired interaction between a quantum system and its environment, effectively acting as an unintended measurement of the system's state.}\n",
    "\n",
    "In more detail, one can identify **a complete set of commuting observables** (Hermitian operators), whose eigenstates, denoted as $|m\\rangle$, form a complete basis for the system's Hilbert space. Specifically, this completeness is expressed as\n",
    "\\begin{equation}\n",
    "    \\sum\\limits_m |m\\rangle\\langle m| = \\mathbb{1}.\n",
    "\\end{equation}\n",
    "After measurement, the state of the system collapses into one of these eigenstates, given by\n",
    "\\begin{equation}\n",
    "    \\frac{|m\\rangle\\langle m|\\psi\\rangle}{\\sqrt{\\langle\\psi|m\\rangle\\langle m|\\psi\\rangle}},\n",
    "\\end{equation}\n",
    "with a probability\n",
    "\\begin{equation}\n",
    "    p(m) = \\langle\\psi|m\\rangle\\langle m|\\psi\\rangle.\n",
    "\\end{equation}\n",
    "This is the **measurement postulate** of quantum mechanics.\n",
    "\n",
    "A classical measurement in the computational basis on a qubit collapse its state into either $|0\\rangle$ or $|1\\rangle$. In this case, one has the completeness relation $|0\\rangle\\langle 0| + |1\\rangle\\langle 1| = \\mathbb{1}$.  In circuit diagrams, this operation is represented by a meter symbol, commonly referred to as a **READOUT/measurement gate**. Note that a measurement of a single qubit in any basis can be achieved by performing a measurement in the computational basis, preceded and followed by appropriate unitary transformations."
   ]
  },
  {
   "cell_type": "code",
   "execution_count": 23,
   "id": "b9fe5200-31fc-40e8-b79b-5dfc101efb58",
   "metadata": {},
   "outputs": [
    {
     "data": {
      "image/png": "[encoded data removed]",
      "text/plain": [
       "<Figure size 303.717x367.889 with 1 Axes>"
      ]
     },
     "execution_count": 23,
     "metadata": {},
     "output_type": "execute_result"
    }
   ],
   "source": [
    "qbit, cbit = QuantumRegister(3, 'q'), ClassicalRegister(2, 'bits')\n",
    "qc = QuantumCircuit(qbit, cbit)\n",
    "qc.measure(qbit[:len(cbit)], cbit)\n",
    "me = qc.draw('mpl')\n",
    "me"
   ]
  },
  {
   "cell_type": "code",
   "execution_count": null,
   "id": "10d9c861-27dd-4920-981b-ec2fb635fd4a",
   "metadata": {},
   "outputs": [],
   "source": [
    "me.savefig('measure.pdf')"
   ]
  },
  {
   "cell_type": "code",
   "execution_count": 26,
   "id": "d7b67a8c-467a-410e-b8a7-627ea549b41d",
   "metadata": {},
   "outputs": [
    {
     "data": {
      "image/png": "[encoded data removed]",
      "text/plain": [
       "<Figure size 554.551x367.889 with 1 Axes>"
      ]
     },
     "execution_count": 26,
     "metadata": {},
     "output_type": "execute_result"
    }
   ],
   "source": [
    "qbit, cbit = QuantumRegister(3, 'q'), ClassicalRegister(3, 'bits')\n",
    "qc = QuantumCircuit(qbit, cbit)\n",
    "qc.x(0)\n",
    "qc.barrier()\n",
    "qc.measure(qbit[:len(cbit)], cbit)\n",
    "me = qc.draw('mpl')\n",
    "me"
   ]
  },
  {
   "cell_type": "code",
   "execution_count": 24,
   "id": "c0e6b0b9-3861-474d-ae3b-6c326a1a6e5a",
   "metadata": {},
   "outputs": [],
   "source": [
    "from qiskit.providers.basic_provider import BasicSimulator\n",
    "from qiskit.primitives import StatevectorSampler"
   ]
  },
  {
   "cell_type": "code",
   "execution_count": 27,
   "id": "484fc5a3-3cda-4927-b1d6-f57d6f6135eb",
   "metadata": {},
   "outputs": [
    {
     "name": "stdout",
     "output_type": "stream",
     "text": [
      "{'001': 1}\n"
     ]
    }
   ],
   "source": [
    "simulator = BasicSimulator()\n",
    "sampler = StatevectorSampler()\n",
    "\n",
    "probs = simulator.run(qc, shots=1).result()\n",
    "print(probs.get_counts())"
   ]
  },
  {
   "cell_type": "markdown",
   "id": "3743ffd6-159d-47d8-8d2e-66386f68d6c0",
   "metadata": {},
   "source": [
    "### 2.1.5 Universal Quantum Gates\n",
    "\n",
    "A set of quantum gates is considered **universal** for quantum computation if it can be used to approximate any unitary operation to arbitrary accuracy. There are different universality constructions for quantum computing:\n",
    "\n",
    "**Universality Theorem**\n",
    "\n",
    "The set $\\{R_x(\\theta), R_y(\\theta),R_z(\\theta), CNOT\\}$ is universal. In the worst case, the number of gates in the decomposition scales as $O(n^3 4^n)$ [ https://arxiv.org/abs/quant-ph/9503016 ].  It is worth noting that a decomposition requiring $O(4^n)$ CNOT gates was derived in [ https://journals.aps.org/prl/abstract/10.1103/PhysRevLett.93.130502 ].\n",
    "\n",
    "We outline the proof below:\n",
    "\n",
    "#### Step 1: Two-level unitary gates are universal\n",
    "\n",
    "Let us start with a $d \\times d$ unitary matrix $A_d$, whose elements are denoted by $a_{ij}$. Find the smallest value of $j > 1$ such that $a_{j1} \\neq 0$. This element can be set to zero by multiplying $A_d$ with a two-level unitary matrix given by:\n",
    "\n",
    "$$\n",
    "U^\\dagger = \n",
    "\\begin{pmatrix}\n",
    "    \\frac{a_{11}^*}{\\sqrt{|a_{11}|^2 + |a_{j1}|^2}} & \\mathbb{0} & \\frac{a_{j1}^*}{\\sqrt{|a_{11}|^2 + |a_{j1}|^2}} & \\mathbb{0} \\\\\n",
    "    \\mathbb{0} & \\mathbb{1}_{j-2} & \\mathbb{0} & \\mathbb{0} \\\\\n",
    "    \\frac{a_{j1}}{\\sqrt{|a_{11}|^2 + |a_{j1}|^2}} & \\mathbb{0} & \\frac{-a_{11}}{\\sqrt{|a_{11}|^2 + |a_{j1}|^2}} & \\mathbb{0} \\\\\n",
    "    \\mathbb{0} & \\mathbb{0} & \\mathbb{0} & \\mathbb{1}_{d-j}\n",
    "\\end{pmatrix},\n",
    "$$\n",
    "\n",
    "where $\\mathbb{1}_d$ is the $d \\times d$ identity matrix, and $\\mathbb{0}$ denotes a matrix whose elements are all zero. \n",
    "\n",
    "In the worst-case scenario, $a_{j1} \\neq 0$ for all $j$. By iteratively applying these transformations, one obtains:\n",
    "\n",
    "$$\n",
    "U^\\dagger_{d-1} \\cdots U^\\dagger_{1} A_d = \n",
    "\\begin{pmatrix}\n",
    "    1 & \\mathbb{0} \\\\\n",
    "    \\mathbb{0} & A_{d-1}\n",
    "\\end{pmatrix},\n",
    "$$\n",
    "\n",
    "where $A_{d-1}$ is a $(d-1) \\times (d-1)$ unitary matrix. Repeating this process iteratively, we construct a sequence of $d(d-1)/2$ two-level unitary matrices:\n",
    "\n",
    "$$\n",
    "A_d = U_1 U_2 \\cdots U_{d(d-1)/2}.\n",
    "$$\n",
    "\n",
    "In an $n$-qubit system, $d = 2^n$, leading to a decomposition requiring $2^{n-1}(2^n - 1)$ two-level unitary matrices.\n",
    "\n",
    "#### Step 2: Single qubit and CNOT gates are universal\n",
    "\n",
    "A two-level unitary matrix $U$ represents a rotation in a two-dimensional subspace spanned by basis states $|i\\rangle$ and $|j\\rangle$, where $j > i$:\n",
    "\n",
    "$$\n",
    "U = \\mathbb{1} - (|i\\rangle\\langle i| + |j\\rangle\\langle j|) + \\tilde{U},\n",
    "$$\n",
    "\n",
    "where $\\tilde{U}$ is the non-trivial $2 \\times 2$ submatrix acting on this subspace.\n",
    "\n",
    "To construct a quantum circuit implementing $U$:\n",
    "\n",
    "1. Rotate $|i\\rangle$ to an intermediate state differing from $|j\\rangle$ by one qubit.\n",
    "2. Apply $\\tilde{U}$ using controlled operations.\n",
    "3. Rotate back to the original basis states.\n",
    "\n",
    "A **Gray code** can be used to determine intermediate states efficiently \\[Barenco:1995na\\]. Since two binary numbers can be connected in at most $O(n)$ steps, this implies at most $O(n)$ controlled operations are needed to implement $U$. Each controlled single-qubit gate can be decomposed into $\\{R_x(\\theta), R_y(\\theta), R_z(\\theta)\\}$ with $O(n^2)$ CNOT gates \\[Barenco:1995na\\]. More efficient decompositions exist [ https://arxiv.org/abs/0803.2316 ].\n",
    "\n",
    "**The Solovay-Kitaev Theorem**\n",
    "\n",
    "Any unitary operation can be approximated to arbitrary accuracy using the set \\{H, T, CNOT\\}.\n",
    "\n",
    "The Hadamard and T gates approximate any single-qubit unitary operation. The **Solovay-Kitaev theorem** states that an arbitrary single-qubit gate can be approximated to accuracy $\\epsilon$ using $O(\\log^c(1/\\epsilon))$ gates from this discrete set, where $c \\approx 2$. This ensures that even high-precision operations require only a manageable number of gates.\n",
    "\n",
    "In summary, **most unitary transformations cannot be implemented efficiently in general**, as they require an exponentially large number of operations: \n",
    "\n",
    "$$\n",
    "O(4^n) = O(e^{2n \\ln 2}).\n",
    "$$\n"
   ]
  },
  {
   "cell_type": "markdown",
   "id": "926c1c4b-84a5-48f1-9140-5da0c48735d9",
   "metadata": {},
   "source": [
    "### 2.1.6 State preparation\n",
    "\n",
    "Given a universal gate set that includes the CNOT gate, the complexity of quantum circuits is typically measured by the number of CNOT gates required due to the fact that the physical realization of CNOT gates is significantly more demanding compared to single-qubit gates. Minimizing the number of CNOT gates in a quantum circuit is crucial for improving its practical efficiency and reliability, particularly on NISQ devices.\n",
    "\n",
    "\n",
    "It is known that preparing a generic quantum state of $n$ qubits requires an exponential number of CNOT gates, scaling as $O(2^n)$ (see, e.g., https://journals.aps.org/pra/abstract/10.1103/PhysRevA.83.032302). A universal quantum computer starts with a definite initial state, such as $|00\\cdots 0\\rangle$, according to the Divincenzo criteria. In contrast, a generic $n$-qubit quantum state is described by $2^n$ complex coefficients (subject to a normalization constraint), which specify the amplitudes of all possible computational basis states.  The exponential scaling of resources, including the number of CNOT gates, reflects the fact that an arbitrary quantum state can encode exponentially many degrees of freedom.\n"
   ]
  },
  {
   "cell_type": "markdown",
   "id": "2c353e03-fafb-4662-b333-8dba3aa392a2",
   "metadata": {},
   "source": [
    "## 2.2 Simulations of quantum systems"
   ]
  },
  {
   "cell_type": "markdown",
   "id": "40dbcd22-99f1-453f-abda-913d2e480cc6",
   "metadata": {},
   "source": [
    "### 2.2.1 Time evolution of quantum systems\n",
    "\n",
    "**Schrödinger Picture**\n",
    "\n",
    "Consider a system whose dynamics are governed by a Hamiltonian operator $\\hat{H}$. In the **Schrödinger picture**, the **state vectors** (or wave functions) evolve over time, while the **operators** corresponding to physical observables remain unchanged. The time evolution of the state vector, $|\\psi(t)\\rangle$, is governed by the **Schrödinger equation**:\n",
    "\n",
    "$$\n",
    "i \\hbar \\frac{\\partial}{\\partial t} |\\psi(t)\\rangle = \\hat{H} |\\psi(t)\\rangle$$\n",
    "\n",
    "where $\\hbar$ represents the reduced Planck constant. For simplicity, we work in natural units where $\\hbar = 1$, and assume that the Hamiltonian operator $\\hat{H}$ is time-independent.\n",
    "\n",
    "**Evolution Operator**\n",
    "\n",
    "The **evolution operator**, $\\hat{U}(t)$, governs the time evolution of the quantum state. It is given by:\n",
    "\n",
    "$$\n",
    "\\hat{U}(t) = e^{-i \\hat{H} t}.\n",
    "$$\n",
    "\n",
    "The state at time $t$ is related to the initial state $|\\psi(0)\\rangle$ by:\n",
    "\n",
    "$$\n",
    "|\\psi(t)\\rangle = \\hat{U}(t) |\\psi(0)\\rangle\n",
    "$$\n",
    "\n",
    "Since $\\hat{H}$ is Hermitian, i.e., $\\hat{H}^\\dagger = \\hat{H}$, the evolution operator $\\hat{U}(t)$ is a unitary operator.\n",
    "\n",
    "**Quantum Simulation Steps**\n",
    "\n",
    "Simulation of a quantum system on universal quantum computers consists of the following steps:\n",
    "\n",
    "1. **State Preparation:** The initial state of the system, $ |\\psi(0)\\rangle$, is encoded using $ n$ qubits. This involves mapping the system's state vector onto a corresponding qubit-based representation that can be processed by the quantum computer.  \n",
    "\n",
    "2. **Time Evolution:** The evolution operator is typically decomposed (or approximated) into a sequence of quantum gates that form a quantum circuit. The system's wave function at time $ t$ is then computed according to the equation above.\n",
    "\n",
    "3. **Measurement:** Measurements are performed on the quantum state $|\\psi(t)\\rangle$ to extract information about the system, such as the expectation values of observables or other properties of interest. Since quantum measurements are probabilistic and inherently disturb the quantum state, multiple repetitions of the simulation are necessary to accurately estimate probability amplitudes.\n",
    "\n",
    "   To obtain precise estimates of observables like expectation values, the simulation must be repeated sufficiently to gather enough statistical data. The required number of repetitions depends on the variance of the observable and the desired precision. For instance, to ensure the error in an observable is less than $\\epsilon$, the number of measurements typically scales as $1/\\epsilon^2$, as dictated by statistical error analysis.\n"
   ]
  },
  {
   "cell_type": "markdown",
   "id": "c1fafc9f-6d11-45ef-bfd3-2ed51935f5d0",
   "metadata": {},
   "source": [
    "**Exercise 2.1:** \n",
    "\n",
    "First, prove that\n",
    "$$\n",
    "    e^{-i t Z\\otimes Z} = (C_1X_0)(e^{-i t \\mathbb{1}\\otimes Z)}(C_1X_0)  = (C_1X_0)(\\mathbb{1}\\otimes R_z(2t))(C_1X_0).\n",
    "$$\n",
    "Then, decompose $e^{-i t Z\\otimes Z\\otimes Z\\otimes Z}$ in terms of CNOT gates and single-qubit gates, and draw the corresponding circuit.\n"
   ]
  },
  {
   "cell_type": "markdown",
   "id": "054816cd-75e4-4c33-8c75-b9feab9bd7ee",
   "metadata": {},
   "source": [
    "**Example 2.1**\n",
    "\n",
    "Consider a two-spin system described by the Hamiltonian:  \n",
    "\\begin{align}\n",
    "    \\hat{H} = X \\otimes Y,\n",
    "\\end{align}\n",
    "with the initial state given by $|\\psi(0)\\rangle = |10\\rangle $.\n",
    "\n",
    "To implement $\\hat{U}(t)$ using circuits, one can write\n",
    "\\begin{align}\n",
    "    \\hat{U}(t) = A (C_1 X_0) e^{-it\\mathbb{1}\\otimes Z}(C_1X_0) A\n",
    "    ^\\dagger\n",
    "    = A (C_1 X_0) (\\mathbb{1}\\otimes R_z(2t))(C_1X_0) A\n",
    "    ^\\dagger\n",
    "\\end{align}\n",
    "with the unitary operator\n",
    "\\begin{align}\n",
    "    A \\equiv H\\otimes SH.\n",
    "\\end{align}"
   ]
  },
  {
   "cell_type": "code",
   "execution_count": 28,
   "id": "b2ea357e-1f48-430b-a45f-6f30b31fcbe0",
   "metadata": {},
   "outputs": [],
   "source": [
    "from qiskit import *\n",
    "from qiskit.visualization import *\n",
    "from qiskit.quantum_info import Operator\n",
    "import numpy as np\n",
    "from qiskit.providers.basic_provider import BasicSimulator"
   ]
  },
  {
   "cell_type": "markdown",
   "id": "fe1f3df6-3128-4daf-8f8c-6cef222ae5e4",
   "metadata": {},
   "source": [
    "### The circuit"
   ]
  },
  {
   "cell_type": "markdown",
   "id": "9e738cdf-0487-45f9-8361-06afb9b14a84",
   "metadata": {},
   "source": [
    "The evolution opeator:  $\\hat{U}(t) = e^{-i\\hat{H}t} = \\cos(t) - i \\sin(t) \\, X \\otimes Y$"
   ]
  },
  {
   "cell_type": "code",
   "execution_count": 29,
   "id": "2331edb1-178e-4c14-8ebf-e49a88b4ded3",
   "metadata": {},
   "outputs": [],
   "source": [
    "def U(t):\n",
    "    \"\"\"\n",
    "    return the evoltuion operator in the matrix form\n",
    "    \"\"\"\n",
    "    X = np.matrix([[0,1],[1,0]])\n",
    "    Y = np.matrix([[0,-1j],[1j,0]])\n",
    "    return np.cos(t)*np.identity(4) - 1.0j*np.sin(t)*np.kron(X, Y)"
   ]
  },
  {
   "cell_type": "markdown",
   "id": "a499c1c7-79f6-4dfe-b3af-26aff4bb4b7c",
   "metadata": {},
   "source": [
    "1. State preparation: $|\\psi(0)\\rangle = |10\\rangle $"
   ]
  },
  {
   "cell_type": "code",
   "execution_count": 30,
   "id": "5e8f3559-0ec6-4ba3-be70-d8e1ad23306c",
   "metadata": {},
   "outputs": [
    {
     "data": {
      "image/png": "[encoded data removed]",
      "text/plain": [
       "<Figure size 203.683x200.667 with 1 Axes>"
      ]
     },
     "execution_count": 30,
     "metadata": {},
     "output_type": "execute_result"
    }
   ],
   "source": [
    "# 1. State preparation\n",
    "\n",
    "psi0 = QuantumCircuit(2)\n",
    "psi0.x(1)\n",
    "\n",
    "psi0.draw('mpl')"
   ]
  },
  {
   "cell_type": "markdown",
   "id": "ec70d4d3-9052-4cd4-96c9-9e10fd9a79e0",
   "metadata": {},
   "source": [
    "2. time evolution using\n",
    "\\begin{align}\n",
    "    \\hat{U}(t) = A (C_1 X_0) e^{-it\\mathbb{1}\\otimes Z}(C_1X_0) A\n",
    "    ^\\dagger\n",
    "    = A (C_1 X_0) (\\mathbb{1}\\otimes R_z(2t))(C_1X_0) A\n",
    "    ^\\dagger\n",
    "\\end{align}\n",
    "with the unitary operator\n",
    "\\begin{align}\n",
    "    A \\equiv H\\otimes SH.\n",
    "\\end{align}"
   ]
  },
  {
   "cell_type": "code",
   "execution_count": 31,
   "id": "d96ceacf-5293-4fe2-9d2b-8ac7c6f45a29",
   "metadata": {},
   "outputs": [
    {
     "data": {
      "image/png": "[encoded data removed]",
      "text/plain": [
       "<Figure size 788.961x200.667 with 1 Axes>"
      ]
     },
     "execution_count": 31,
     "metadata": {},
     "output_type": "execute_result"
    }
   ],
   "source": [
    "# 2. Time evolution\n",
    "\n",
    "t = np.pi/5\n",
    "\n",
    "ut = QuantumCircuit(2)\n",
    "\n",
    "# A^\\dagger = H \\otimes H S^\\dagger = H Z S\n",
    "ut.h(1)\n",
    "ut.s(0)\n",
    "ut.z(0)\n",
    "ut.h(0)\n",
    "\n",
    "ut.cx(1, 0)\n",
    "ut.rz(2*t, 0)\n",
    "ut.cx(1, 0)\n",
    "\n",
    "# A = H \\otimes S H\n",
    "ut.h(1)\n",
    "ut.h(0)\n",
    "ut.s(0)\n",
    "\n",
    "ut.draw('mpl')"
   ]
  },
  {
   "cell_type": "code",
   "execution_count": 32,
   "id": "32198a81-9201-4cd1-b5c0-e37bf400fc65",
   "metadata": {},
   "outputs": [
    {
     "data": {
      "text/plain": [
       "matrix([[False, False, False, False],\n",
       "        [False, False, False, False],\n",
       "        [False, False, False, False],\n",
       "        [False, False, False, False]])"
      ]
     },
     "execution_count": 32,
     "metadata": {},
     "output_type": "execute_result"
    }
   ],
   "source": [
    "U_gate = Operator(ut).data\n",
    "np.abs(U_gate - U(t)) > 1e-15"
   ]
  },
  {
   "cell_type": "markdown",
   "id": "55c5a66d-8328-4060-9f07-e91d708bc04e",
   "metadata": {},
   "source": [
    "Measurement in the Bell basis is fulfilled by performing a \"sandwiched\" measurement in the computational basis between \\( B \\) and \\( B^\\dagger = (H \\otimes \\mathbb{1})(C_1 X_0) \\). The outputs: $00, 01, 10, 11$ correspond to $|\\phi^+\\rangle, |\\psi^+\\rangle, |\\phi^-\\rangle$ and $|\\psi^-\\rangle$, respectively."
   ]
  },
  {
   "cell_type": "code",
   "execution_count": 33,
   "id": "a5933e85-0e0b-4527-a485-9363562647a1",
   "metadata": {},
   "outputs": [
    {
     "data": {
      "image/png": "[encoded data removed]",
      "text/plain": [
       "<Figure size 621.739x284.278 with 1 Axes>"
      ]
     },
     "execution_count": 33,
     "metadata": {},
     "output_type": "execute_result"
    }
   ],
   "source": [
    "# 3. Measurement\n",
    "qbits, cbits = QuantumRegister(2, 'q'), ClassicalRegister(2, 'c')\n",
    "\n",
    "mea = QuantumCircuit(qbits, cbits)\n",
    "\n",
    "# B^\\dagger\n",
    "mea.cx(1, 0)\n",
    "mea.h(1)\n",
    "\n",
    "mea.measure(qbits, cbits)\n",
    "\n",
    "# B\n",
    "mea.h(1)\n",
    "mea.cx(1, 0)\n",
    "\n",
    "mea.draw('mpl')"
   ]
  },
  {
   "cell_type": "code",
   "execution_count": 34,
   "id": "9d73aa28-497f-48ef-8c27-0aef6481832c",
   "metadata": {},
   "outputs": [
    {
     "data": {
      "image/png": "[encoded data removed]",
      "text/plain": [
       "<Figure size 1541.46x284.278 with 1 Axes>"
      ]
     },
     "execution_count": 34,
     "metadata": {},
     "output_type": "execute_result"
    }
   ],
   "source": [
    "qc = psi0.copy()\n",
    "qc.barrier()\n",
    "qc = qc.compose(ut)\n",
    "qc.barrier()\n",
    "qc = qc.compose(mea)\n",
    "\n",
    "cplot = qc.draw('mpl')\n",
    "cplot"
   ]
  },
  {
   "cell_type": "code",
   "execution_count": 24,
   "id": "e2d4d8b6-f1e3-497c-a69d-3ff487c1a15e",
   "metadata": {},
   "outputs": [],
   "source": [
    "cplot.savefig('circuit_XY.pdf')"
   ]
  },
  {
   "cell_type": "markdown",
   "id": "d210641f-a28a-4154-be0b-f23bc239c385",
   "metadata": {},
   "source": [
    "### Execute on simulator"
   ]
  },
  {
   "cell_type": "code",
   "execution_count": 35,
   "id": "fd7c620f-d451-4970-bd51-8d0c3dae0dbf",
   "metadata": {},
   "outputs": [],
   "source": [
    "from qiskit_ibm_runtime import Sampler, QiskitRuntimeService"
   ]
  },
  {
   "cell_type": "code",
   "execution_count": 36,
   "id": "79f2f107-493a-410f-890f-bf61be0a2d67",
   "metadata": {},
   "outputs": [],
   "source": [
    "ss = 5120\n",
    "backend = BasicSimulator()\n",
    "job_simulator = backend.run(transpile(qc), shots=ss)\n",
    "result_simulator = job_simulator.result()"
   ]
  },
  {
   "cell_type": "code",
   "execution_count": 37,
   "id": "ed77ebac-778d-48a6-a1a5-e00d4aa26b5c",
   "metadata": {},
   "outputs": [
    {
     "name": "stdout",
     "output_type": "stream",
     "text": [
      "{'01': 4993, '11': 127}\n"
     ]
    }
   ],
   "source": [
    "counts = result_simulator.get_counts()\n",
    "print(counts)"
   ]
  },
  {
   "cell_type": "code",
   "execution_count": 38,
   "id": "846f96d1-743b-43b2-b1d2-92ce4df54f1c",
   "metadata": {},
   "outputs": [
    {
     "data": {
      "text/plain": [
       "(0.024471741852423234, 0.9755282581475768)"
      ]
     },
     "execution_count": 38,
     "metadata": {},
     "output_type": "execute_result"
    }
   ],
   "source": [
    "(1.0 - np.sin(2*t))/2.0, (1.0 + np.sin(2*t))/2.0"
   ]
  },
  {
   "cell_type": "code",
   "execution_count": 39,
   "id": "611e13c0-c879-4ec2-bb83-01a2abfca32a",
   "metadata": {},
   "outputs": [],
   "source": [
    "maps = {'00': r'$|\\phi^+\\rangle$', '01': r'$|\\psi^+\\rangle$', '10': r'$|\\phi^-\\rangle$', '11': r'$|\\psi^-\\rangle$'}"
   ]
  },
  {
   "cell_type": "code",
   "execution_count": 40,
   "id": "1cacb974-d422-403f-ad0f-b01577f2c1fb",
   "metadata": {},
   "outputs": [
    {
     "data": {
      "image/png": "[encoded data removed]",
      "text/plain": [
       "<Figure size 640x480 with 1 Axes>"
      ]
     },
     "execution_count": 40,
     "metadata": {},
     "output_type": "execute_result"
    }
   ],
   "source": [
    "results = {}\n",
    "for state in counts.keys():\n",
    "    results[maps[state]] = counts[state]/ss\n",
    "res = plot_histogram(results)\n",
    "res"
   ]
  },
  {
   "cell_type": "code",
   "execution_count": 154,
   "id": "fa063c73-ff02-4490-894d-9c2af645fefb",
   "metadata": {},
   "outputs": [],
   "source": [
    "res.savefig('results_XY_simulator.pdf')"
   ]
  },
  {
   "cell_type": "markdown",
   "id": "7fb13b97-a3a6-4307-99b8-062268bfd4de",
   "metadata": {},
   "source": [
    "### Execute on Quantum backend"
   ]
  },
  {
   "cell_type": "code",
   "execution_count": null,
   "id": "d9d624fe-81f2-4de2-85d6-2c3800c0af10",
   "metadata": {},
   "outputs": [],
   "source": [
    "QiskitRuntimeService.save_account(\n",
    "    token='9cabcfcc5e97e81690870dec6da2366416e2529ba0207644ce0380a587e4cd08564ff23336e3249849fe61800013a7b1c3ec7d29325a3e1f24c447e8d0f94bc4',\n",
    "    channel='ibm_quantum',\n",
    "    overwrite=True\n",
    ")"
   ]
  },
  {
   "cell_type": "code",
   "execution_count": 14,
   "id": "bff469f2-263b-4ff4-8bd2-afbfbf4d4187",
   "metadata": {},
   "outputs": [],
   "source": [
    "provider = QiskitRuntimeService()"
   ]
  },
  {
   "cell_type": "code",
   "execution_count": 15,
   "id": "573f10e4-d363-46e8-91b2-21dd9c8225db",
   "metadata": {},
   "outputs": [
    {
     "data": {
      "text/plain": [
       "[<IBMBackend('ibm_brisbane')>,\n",
       " <IBMBackend('ibm_kyiv')>,\n",
       " <IBMBackend('ibm_sherbrooke')>]"
      ]
     },
     "execution_count": 15,
     "metadata": {},
     "output_type": "execute_result"
    }
   ],
   "source": [
    "provider.backends()"
   ]
  },
  {
   "cell_type": "code",
   "execution_count": 19,
   "id": "fdba9ca7-a92e-4fd1-b908-961e37827096",
   "metadata": {},
   "outputs": [],
   "source": [
    "backend_QC = provider.backend('ibm_brisbane')\n",
    "sampler_qc = Sampler(backend_QC)"
   ]
  },
  {
   "cell_type": "code",
   "execution_count": 20,
   "id": "543bdd5c-a1ae-4c2b-bd2c-3c36ba27a70e",
   "metadata": {},
   "outputs": [],
   "source": [
    "pub = (transpile(qc, backend=backend_QC), None, ss)\n",
    "job_QC = sampler_qc.run([pub])\n",
    "result_QC = job_QC.result()"
   ]
  },
  {
   "cell_type": "code",
   "execution_count": 22,
   "id": "a02a25af-936f-4002-ae2e-7d6015968cbc",
   "metadata": {},
   "outputs": [
    {
     "data": {
      "text/plain": [
       "<RuntimeJobV2('cy1bsc5rta1g0086p240', 'sampler')>"
      ]
     },
     "execution_count": 22,
     "metadata": {},
     "output_type": "execute_result"
    }
   ],
   "source": [
    "job_QC"
   ]
  },
  {
   "cell_type": "code",
   "execution_count": 30,
   "id": "cf22f0f4-9556-4ae4-9555-a27bf75c5641",
   "metadata": {},
   "outputs": [
    {
     "data": {
      "text/plain": [
       "{'11': 205, '01': 4800, '00': 66, '10': 49}"
      ]
     },
     "execution_count": 30,
     "metadata": {},
     "output_type": "execute_result"
    }
   ],
   "source": [
    "counts = result_QC[0].data['c'].get_counts()\n",
    "counts"
   ]
  },
  {
   "cell_type": "code",
   "execution_count": 28,
   "id": "63168b2f-ab1a-4d6e-8e39-3b07c3f7bc72",
   "metadata": {},
   "outputs": [],
   "source": [
    "maps = {'00': r'$|\\phi^+\\rangle$', '01': r'$|\\psi^+\\rangle$', '10': r'$|\\phi^-\\rangle$', '11': r'$|\\psi^-\\rangle$'}"
   ]
  },
  {
   "cell_type": "code",
   "execution_count": 31,
   "id": "7e957b1b-6c5c-401d-b1f4-1380d3d611fb",
   "metadata": {},
   "outputs": [
    {
     "data": {
      "image/png": "[encoded data removed]",
      "text/plain": [
       "<Figure size 640x480 with 1 Axes>"
      ]
     },
     "execution_count": 31,
     "metadata": {},
     "output_type": "execute_result"
    }
   ],
   "source": [
    "results = {}\n",
    "for state in counts.keys():\n",
    "    results[maps[state]] = counts[state]/ss\n",
    "res = plot_histogram(results)\n",
    "res"
   ]
  },
  {
   "cell_type": "markdown",
   "id": "462d6c18-289e-46b0-9c28-56c51b2c77ff",
   "metadata": {},
   "source": []
  },
  {
   "cell_type": "code",
   "execution_count": 32,
   "id": "2fb51d19-b957-4838-bc93-6a42b01aff86",
   "metadata": {},
   "outputs": [],
   "source": [
    "res.savefig('results_XY_ibm_brisbane.pdf')"
   ]
  },
  {
   "cell_type": "markdown",
   "id": "d3cbd4d2-b07d-4d28-ae50-aa3454af0cfd",
   "metadata": {},
   "source": [
    "### 2.2.2 Quantum Simulation Methods\n",
    "\n",
    "In general, directly approximating the full evolution operator $\\hat{U}(t)$ for the system is very difficult. Instead, the simulation is carried out by dividing the total time intervals $[0, t]$ into $n_t$ smaller time intervals with a time step $\\Delta t = t / n_t$. The quantum state, encoded on the qubits, is then evolved iteratively through these time intervals using an approximate evolution operator constructed for each time step.\n",
    "\n",
    "Compared to classical computers, quantum computers offer an exponential reduction in the memory required to represent both the quantum state and the evolution operator at each time step. However, as discussed in the previous section, preparing the initial quantum state and implementing the evolution operator as a quantum circuit can require an exponential number of CNOT gates, rendering the process intractable in general. The complexity can be further exacerbated by the fact that the **circuit depth**, defined as the number of sequential time steps during which gates are applied, also increases with the system size. Additionally, reconstructing the full information of $|\\psi(t)\\rangle$ generally requires $ O(2^n)$ projective measurements.  \n",
    "\n",
    "Nonetheless, in many physical problems, simulations on quantum computers require only a polynomial number of operations in $n$, $t$, and $1/\\epsilon$, where $\\epsilon$ represents the desired precision. Such types of simulations are considered **efficient**. Among efficient quantum simulations, it is known that the optimal scaling for the simulation of dynamics cannot be sublinear in $t$; that is, there does not exist a constant $c < 1$ such that the computational cost is $O(t^c)$. This is known as the **no-fast-forwarding theorem** [ https://arxiv.org/abs/quant-ph/0508139 ][ https://www.rintonpress.com/journals/doi/QIC10.7-8-7.html ].\n",
    "\n",
    "The main methods for quantum simulation include:\n",
    "\n",
    "#### Trotterization\n",
    "This widely-used technique simulates the time evolution of quantum systems governed by a Hamiltonian. It decomposes the Hamiltonian into smaller, simpler terms, each of which can be evolved independently. The evolution operator is then approximated by the product of these terms, with the approximation improving as the time step becomes smaller. This method relies on the *Trotter-Suzuki decomposition*, enabling the simulation of complex quantum dynamics with controlled error margins. It is especially effective for systems where interactions can be separated into non-commuting parts.\n",
    "\n",
    "#### Taylor Series\n",
    "This approach expands the time evolution operator as a power series, approximating the evolution of a quantum system over a small time interval. The Taylor series expansion is often used when the time step is small, providing accurate approximations. It is frequently combined with other methods, such as Trotterization, to improve the precision of quantum simulations. The accuracy of this method depends on the order of the expansion, with higher-order terms providing better approximations at the expense of increased computational complexity.\n",
    "\n",
    "#### Qubitization\n",
    "This method converts the simulation of continuous-time Hamiltonians into a discrete process that operates on a qubit register. It facilitates the efficient simulation of Hamiltonian dynamics using a limited number of quantum gates, making it particularly suitable for quantum computers with a finite number of qubits. Qubitization typically involves decomposing the Hamiltonian into a sum of simple, diagonal terms and applying efficient quantum gates to simulate the effect of these terms on a quantum state. This method is particularly advantageous for simulating large-scale quantum systems, as it reduces the computational cost compared to direct simulation.\n"
   ]
  },
  {
   "cell_type": "code",
   "execution_count": null,
   "id": "ecf1a5ee-9a7f-40eb-9618-855a0562823a",
   "metadata": {},
   "outputs": [],
   "source": []
  }
 ],
 "metadata": {
  "kernelspec": {
   "display_name": "Python 3 (ipykernel)",
   "language": "python",
   "name": "python3"
  },
  "language_info": {
   "codemirror_mode": {
    "name": "ipython",
    "version": 3
   },
   "file_extension": ".py",
   "mimetype": "text/x-python",
   "name": "python",
   "nbconvert_exporter": "python",
   "pygments_lexer": "ipython3",
   "version": "3.11.7"
  }
 },
 "nbformat": 4,
 "nbformat_minor": 5
}
