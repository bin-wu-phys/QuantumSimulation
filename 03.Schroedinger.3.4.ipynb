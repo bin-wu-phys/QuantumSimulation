{
 "cells": [
  {
   "cell_type": "code",
   "execution_count": 5,
   "id": "12666500-cd0e-428a-b31b-9e95d578c171",
   "metadata": {},
   "outputs": [],
   "source": [
    "import numpy as np\n",
    "import matplotlib.pyplot as plt"
   ]
  },
  {
   "cell_type": "markdown",
   "id": "6984213b-f4a0-438f-8d6d-7b6dd94b61cc",
   "metadata": {},
   "source": [
    "# Exmaple 3.4"
   ]
  },
  {
   "cell_type": "markdown",
   "id": "41c2ce07-07d0-4eca-83f6-818dbb0a8990",
   "metadata": {},
   "source": [
    "## Direct exponentiation"
   ]
  },
  {
   "cell_type": "code",
   "execution_count": 1,
   "id": "fe4b4c38-4d1a-4be7-906f-21437a0bdfea",
   "metadata": {},
   "outputs": [],
   "source": [
    "def xhat(N, dx):\n",
    "    xs = [(-0.5*(N-1) + i)*dx for i in range(N)]\n",
    "    return np.diag(xs)\n",
    "    \n",
    "def phat(N, dx):\n",
    "    phat = np.zeros([N,N], complex)\n",
    "    for k in range(N):\n",
    "        p = 2.0*np.pi*(-0.5*(N-1) + k)/(N*dx)\n",
    "        pk = np.array([ np.exp(1.0j*2.0*np.pi*(-0.5*(N-1) + k)*(-0.5*(N-1) + i)/N) for i in range(N)])/np.sqrt(N)\n",
    "        phat += p*np.kron(pk.reshape([N,1]), np.conj(pk))\n",
    "    return phat"
   ]
  },
  {
   "cell_type": "code",
   "execution_count": 117,
   "id": "97e51baf-05f1-4118-9931-fda01454f2b0",
   "metadata": {},
   "outputs": [],
   "source": [
    "dx = 1.0\n",
    "n = 3\n",
    "L = 2**n\n",
    "pm = phat(L, dx)\n",
    "xm = xhat(L, dx)"
   ]
  },
  {
   "cell_type": "code",
   "execution_count": 118,
   "id": "b3c449be-1119-4452-b788-9a5b46ad39d3",
   "metadata": {},
   "outputs": [],
   "source": [
    "H = 0.5*(pm@pm+xm@xm)"
   ]
  },
  {
   "cell_type": "code",
   "execution_count": 119,
   "id": "876e0eba-3f13-4182-9060-d24e2947b2e5",
   "metadata": {},
   "outputs": [],
   "source": [
    "eigenvalues, eigenvectors = np.linalg.eig(H)\n",
    "idx = np.argsort(eigenvalues)  # Indices that would sort the eigenvalues\n",
    "eigenvalues = eigenvalues[idx]  # Sorted eigenvalues\n",
    "eigenvectors = eigenvectors[:, idx]  # Reorder the eigenvectors accordingly"
   ]
  },
  {
   "cell_type": "code",
   "execution_count": 120,
   "id": "507af17c-05fe-4154-aeec-2e912030838e",
   "metadata": {},
   "outputs": [],
   "source": [
    "eigenExact = [0.5 + i for i in range(L)]"
   ]
  },
  {
   "cell_type": "code",
   "execution_count": 121,
   "id": "be1ee040-a060-4add-be13-370bef972cd9",
   "metadata": {},
   "outputs": [
    {
     "data": {
      "text/plain": [
       "array([0.00036558, 0.00258476, 0.00963865, 0.04052924, 0.07794294,\n",
       "       0.0841878 , 0.0901062 , 0.21358737])"
      ]
     },
     "execution_count": 121,
     "metadata": {},
     "output_type": "execute_result"
    }
   ],
   "source": [
    "np.abs(eigenvalues/eigenExact-1)"
   ]
  },
  {
   "cell_type": "code",
   "execution_count": 122,
   "id": "bb034bb3-d7ea-4fea-90b0-a5635cb3784c",
   "metadata": {},
   "outputs": [
    {
     "data": {
      "text/plain": [
       "array([[-6.16297582e-33+1.00020905e+00j,  8.88901454e-19-4.71844785e-16j,\n",
       "         2.10304253e-19-2.22857153e-03j,  8.39797227e-18+4.44089210e-16j,\n",
       "         6.66686906e-19+8.14562752e-03j, -1.33947567e-17-3.33066907e-16j,\n",
       "         2.03450775e-17+9.71445147e-16j,  1.80399306e-18-2.09285562e-02j],\n",
       "       [-8.88901454e-19-4.71844785e-16j, -1.23259516e-32+9.85294751e-01j,\n",
       "         7.68897781e-18-4.98342118e-33j, -3.19957737e-18-1.10221446e-01j,\n",
       "         2.91373974e-17-1.52655666e-15j, -1.75091852e-17+1.94576330e-01j,\n",
       "        -3.42240505e-17-2.60394087e-01j, -2.12364234e-17+3.60822483e-16j],\n",
       "       [-2.10304253e-19-2.22857153e-03j, -7.68897781e-18+1.66533454e-16j,\n",
       "         0.00000000e+00+1.02514483e+00j, -8.35208843e-17-2.77555756e-17j,\n",
       "        -1.50212717e-17-8.52448364e-02j,  1.50205836e-16-1.49880108e-15j,\n",
       "        -2.71004643e-16+2.69229083e-15j,  2.32854429e-18+2.85025310e-01j],\n",
       "       [-8.39797227e-18+5.55111512e-16j,  3.19957737e-18-1.10221446e-01j,\n",
       "         8.35208843e-17-1.11022302e-16j,  9.24446373e-33+1.30897222e-01j,\n",
       "         1.72324109e-16-8.88178420e-15j, -1.79560401e-16+1.50872289e+00j,\n",
       "        -2.50577035e-16-2.44696676e+00j,  2.47002163e-16+6.66133815e-16j],\n",
       "       [-6.66686906e-19+8.14562752e-03j, -2.91373974e-17-1.55431223e-15j,\n",
       "         1.50212717e-17-8.52448364e-02j, -1.72324109e-16-8.65973959e-15j,\n",
       "         2.46519033e-32+1.39321438e+00j,  3.70337845e-16+2.14273044e-14j,\n",
       "        -2.88948328e-16-2.24126273e-14j,  1.22199282e-16-7.27187664e-01j],\n",
       "       [ 1.33947567e-17-2.18273467e-33j,  1.75091852e-17+1.94576330e-01j,\n",
       "        -1.50205836e-16-1.77635684e-15j,  1.79560401e-16+1.50872289e+00j,\n",
       "        -3.70337845e-16+2.10942375e-14j, -9.86076132e-32-1.88259973e+00j,\n",
       "         8.43973577e-16+3.81167636e+00j, -4.14781344e-16-3.99680289e-15j],\n",
       "       [-2.03450775e-17+8.88178420e-16j,  3.42240505e-17-2.60394087e-01j,\n",
       "         2.71004643e-16+2.66453526e-15j,  2.50577035e-16-2.44696676e+00j,\n",
       "         2.88948328e-16-2.30926389e-14j, -8.43973577e-16+3.81167636e+00j,\n",
       "        -9.86076132e-32-1.08434049e+01j,  1.42978556e-15+3.55271368e-15j],\n",
       "       [-1.80399306e-18-2.09285562e-02j,  2.12364234e-17+4.44089210e-16j,\n",
       "        -2.32854429e-18+2.85025310e-01j, -2.47002163e-16+8.88178420e-16j,\n",
       "        -1.22199282e-16-7.27187664e-01j,  4.14781344e-16-3.55271368e-15j,\n",
       "        -1.42978556e-15+5.77315973e-15j,  9.86076132e-32+8.19124434e+00j]])"
      ]
     },
     "execution_count": 122,
     "metadata": {},
     "output_type": "execute_result"
    }
   ],
   "source": [
    "np.array([[np.conj(eigenvectors[:,i])@(xm@pm - pm@xm)@eigenvectors[:,j] for j in range(L)] for i in range(L)])"
   ]
  },
  {
   "cell_type": "code",
   "execution_count": 143,
   "id": "93ee8c21-3d6a-4f10-8459-c1ad7a9cfa33",
   "metadata": {},
   "outputs": [],
   "source": [
    "def output(matrix):\n",
    "    latex_code = \"\\\\begin{bmatrix}\\n\" + \" \\\\\\\\\\n\".join(\n",
    "        [\" & \".join(f\"{elem.real:.4f} + {elem.imag:.4f}i\" if elem.imag >= 0 \n",
    "                else f\"{elem.real:.4f} - {-elem.imag:.4f}i\" \n",
    "                for elem in row) for row in matrix]\n",
    "    ) + \"\\n\\\\end{bmatrix}\"\n",
    "\n",
    "    return latex_code"
   ]
  },
  {
   "cell_type": "code",
   "execution_count": 144,
   "id": "0abcb671-2897-416e-a958-1096ea7f61d0",
   "metadata": {},
   "outputs": [
    {
     "name": "stdout",
     "output_type": "stream",
     "text": [
      "\\begin{bmatrix}\n",
      "-0.0000 + 1.0002i & 0.0000 - 0.0000i & 0.0000 - 0.0022i & 0.0000 + 0.0000i & 0.0000 + 0.0081i & -0.0000 - 0.0000i & 0.0000 + 0.0000i & 0.0000 - 0.0209i \\\\\n",
      "-0.0000 - 0.0000i & -0.0000 + 0.9853i & 0.0000 - 0.0000i & -0.0000 - 0.1102i & 0.0000 - 0.0000i & -0.0000 + 0.1946i & -0.0000 - 0.2604i & -0.0000 + 0.0000i \\\\\n",
      "-0.0000 - 0.0022i & -0.0000 + 0.0000i & 0.0000 + 1.0251i & -0.0000 - 0.0000i & -0.0000 - 0.0852i & 0.0000 - 0.0000i & -0.0000 + 0.0000i & 0.0000 + 0.2850i \\\\\n",
      "-0.0000 + 0.0000i & 0.0000 - 0.1102i & 0.0000 - 0.0000i & 0.0000 + 0.1309i & 0.0000 - 0.0000i & -0.0000 + 1.5087i & -0.0000 - 2.4470i & 0.0000 + 0.0000i \\\\\n",
      "-0.0000 + 0.0081i & -0.0000 - 0.0000i & 0.0000 - 0.0852i & -0.0000 - 0.0000i & 0.0000 + 1.3932i & 0.0000 + 0.0000i & -0.0000 - 0.0000i & 0.0000 - 0.7272i \\\\\n",
      "0.0000 - 0.0000i & 0.0000 + 0.1946i & -0.0000 - 0.0000i & 0.0000 + 1.5087i & -0.0000 + 0.0000i & -0.0000 - 1.8826i & 0.0000 + 3.8117i & -0.0000 - 0.0000i \\\\\n",
      "-0.0000 + 0.0000i & 0.0000 - 0.2604i & 0.0000 + 0.0000i & 0.0000 - 2.4470i & 0.0000 - 0.0000i & -0.0000 + 3.8117i & -0.0000 - 10.8434i & 0.0000 + 0.0000i \\\\\n",
      "-0.0000 - 0.0209i & 0.0000 + 0.0000i & -0.0000 + 0.2850i & -0.0000 + 0.0000i & -0.0000 - 0.7272i & 0.0000 - 0.0000i & -0.0000 + 0.0000i & 0.0000 + 8.1912i\n",
      "\\end{bmatrix}\n"
     ]
    }
   ],
   "source": [
    "print(output(np.array([[np.conj(eigenvectors[:,i])@(xm@pm - pm@xm)@eigenvectors[:,j] for j in range(L)] for i in range(L)])))"
   ]
  },
  {
   "cell_type": "code",
   "execution_count": null,
   "id": "0800dc13-e6d8-4285-aaa3-95c9e644e15e",
   "metadata": {},
   "outputs": [],
   "source": []
  }
 ],
 "metadata": {
  "kernelspec": {
   "display_name": "Python 3 (ipykernel)",
   "language": "python",
   "name": "python3"
  },
  "language_info": {
   "codemirror_mode": {
    "name": "ipython",
    "version": 3
   },
   "file_extension": ".py",
   "mimetype": "text/x-python",
   "name": "python",
   "nbconvert_exporter": "python",
   "pygments_lexer": "ipython3",
   "version": "3.12.7"
  }
 },
 "nbformat": 4,
 "nbformat_minor": 5
}
