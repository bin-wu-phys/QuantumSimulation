{
 "cells": [
  {
   "cell_type": "markdown",
   "id": "b320d75f-f9fe-40cf-9734-3aeee1f43d31",
   "metadata": {},
   "source": [
    "# For qiskit0.44\n",
    "conda create -n qiskit0.44 python=3.8\n",
    "\n",
    "conda activate qiskit0.44\n",
    "\n",
    "conda install numpy scipy matplotlib ipython jupyter jupyterlab\n",
    "\n",
    "pip install qiskit==0.44.2\n",
    "\n",
    "pip install qiskit-aer==0.12.2\n",
    "\n",
    "pip install qiskit-ibm-provider==0.7.2\n",
    "\n",
    "pip install pylatexenc\n",
    "\n",
    "pip list | grep qiskit*\n",
    "\n",
    "qiskit                    0.44.2\n",
    "\n",
    "qiskit-aer                0.12.2\n",
    "\n",
    "qiskit-ibm-provider       0.7.2\n",
    "\n",
    "qiskit-ibm-runtime        0.13.0\n",
    "\n",
    "qiskit-ibmq-provider      0.20.2\n",
    "\n",
    "qiskit-terra              0.25.2.1"
   ]
  },
  {
   "cell_type": "code",
   "execution_count": 1,
   "id": "e3907a07-efc7-4b9a-8109-43234555f5df",
   "metadata": {},
   "outputs": [],
   "source": [
    "from qiskit import *\n",
    "from qiskit.visualization import *\n",
    "from qiskit.quantum_info import Operator\n",
    "import numpy as np\n"
   ]
  },
  {
   "cell_type": "markdown",
   "id": "435c6006-1102-442f-baa6-13e2e5d859e9",
   "metadata": {},
   "source": [
    "# 2.1 Overview of quantum circuits"
   ]
  },
  {
   "cell_type": "markdown",
   "id": "4e52d4a6-049c-47a9-ae45-ccfe9d586f66",
   "metadata": {},
   "source": [
    "## One-qubit gates"
   ]
  },
  {
   "cell_type": "code",
   "execution_count": 2,
   "id": "a029e620-cd99-4c18-a411-3ffecb26d802",
   "metadata": {},
   "outputs": [
    {
     "data": {
      "image/png": "[encoded data removed]",
      "text/plain": [
       "<Figure size 185.453x117.056 with 1 Axes>"
      ]
     },
     "execution_count": 2,
     "metadata": {},
     "output_type": "execute_result"
    }
   ],
   "source": [
    "qc = QuantumCircuit(1,0)\n",
    "qc.x(0)\n",
    "x = qc.draw('mpl')\n",
    "x"
   ]
  },
  {
   "cell_type": "code",
   "execution_count": 88,
   "id": "26f012c5-4449-4e5c-afbf-902d156232c3",
   "metadata": {},
   "outputs": [],
   "source": [
    "x.savefig('x.pdf')"
   ]
  },
  {
   "cell_type": "code",
   "execution_count": 13,
   "id": "53327cd9-ff04-4bfd-8402-42171515c560",
   "metadata": {},
   "outputs": [
    {
     "data": {
      "image/png": "[encoded data removed]",
      "text/plain": [
       "<Figure size 185.453x117.056 with 1 Axes>"
      ]
     },
     "execution_count": 13,
     "metadata": {},
     "output_type": "execute_result"
    }
   ],
   "source": [
    "qc = QuantumCircuit(1,0)\n",
    "qc.y(0)\n",
    "y = qc.draw('mpl')\n",
    "y"
   ]
  },
  {
   "cell_type": "code",
   "execution_count": 90,
   "id": "27f8a4de-02db-4df0-930a-a6dd0a172483",
   "metadata": {},
   "outputs": [],
   "source": [
    "y.savefig('y.pdf')"
   ]
  },
  {
   "cell_type": "code",
   "execution_count": 14,
   "id": "ad6415ba-3b31-4d01-8e2b-b49f2e12f6d5",
   "metadata": {},
   "outputs": [
    {
     "data": {
      "image/png": "[encoded data removed]",
      "text/plain": [
       "<Figure size 185.453x117.056 with 1 Axes>"
      ]
     },
     "execution_count": 14,
     "metadata": {},
     "output_type": "execute_result"
    }
   ],
   "source": [
    "qc = QuantumCircuit(1,0)\n",
    "qc.z(0)\n",
    "z = qc.draw('mpl')\n",
    "z"
   ]
  },
  {
   "cell_type": "code",
   "execution_count": 92,
   "id": "4de70f04-e7fd-49b0-91a0-28c8eedf81b6",
   "metadata": {},
   "outputs": [],
   "source": [
    "z.savefig('z.pdf')"
   ]
  },
  {
   "cell_type": "code",
   "execution_count": 15,
   "id": "c0a8cd1d-7cb2-4ce9-8f53-793c950aefb3",
   "metadata": {},
   "outputs": [],
   "source": [
    "backend = Aer.get_backend('unitary_simulator')\n",
    "result = execute(qc, backend)\n",
    "unitary_matrix=result.result().get_unitary()"
   ]
  },
  {
   "cell_type": "code",
   "execution_count": 16,
   "id": "1f03e919-5b2f-4f20-9c7e-e178c0ca040c",
   "metadata": {},
   "outputs": [
    {
     "data": {
      "text/plain": [
       "array([[ 1.+0.j,  0.+0.j],\n",
       "       [-0.+0.j, -1.+0.j]])"
      ]
     },
     "execution_count": 16,
     "metadata": {},
     "output_type": "execute_result"
    }
   ],
   "source": [
    "unitary_matrix.to_matrix()"
   ]
  },
  {
   "cell_type": "code",
   "execution_count": 79,
   "id": "8a5cd114-25f9-4992-a0cd-f58f374d6f6a",
   "metadata": {},
   "outputs": [],
   "source": [
    "cnot.savefig('cnot.pdf')"
   ]
  },
  {
   "cell_type": "code",
   "execution_count": 11,
   "id": "642ebee0-d4df-4772-9706-776841b850de",
   "metadata": {},
   "outputs": [
    {
     "data": {
      "image/png": "[encoded data removed]",
      "text/plain": [
       "<Figure size 185.453x117.056 with 1 Axes>"
      ]
     },
     "execution_count": 11,
     "metadata": {},
     "output_type": "execute_result"
    }
   ],
   "source": [
    "qc = QuantumCircuit(1)\n",
    "\n",
    "# Define the rotation angle (theta)\n",
    "theta = 1.57  # Example: pi/2 radians\n",
    "\n",
    "# Apply the Rx rotation gate\n",
    "qc.rx(theta, 0)\n",
    "rx = qc.draw('mpl')\n",
    "rx"
   ]
  },
  {
   "cell_type": "code",
   "execution_count": 12,
   "id": "00a22695-1254-4743-82dc-189837e3e337",
   "metadata": {},
   "outputs": [],
   "source": [
    "rx.savefig('rx.pdf')"
   ]
  },
  {
   "cell_type": "code",
   "execution_count": 13,
   "id": "619635a1-b528-4951-b2a3-b199dbaea2c8",
   "metadata": {},
   "outputs": [
    {
     "data": {
      "image/png": "[encoded data removed]",
      "text/plain": [
       "<Figure size 185.453x117.056 with 1 Axes>"
      ]
     },
     "execution_count": 13,
     "metadata": {},
     "output_type": "execute_result"
    }
   ],
   "source": [
    "qc = QuantumCircuit(1)\n",
    "\n",
    "# Define the rotation angle (theta)\n",
    "theta = 1.57  # Example: pi/2 radians\n",
    "\n",
    "# Apply the Rx rotation gate\n",
    "qc.ry(theta, 0)\n",
    "\n",
    "# Visualize the circuit\n",
    "ry = qc.draw('mpl')\n",
    "ry"
   ]
  },
  {
   "cell_type": "code",
   "execution_count": 14,
   "id": "f288fba0-0719-48c4-b063-8974aae5cace",
   "metadata": {},
   "outputs": [],
   "source": [
    "ry.savefig('ry.pdf')"
   ]
  },
  {
   "cell_type": "code",
   "execution_count": 9,
   "id": "60b39aa5-6de3-4487-b5ad-388841ee311c",
   "metadata": {},
   "outputs": [
    {
     "data": {
      "image/png": "[encoded data removed]",
      "text/plain": [
       "<Figure size 185.453x117.056 with 1 Axes>"
      ]
     },
     "execution_count": 9,
     "metadata": {},
     "output_type": "execute_result"
    }
   ],
   "source": [
    "qc = QuantumCircuit(1)\n",
    "\n",
    "# Define the rotation angle (theta)\n",
    "theta = 1.57  # Example: pi/2 radians\n",
    "\n",
    "# Apply the Rx rotation gate\n",
    "qc.rz(theta, 0)\n",
    "\n",
    "# Visualize the circuit\n",
    "rz_gate = Operator(qc).data\n",
    "rz = qc.draw('mpl')\n",
    "rz"
   ]
  },
  {
   "cell_type": "code",
   "execution_count": 10,
   "id": "b56ec492-423b-4338-85c9-f24ce483e673",
   "metadata": {},
   "outputs": [
    {
     "data": {
      "text/plain": [
       "array([[0.70738827-0.70682518j, 0.        +0.j        ],\n",
       "       [0.        +0.j        , 0.70738827+0.70682518j]])"
      ]
     },
     "execution_count": 10,
     "metadata": {},
     "output_type": "execute_result"
    }
   ],
   "source": [
    "rz_gate"
   ]
  },
  {
   "cell_type": "code",
   "execution_count": 13,
   "id": "1293f106-ca1e-4ae9-b293-64905793b8e3",
   "metadata": {},
   "outputs": [
    {
     "data": {
      "text/plain": [
       "(0.7073882691671998-0.706825181105366j)"
      ]
     },
     "execution_count": 13,
     "metadata": {},
     "output_type": "execute_result"
    }
   ],
   "source": [
    "np.cos(theta/2) - 1.0j*np.sin(theta/2)"
   ]
  },
  {
   "cell_type": "code",
   "execution_count": 16,
   "id": "4b2e7fee-6bdc-488f-b8f3-b341c2706128",
   "metadata": {},
   "outputs": [],
   "source": [
    "rz.savefig('rz.pdf')"
   ]
  },
  {
   "cell_type": "code",
   "execution_count": 8,
   "id": "8bca198e-468d-430f-b6d7-2d8e20860ded",
   "metadata": {},
   "outputs": [
    {
     "data": {
      "image/png": "[encoded data removed]",
      "text/plain": [
       "<Figure size 185.453x117.056 with 1 Axes>"
      ]
     },
     "execution_count": 8,
     "metadata": {},
     "output_type": "execute_result"
    }
   ],
   "source": [
    "qc = QuantumCircuit(1)\n",
    "\n",
    "# Define the rotation angle (theta)\n",
    "theta = 1.57  # Example: pi/2 radians\n",
    "\n",
    "# Apply the Rx rotation gate\n",
    "qc.h(0)\n",
    "\n",
    "h_gate = Operator(qc).data\n",
    "h = qc.draw('mpl')\n",
    "h"
   ]
  },
  {
   "cell_type": "code",
   "execution_count": 28,
   "id": "e1a2927b-3190-4e66-be72-66ac8f5f8431",
   "metadata": {},
   "outputs": [
    {
     "data": {
      "text/plain": [
       "array([[ 0.70710678+0.j,  0.70710678+0.j],\n",
       "       [ 0.70710678+0.j, -0.70710678+0.j]])"
      ]
     },
     "execution_count": 28,
     "metadata": {},
     "output_type": "execute_result"
    }
   ],
   "source": [
    "h_gate"
   ]
  },
  {
   "cell_type": "code",
   "execution_count": 18,
   "id": "3c38592f-4be2-4d06-b314-5a86e5744a64",
   "metadata": {},
   "outputs": [],
   "source": [
    "h.savefig('h.pdf')"
   ]
  },
  {
   "cell_type": "code",
   "execution_count": 29,
   "id": "817c4baa-4850-4ce2-9d67-102f18d556fd",
   "metadata": {},
   "outputs": [
    {
     "data": {
      "image/png": "[encoded data removed]",
      "text/plain": [
       "<Figure size 185.453x117.056 with 1 Axes>"
      ]
     },
     "execution_count": 29,
     "metadata": {},
     "output_type": "execute_result"
    }
   ],
   "source": [
    "qc = QuantumCircuit(1)\n",
    "\n",
    "# Define the rotation angle (theta)\n",
    "theta = 1.57  # Example: pi/2 radians\n",
    "\n",
    "# Apply the Rx rotation gate\n",
    "qc.t(0)\n",
    "t_gate = Operator(qc).data\n",
    "\n",
    "t = qc.draw('mpl')\n",
    "t"
   ]
  },
  {
   "cell_type": "code",
   "execution_count": 30,
   "id": "acdfea1a-41e4-4019-a770-2c589a308796",
   "metadata": {},
   "outputs": [
    {
     "data": {
      "text/plain": [
       "array([[1.        +0.j        , 0.        +0.j        ],\n",
       "       [0.        +0.j        , 0.70710678+0.70710678j]])"
      ]
     },
     "execution_count": 30,
     "metadata": {},
     "output_type": "execute_result"
    }
   ],
   "source": [
    "t_gate"
   ]
  },
  {
   "cell_type": "code",
   "execution_count": 24,
   "id": "4ad224e4-8fda-43ef-9954-9b934fae6881",
   "metadata": {},
   "outputs": [],
   "source": [
    "t.savefig('t.pdf')"
   ]
  },
  {
   "cell_type": "code",
   "execution_count": 6,
   "id": "2f675060-4ba0-4d3b-a46f-f7f343b3d56e",
   "metadata": {},
   "outputs": [
    {
     "data": {
      "image/png": "[encoded data removed]",
      "text/plain": [
       "<Figure size 185.453x117.056 with 1 Axes>"
      ]
     },
     "execution_count": 6,
     "metadata": {},
     "output_type": "execute_result"
    }
   ],
   "source": [
    "qc = QuantumCircuit(1)\n",
    "\n",
    "# Define the rotation angle (theta)\n",
    "theta = 1.57  # Example: pi/2 radians\n",
    "\n",
    "# Apply the Rx rotation gate\n",
    "qc.s(0)\n",
    "\n",
    "s_gate = Operator(qc).data\n",
    "s = qc.draw('mpl')\n",
    "s"
   ]
  },
  {
   "cell_type": "code",
   "execution_count": 7,
   "id": "e0d4e99f-d15c-4560-9f92-9129c069c081",
   "metadata": {},
   "outputs": [
    {
     "data": {
      "text/plain": [
       "array([[1.+0.j, 0.+0.j],\n",
       "       [0.+0.j, 0.+1.j]])"
      ]
     },
     "execution_count": 7,
     "metadata": {},
     "output_type": "execute_result"
    }
   ],
   "source": [
    "s_gate"
   ]
  },
  {
   "cell_type": "code",
   "execution_count": 25,
   "id": "cf488155-d317-42e8-ab94-eeea7b098393",
   "metadata": {},
   "outputs": [],
   "source": [
    "s.savefig('s.pdf')"
   ]
  },
  {
   "cell_type": "code",
   "execution_count": 24,
   "id": "bad48e0f-88f4-4df2-b625-94faed1286a0",
   "metadata": {},
   "outputs": [
    {
     "data": {
      "image/png": "[encoded data removed]",
      "text/plain": [
       "<Figure size 480x480 with 1 Axes>"
      ]
     },
     "execution_count": 24,
     "metadata": {},
     "output_type": "execute_result"
    }
   ],
   "source": [
    "# Create a quantum circuit with one qubit\n",
    "qc = QuantumCircuit(1)\n",
    "\n",
    "# Apply gates to set the qubit's state (adjust these gates to experiment)\n",
    "theta = np.pi/5\n",
    "phi = np.pi/3\n",
    "qc.ry(theta, 0)\n",
    "qc.rz(phi, 0)\n",
    "\n",
    "# Get the statevector of the qubit\n",
    "state = Statevector.from_instruction(qc)\n",
    "\n",
    "# Visualize the state on the Bloch sphere\n",
    "bs = plot_bloch_multivector(state.data)\n",
    "bs"
   ]
  },
  {
   "cell_type": "code",
   "execution_count": 25,
   "id": "3e7b9437-0a67-4663-b1df-4810feef2e08",
   "metadata": {},
   "outputs": [
    {
     "data": {
      "image/png": "[encoded data removed]",
      "text/plain": [
       "<Figure size 269.064x117.056 with 1 Axes>"
      ]
     },
     "execution_count": 25,
     "metadata": {},
     "output_type": "execute_result"
    }
   ],
   "source": [
    "qc.draw('mpl')"
   ]
  },
  {
   "cell_type": "markdown",
   "id": "307be27d-c14c-48c8-a679-b35aaaf851c2",
   "metadata": {},
   "source": [
    "## Two-qubit gates"
   ]
  },
  {
   "cell_type": "code",
   "execution_count": 18,
   "id": "0798583c-bf23-4234-b747-a2a1caf6de4b",
   "metadata": {},
   "outputs": [
    {
     "data": {
      "image/png": "[encoded data removed]",
      "text/plain": [
       "<Figure size 229.923x200.667 with 1 Axes>"
      ]
     },
     "execution_count": 18,
     "metadata": {},
     "output_type": "execute_result"
    }
   ],
   "source": [
    "lsb, msb = QuantumRegister(1, 'LSB'), QuantumRegister(1, 'MSB')\n",
    "qc = QuantumCircuit(lsb, msb)\n",
    "qc.cx(msb, lsb)\n",
    "\n",
    "cnot_gate = Operator(qc).data\n",
    "cnot = qc.draw('mpl')\n",
    "cnot"
   ]
  },
  {
   "cell_type": "code",
   "execution_count": 3,
   "id": "815de138-e46b-4a0b-b571-769c2fecb919",
   "metadata": {},
   "outputs": [
    {
     "data": {
      "text/plain": [
       "array([[1.+0.j, 0.+0.j, 0.+0.j, 0.+0.j],\n",
       "       [0.+0.j, 1.+0.j, 0.+0.j, 0.+0.j],\n",
       "       [0.+0.j, 0.+0.j, 0.+0.j, 1.+0.j],\n",
       "       [0.+0.j, 0.+0.j, 1.+0.j, 0.+0.j]])"
      ]
     },
     "execution_count": 3,
     "metadata": {},
     "output_type": "execute_result"
    }
   ],
   "source": [
    "cnot_gate"
   ]
  },
  {
   "cell_type": "code",
   "execution_count": null,
   "id": "5cb0bb25-6a3c-4da6-a218-af5e9972bbcc",
   "metadata": {},
   "outputs": [],
   "source": [
    "cnot.savefig('cnot.pdf')"
   ]
  },
  {
   "cell_type": "code",
   "execution_count": 5,
   "id": "34fa13c3-f84c-48e8-bd8b-392608001230",
   "metadata": {},
   "outputs": [
    {
     "name": "stdout",
     "output_type": "stream",
     "text": [
      "[[ 1.+0.j  0.+0.j  0.+0.j  0.+0.j]\n",
      " [ 0.+0.j  1.+0.j  0.+0.j  0.+0.j]\n",
      " [ 0.+0.j  0.+0.j  1.+0.j  0.+0.j]\n",
      " [ 0.+0.j  0.+0.j  0.+0.j -1.+0.j]]\n"
     ]
    },
    {
     "data": {
      "image/png": "[encoded data removed]",
      "text/plain": [
       "<Figure size 229.923x200.667 with 1 Axes>"
      ]
     },
     "execution_count": 5,
     "metadata": {},
     "output_type": "execute_result"
    }
   ],
   "source": [
    "lsb, msb = QuantumRegister(1, 'LSB'), QuantumRegister(1, 'MSB')\n",
    "qc = QuantumCircuit(lsb, msb)\n",
    "qc.cz(msb, lsb)\n",
    "\n",
    "cz_gate = Operator(qc).data\n",
    "print(cz_gate)\n",
    "cz = qc.draw('mpl')\n",
    "cz"
   ]
  },
  {
   "cell_type": "code",
   "execution_count": 6,
   "id": "afe72a3f-3d8b-4e0e-b6b6-054417a283b0",
   "metadata": {},
   "outputs": [],
   "source": [
    "cz.savefig('cz.pdf')"
   ]
  },
  {
   "cell_type": "code",
   "execution_count": 8,
   "id": "447eb553-fcb9-4992-8932-4fa1ecfbd1f0",
   "metadata": {},
   "outputs": [
    {
     "name": "stdout",
     "output_type": "stream",
     "text": [
      "[[1.+0.j 0.+0.j 0.+0.j 0.+0.j]\n",
      " [0.+0.j 0.+0.j 1.+0.j 0.+0.j]\n",
      " [0.+0.j 1.+0.j 0.+0.j 0.+0.j]\n",
      " [0.+0.j 0.+0.j 0.+0.j 1.+0.j]]\n"
     ]
    },
    {
     "data": {
      "image/png": "[encoded data removed]",
      "text/plain": [
       "<Figure size 203.683x200.667 with 1 Axes>"
      ]
     },
     "execution_count": 8,
     "metadata": {},
     "output_type": "execute_result"
    }
   ],
   "source": [
    "# Create a quantum circuit with two qubits\n",
    "qc = QuantumCircuit(2)\n",
    "\n",
    "# Apply the SWAP gate\n",
    "qc.swap(0, 1)\n",
    "\n",
    "# Extract and print the SWAP gate matrix\n",
    "swap_matrix = Operator(qc).data\n",
    "print(np.array(swap_matrix))\n",
    "\n",
    "# Visualize the circuit\n",
    "swap = qc.draw('mpl')\n",
    "swap"
   ]
  },
  {
   "cell_type": "code",
   "execution_count": 9,
   "id": "180c0af9-9d3b-48e6-b4b2-81af95ba9ce3",
   "metadata": {},
   "outputs": [],
   "source": [
    "swap.savefig('swap.pdf')"
   ]
  },
  {
   "cell_type": "code",
   "execution_count": 22,
   "id": "b3d25b14-e84e-4aac-a0d4-99611a6f61b4",
   "metadata": {},
   "outputs": [
    {
     "data": {
      "image/png": "[encoded data removed]",
      "text/plain": [
       "<Figure size 370.906x200.667 with 1 Axes>"
      ]
     },
     "execution_count": 22,
     "metadata": {},
     "output_type": "execute_result"
    }
   ],
   "source": [
    "qc = QuantumCircuit(2)\n",
    "qc.h(0)\n",
    "qc.cx(1, 0)\n",
    "qc.h(0)\n",
    "cz = qc.draw('mpl')\n",
    "cz"
   ]
  },
  {
   "cell_type": "code",
   "execution_count": 23,
   "id": "0c57967e-b476-4caa-80ac-f9444ea4ec7e",
   "metadata": {},
   "outputs": [],
   "source": [
    "backend = Aer.get_backend('unitary_simulator')\n",
    "result = execute(qc, backend)\n",
    "cz_mat = result.result().get_unitary()"
   ]
  },
  {
   "cell_type": "code",
   "execution_count": null,
   "id": "47ce8890-3a4c-4d70-8129-d95fa0a4311b",
   "metadata": {},
   "outputs": [],
   "source": [
    "cz.savefig('cz_from_cnot.pdf')"
   ]
  },
  {
   "cell_type": "code",
   "execution_count": 20,
   "id": "0c28ea71-88e1-4788-a88e-5001d6c9beeb",
   "metadata": {},
   "outputs": [
    {
     "data": {
      "image/png": "[encoded data removed]",
      "text/plain": [
       "<Figure size 370.906x200.667 with 1 Axes>"
      ]
     },
     "execution_count": 20,
     "metadata": {},
     "output_type": "execute_result"
    }
   ],
   "source": [
    "qc = QuantumCircuit(2)\n",
    "qc.cx(0, 1)\n",
    "qc.cx(1, 0)\n",
    "qc.cx(0, 1)\n",
    "swap = qc.draw('mpl')\n",
    "swap"
   ]
  },
  {
   "cell_type": "code",
   "execution_count": 19,
   "id": "dc4c2501-9a94-45f4-aa39-b2b7d4018d7a",
   "metadata": {},
   "outputs": [
    {
     "data": {
      "text/plain": [
       "Operator([[1.+0.j, 0.+0.j, 0.+0.j, 0.+0.j],\n",
       "          [0.+0.j, 1.+0.j, 0.+0.j, 0.+0.j],\n",
       "          [0.+0.j, 0.+0.j, 0.+0.j, 1.+0.j],\n",
       "          [0.+0.j, 0.+0.j, 1.+0.j, 0.+0.j]],\n",
       "         input_dims=(2, 2), output_dims=(2, 2))"
      ]
     },
     "execution_count": 19,
     "metadata": {},
     "output_type": "execute_result"
    }
   ],
   "source": [
    "backend = Aer.get_backend('unitary_simulator')\n",
    "result = execute(qc, backend)\n",
    "unitary_matrix=result.result().get_unitary()\n",
    "unitary_matrix"
   ]
  },
  {
   "cell_type": "code",
   "execution_count": null,
   "id": "58e0e66c-310a-4307-bc91-b57a619d962a",
   "metadata": {},
   "outputs": [],
   "source": [
    "swap.savefig('swap_from_cnot.pdf')"
   ]
  },
  {
   "cell_type": "code",
   "execution_count": 21,
   "id": "b9fe5200-31fc-40e8-b79b-5dfc101efb58",
   "metadata": {},
   "outputs": [
    {
     "data": {
      "image/png": "[encoded data removed]",
      "text/plain": [
       "<Figure size 303.717x367.889 with 1 Axes>"
      ]
     },
     "execution_count": 21,
     "metadata": {},
     "output_type": "execute_result"
    }
   ],
   "source": [
    "qbit, cbit = QuantumRegister(3, 'q'), ClassicalRegister(2, 'bits')\n",
    "qc = QuantumCircuit(qbit, cbit)\n",
    "qc.measure(qbit[:len(cbit)], cbit)\n",
    "me = qc.draw('mpl')\n",
    "me"
   ]
  },
  {
   "cell_type": "code",
   "execution_count": null,
   "id": "10d9c861-27dd-4920-981b-ec2fb635fd4a",
   "metadata": {},
   "outputs": [],
   "source": [
    "me.savefig('measure.pdf')"
   ]
  },
  {
   "cell_type": "markdown",
   "id": "40dbcd22-99f1-453f-abda-913d2e480cc6",
   "metadata": {},
   "source": [
    "# 2.2 Simulations of quantum systems"
   ]
  },
  {
   "cell_type": "markdown",
   "id": "054816cd-75e4-4c33-8c75-b9feab9bd7ee",
   "metadata": {},
   "source": [
    "## Example 2.1\n",
    "\n",
    "Consider a two-fermion system described by the Hamiltonian:  \n",
    "\\begin{align}\n",
    "    \\hat{H} = X \\otimes Y,\n",
    "\\end{align}\n",
    "with the initial state given by $|\\psi(0)\\rangle = |10\\rangle $.\n",
    "\n",
    "To implement $\\hat{U}(t)$ using circuits, one can write\n",
    "\\begin{align}\n",
    "    \\hat{U}(t) = A (C_1 X_0) e^{-it\\mathbb{1}\\otimes Z}(C_1X_0) A\n",
    "    ^\\dagger\n",
    "    = A (C_1 X_0) (\\mathbb{1}\\otimes R_z(2t))(C_1X_0) A\n",
    "    ^\\dagger\n",
    "\\end{align}\n",
    "with the unitary operator\n",
    "\\begin{align}\n",
    "    A \\equiv H\\otimes SH.\n",
    "\\end{align}"
   ]
  },
  {
   "cell_type": "code",
   "execution_count": 26,
   "id": "b2ea357e-1f48-430b-a45f-6f30b31fcbe0",
   "metadata": {},
   "outputs": [],
   "source": [
    "from qiskit import *\n",
    "from qiskit.visualization import *\n",
    "from qiskit.quantum_info import Operator\n",
    "import numpy as np"
   ]
  },
  {
   "cell_type": "markdown",
   "id": "fe1f3df6-3128-4daf-8f8c-6cef222ae5e4",
   "metadata": {},
   "source": [
    "### The circuit"
   ]
  },
  {
   "cell_type": "markdown",
   "id": "9e738cdf-0487-45f9-8361-06afb9b14a84",
   "metadata": {},
   "source": [
    "The evolution opeator:  $\\hat{U}(t) = e^{-i\\hat{H}t} = \\cos(t) - i \\sin(t) \\, X \\otimes Y$"
   ]
  },
  {
   "cell_type": "code",
   "execution_count": 3,
   "id": "2331edb1-178e-4c14-8ebf-e49a88b4ded3",
   "metadata": {},
   "outputs": [],
   "source": [
    "def U(t):\n",
    "    \"\"\"\n",
    "    return the evoltuion operator in the matrix form\n",
    "    \"\"\"\n",
    "    X = np.matrix([[0,1],[1,0]])\n",
    "    Y = np.matrix([[0,-1j],[1j,0]])\n",
    "    return np.cos(t)*np.identity(4) - 1.0j*np.sin(t)*np.kron(X, Y)"
   ]
  },
  {
   "cell_type": "code",
   "execution_count": 4,
   "id": "5e8f3559-0ec6-4ba3-be70-d8e1ad23306c",
   "metadata": {},
   "outputs": [
    {
     "data": {
      "image/png": "[encoded data removed]",
      "text/plain": [
       "<Figure size 203.683x200.667 with 1 Axes>"
      ]
     },
     "execution_count": 4,
     "metadata": {},
     "output_type": "execute_result"
    }
   ],
   "source": [
    "# 1. State preparation\n",
    "\n",
    "psi0 = QuantumCircuit(2)\n",
    "psi0.x(1)\n",
    "\n",
    "\n",
    "psi0.draw('mpl')"
   ]
  },
  {
   "cell_type": "code",
   "execution_count": 5,
   "id": "d96ceacf-5293-4fe2-9d2b-8ac7c6f45a29",
   "metadata": {},
   "outputs": [
    {
     "data": {
      "image/png": "[encoded data removed]",
      "text/plain": [
       "<Figure size 788.961x200.667 with 1 Axes>"
      ]
     },
     "execution_count": 5,
     "metadata": {},
     "output_type": "execute_result"
    }
   ],
   "source": [
    "# 2. Time evolution\n",
    "\n",
    "t = np.pi/5\n",
    "\n",
    "ut = QuantumCircuit(2)\n",
    "\n",
    "# A^\\dagger = H \\otimes H S^\\dagger = H Z S\n",
    "ut.h(1)\n",
    "ut.s(0)\n",
    "ut.z(0)\n",
    "ut.h(0)\n",
    "\n",
    "ut.cx(1, 0)\n",
    "ut.rz(2*t, 0)\n",
    "ut.cx(1, 0)\n",
    "\n",
    "# A = H \\otimes S H\n",
    "ut.h(1)\n",
    "ut.h(0)\n",
    "ut.s(0)\n",
    "\n",
    "ut.draw('mpl')"
   ]
  },
  {
   "cell_type": "code",
   "execution_count": 6,
   "id": "15a952bc-9b79-4046-915e-932b3a0f02e6",
   "metadata": {},
   "outputs": [
    {
     "data": {
      "text/plain": [
       "Operator([[ 8.09016994e-01+9.34046357e-18j,\n",
       "           -1.11022302e-16+3.26084508e-18j,\n",
       "            0.00000000e+00-4.85927750e-17j,\n",
       "           -5.87785252e-01+1.53748401e-16j],\n",
       "          [ 1.11022302e-16+7.52437779e-17j,\n",
       "            8.09016994e-01-6.91641594e-17j,\n",
       "            5.87785252e-01-1.53748401e-16j,\n",
       "           -5.55111512e-17+1.67294938e-16j],\n",
       "          [ 0.00000000e+00-4.85927750e-17j,\n",
       "           -5.87785252e-01+7.52437779e-17j,\n",
       "            8.09016994e-01-1.08416471e-16j,\n",
       "            1.11022302e-16+3.26084508e-18j],\n",
       "          [ 5.87785252e-01+3.26084508e-18j,\n",
       "            0.00000000e+00+1.47668782e-16j,\n",
       "           -5.55111512e-17+7.52437779e-17j,\n",
       "            8.09016994e-01-1.67294938e-16j]],\n",
       "         input_dims=(2, 2), output_dims=(2, 2))"
      ]
     },
     "execution_count": 6,
     "metadata": {},
     "output_type": "execute_result"
    }
   ],
   "source": [
    "backend = Aer.get_backend('unitary_simulator')\n",
    "result = execute(ut, backend)\n",
    "unitary_matrix=result.result().get_unitary()\n",
    "unitary_matrix"
   ]
  },
  {
   "cell_type": "code",
   "execution_count": 7,
   "id": "32198a81-9201-4cd1-b5c0-e37bf400fc65",
   "metadata": {},
   "outputs": [
    {
     "data": {
      "text/plain": [
       "matrix([[False, False, False, False],\n",
       "        [False, False, False, False],\n",
       "        [False, False, False, False],\n",
       "        [False, False, False, False]])"
      ]
     },
     "execution_count": 7,
     "metadata": {},
     "output_type": "execute_result"
    }
   ],
   "source": [
    "U_gate = Operator(ut).data\n",
    "np.abs(U_gate - U(t)) > 1e-15"
   ]
  },
  {
   "cell_type": "markdown",
   "id": "55c5a66d-8328-4060-9f07-e91d708bc04e",
   "metadata": {},
   "source": [
    "Measurement in the Bell basis is fulfilled by performing a \"sandwiched\" measurement in the computational basis between \\( B \\) and \\( B^\\dagger = (H \\otimes \\mathbb{1})(C_1 X_0) \\). The outputs: $00, 01, 10, 11$ correspond to $|\\phi^+\\rangle, |\\psi^+\\rangle, |\\phi^-\\rangle$ and $|\\psi^-\\rangle$, respectively."
   ]
  },
  {
   "cell_type": "code",
   "execution_count": 13,
   "id": "a5933e85-0e0b-4527-a485-9363562647a1",
   "metadata": {},
   "outputs": [
    {
     "data": {
      "image/png": "[encoded data removed]",
      "text/plain": [
       "<Figure size 621.739x284.278 with 1 Axes>"
      ]
     },
     "execution_count": 13,
     "metadata": {},
     "output_type": "execute_result"
    }
   ],
   "source": [
    "# 3. Measurement\n",
    "qbits, cbits = QuantumRegister(2, 'q'), ClassicalRegister(2, 'c')\n",
    "\n",
    "mea = QuantumCircuit(qbits, cbits)\n",
    "\n",
    "# B^\\dagger\n",
    "mea.cx(1, 0)\n",
    "mea.h(1)\n",
    "\n",
    "mea.measure(qbits, cbits)\n",
    "\n",
    "# B\n",
    "mea.h(1)\n",
    "mea.cx(1, 0)\n",
    "\n",
    "mea.draw('mpl')"
   ]
  },
  {
   "cell_type": "code",
   "execution_count": 14,
   "id": "9d73aa28-497f-48ef-8c27-0aef6481832c",
   "metadata": {},
   "outputs": [
    {
     "data": {
      "image/png": "[encoded data removed]",
      "text/plain": [
       "<Figure size 1625.07x284.278 with 1 Axes>"
      ]
     },
     "execution_count": 14,
     "metadata": {},
     "output_type": "execute_result"
    }
   ],
   "source": [
    "qc = psi0\n",
    "qc.barrier()\n",
    "qc = qc.compose(ut)\n",
    "qc.barrier()\n",
    "qc = qc.compose(mea)\n",
    "\n",
    "cplot = qc.draw('mpl')\n",
    "cplot"
   ]
  },
  {
   "cell_type": "code",
   "execution_count": 89,
   "id": "e2d4d8b6-f1e3-497c-a69d-3ff487c1a15e",
   "metadata": {},
   "outputs": [],
   "source": [
    "cplot.savefig('circuit_XY.pdf')"
   ]
  },
  {
   "cell_type": "markdown",
   "id": "d210641f-a28a-4154-be0b-f23bc239c385",
   "metadata": {},
   "source": [
    "### Execute on simulator"
   ]
  },
  {
   "cell_type": "code",
   "execution_count": 112,
   "id": "0a4b45d8-b801-4bce-9746-865da87e8c57",
   "metadata": {},
   "outputs": [
    {
     "data": {
      "text/plain": [
       "[AerSimulator('aer_simulator'),\n",
       " AerSimulator('aer_simulator_statevector'),\n",
       " AerSimulator('aer_simulator_density_matrix'),\n",
       " AerSimulator('aer_simulator_stabilizer'),\n",
       " AerSimulator('aer_simulator_matrix_product_state'),\n",
       " AerSimulator('aer_simulator_extended_stabilizer'),\n",
       " AerSimulator('aer_simulator_unitary'),\n",
       " AerSimulator('aer_simulator_superop'),\n",
       " QasmSimulator('qasm_simulator'),\n",
       " StatevectorSimulator('statevector_simulator'),\n",
       " UnitarySimulator('unitary_simulator'),\n",
       " PulseSimulator('pulse_simulator')]"
      ]
     },
     "execution_count": 112,
     "metadata": {},
     "output_type": "execute_result"
    }
   ],
   "source": [
    "Aer.backends()"
   ]
  },
  {
   "cell_type": "code",
   "execution_count": 15,
   "id": "79f2f107-493a-410f-890f-bf61be0a2d67",
   "metadata": {},
   "outputs": [],
   "source": [
    "ss = 5120\n",
    "backend = Aer.get_backend('qasm_simulator')\n",
    "job_simulator = execute(qc, backend, shots=ss)\n",
    "result_simulator = job_simulator.result()"
   ]
  },
  {
   "cell_type": "code",
   "execution_count": 16,
   "id": "ed77ebac-778d-48a6-a1a5-e00d4aa26b5c",
   "metadata": {},
   "outputs": [
    {
     "name": "stdout",
     "output_type": "stream",
     "text": [
      "{'11': 126, '01': 4994}\n"
     ]
    }
   ],
   "source": [
    "counts = result_simulator.get_counts()\n",
    "print(counts)"
   ]
  },
  {
   "cell_type": "code",
   "execution_count": 126,
   "id": "846f96d1-743b-43b2-b1d2-92ce4df54f1c",
   "metadata": {},
   "outputs": [
    {
     "data": {
      "text/plain": [
       "(0.02447174185242318, 0.9755282581475768)"
      ]
     },
     "execution_count": 126,
     "metadata": {},
     "output_type": "execute_result"
    }
   ],
   "source": [
    "(1.0 - np.sin(2*t))/2.0, (1.0 + np.sin(2*t))/2.0"
   ]
  },
  {
   "cell_type": "code",
   "execution_count": 17,
   "id": "611e13c0-c879-4ec2-bb83-01a2abfca32a",
   "metadata": {},
   "outputs": [],
   "source": [
    "maps = {'00': r'$|\\phi^+\\rangle$', '01': r'$|\\psi^+\\rangle$', '10': r'$|\\phi^-\\rangle$', '11': r'$|\\psi^-\\rangle$'}"
   ]
  },
  {
   "cell_type": "code",
   "execution_count": 18,
   "id": "1cacb974-d422-403f-ad0f-b01577f2c1fb",
   "metadata": {},
   "outputs": [
    {
     "data": {
      "image/png": "[encoded data removed]",
      "text/plain": [
       "<Figure size 700x500 with 1 Axes>"
      ]
     },
     "execution_count": 18,
     "metadata": {},
     "output_type": "execute_result"
    }
   ],
   "source": [
    "results = {}\n",
    "for state in counts.keys():\n",
    "    results[maps[state]] = counts[state]/ss\n",
    "res = plot_histogram(results)\n",
    "res"
   ]
  },
  {
   "cell_type": "code",
   "execution_count": 154,
   "id": "fa063c73-ff02-4490-894d-9c2af645fefb",
   "metadata": {},
   "outputs": [],
   "source": [
    "res.savefig('results_XY_simulator.pdf')"
   ]
  },
  {
   "cell_type": "code",
   "execution_count": null,
   "id": "bff469f2-263b-4ff4-8bd2-afbfbf4d4187",
   "metadata": {},
   "outputs": [],
   "source": []
  }
 ],
 "metadata": {
  "kernelspec": {
   "display_name": "Python 3 (ipykernel)",
   "language": "python",
   "name": "python3"
  },
  "language_info": {
   "codemirror_mode": {
    "name": "ipython",
    "version": 3
   },
   "file_extension": ".py",
   "mimetype": "text/x-python",
   "name": "python",
   "nbconvert_exporter": "python",
   "pygments_lexer": "ipython3",
   "version": "3.12.2"
  }
 },
 "nbformat": 4,
 "nbformat_minor": 5
}
