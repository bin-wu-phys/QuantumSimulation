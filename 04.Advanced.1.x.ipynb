{
 "cells": [
  {
   "cell_type": "code",
   "execution_count": 1,
   "id": "a81e369c-70de-4c4c-8b30-fa3d36b4745f",
   "metadata": {},
   "outputs": [],
   "source": [
    "from qiskit import *\n",
    "from qiskit.visualization import *\n",
    "from qiskit.quantum_info import Operator\n",
    "import numpy as np\n",
    "import matplotlib.pyplot as plt"
   ]
  },
  {
   "cell_type": "markdown",
   "id": "878eb460-1863-4f76-927f-bd653183e8b7",
   "metadata": {},
   "source": [
    "# 4.1 LCU "
   ]
  },
  {
   "cell_type": "code",
   "execution_count": 19,
   "id": "b8a94bc7-ac80-40a3-9263-e2b4203d52c3",
   "metadata": {},
   "outputs": [],
   "source": [
    "def Ccirc():\n",
    "    C = QuantumCircuit(1, name='C')\n",
    "    return C.to_instruction()\n",
    "\n",
    "def Cdcirc():\n",
    "    Cd = QuantumCircuit(1, name='C†')\n",
    "    return Cd.to_instruction()\n",
    "\n",
    "def Bcirc():\n",
    "    b = QuantumCircuit(2, name='B')\n",
    "    return b.to_instruction()\n"
   ]
  },
  {
   "cell_type": "code",
   "execution_count": 30,
   "id": "04f5b8e4-aa4d-4cf2-8de7-08e02b2ba730",
   "metadata": {},
   "outputs": [
    {
     "data": {
      "image/png": "[encoded data removed]",
      "text/plain": [
       "<Figure size 788.199x284.278 with 1 Axes>"
      ]
     },
     "execution_count": 30,
     "metadata": {},
     "output_type": "execute_result"
    }
   ],
   "source": [
    "qubits, ancillas = QuantumRegister(1, 'n qubits in |ψ⟩'), QuantumRegister(1, 'ancillas in |0⟩')\n",
    "cbits = ClassicalRegister(1, 'classical bits')\n",
    "\n",
    "qc = QuantumCircuit(qubits, ancillas, cbits)\n",
    "qc.barrier()\n",
    "\n",
    "#apply C\n",
    "C_instr = Ccirc()\n",
    "qc.append(C_instr, [1])\n",
    "\n",
    "# apply B\n",
    "B_instr = Bcirc()\n",
    "qc.append(B_instr, [0, 1])\n",
    "\n",
    "#apply C^dagger\n",
    "Cd_instr = Cdcirc()\n",
    "qc.append(Cd_instr, [1])\n",
    "\n",
    "qc.barrier()\n",
    "\n",
    "# measure\n",
    "qc.measure(ancillas, cbits)\n",
    "\n",
    "lcu = qc.draw('mpl')\n",
    "lcu"
   ]
  },
  {
   "cell_type": "code",
   "execution_count": 31,
   "id": "a4763307-521f-42e5-86ac-29395f1b7c56",
   "metadata": {},
   "outputs": [],
   "source": [
    "lcu.savefig('lcu.pdf')"
   ]
  },
  {
   "cell_type": "markdown",
   "id": "fa25cc39-224d-442f-81ed-a056c398abce",
   "metadata": {},
   "source": [
    "# 4.3 Qubitization"
   ]
  },
  {
   "cell_type": "markdown",
   "id": "ef59294a-95d9-4487-b4ab-504cca2c087c",
   "metadata": {},
   "source": [
    "## For the plot"
   ]
  },
  {
   "cell_type": "code",
   "execution_count": 19,
   "id": "a71c9120-ede6-40cc-bf56-2a74364bd7dc",
   "metadata": {},
   "outputs": [],
   "source": [
    "def Acirc():\n",
    "    C = QuantumCircuit(1, name='A')\n",
    "    return C.to_instruction()\n",
    "\n",
    "def Adcirc():\n",
    "    Cd = QuantumCircuit(1, name='A†')\n",
    "    return Cd.to_instruction()\n"
   ]
  },
  {
   "cell_type": "code",
   "execution_count": 97,
   "id": "fe888d8e-6059-415a-b930-f81ca36ec3d4",
   "metadata": {},
   "outputs": [],
   "source": [
    "from qiskit.circuit import Gate, QuantumCircuit\n",
    "\n",
    "# Define a custom two-qubit gate\n",
    "class CTwoQubits(Gate):\n",
    "    def __init__(self, params):\n",
    "        super().__init__('W', 2, [params])  # Name, num_qubits, params\n",
    "    \n",
    "    def _define(self):\n",
    "        # Define the gate behavior using a QuantumCircuit\n",
    "        qc = QuantumCircuit(2)\n",
    "        print(self.params[0])\n",
    "        self.definition = qc\n",
    "\n",
    "# Define a custom two-qubit gate\n",
    "class ZCirc(Gate):\n",
    "    def __init__(self, params):\n",
    "        super().__init__('Z', 2, [params])  # Name, num_qubits, params\n",
    "    \n",
    "    def _define(self):\n",
    "        # Define the gate behavior using a QuantumCircuit\n",
    "        qc = QuantumCircuit(2)\n",
    "        #print(self.params[0])\n",
    "        self.definition = qc\n"
   ]
  },
  {
   "cell_type": "code",
   "execution_count": 95,
   "id": "b0cd9657-87d0-4981-a362-8d993a9520d1",
   "metadata": {},
   "outputs": [
    {
     "name": "stdout",
     "output_type": "stream",
     "text": [
      "0\n",
      "0\n"
     ]
    }
   ],
   "source": [
    "qubits, ancillas, ancilla = QuantumRegister(1, 'n qubits in |ψ⟩'), QuantumRegister(1, 'p ancillas in |0⟩'), QuantumRegister(1, 'ancilla in |0⟩')\n",
    "cbits = ClassicalRegister(2, 'classical bits')\n",
    "qc = QuantumCircuit(qubits, ancillas, ancilla, cbits)\n",
    "qc.barrier()\n",
    "\n",
    "\n",
    "#apply A\n",
    "theta = np.pi/2\n",
    "A_instr = Acirc()\n",
    "qc.append(A_instr, [1])\n",
    "qc.rx(-2*theta, -1)\n",
    "\n",
    "#apply Z\n",
    "#qc.x(-1)\n",
    "Z1_instr = ZCirc(0).control(num_ctrl_qubits=1)\n",
    "qc.append(Z1_instr, [2, 1, 0])  # Control: qubit 0, Targets: qubits 1 and 2\n",
    "#qc.x(-1)\n",
    "\n",
    "qc.append(Z1_instr, [2, 1, 0])  # Control: qubit 0, Targets: qubits 1 and 2\n",
    "\n",
    "#apply W\n",
    "W_instr = CTwoQubits(0).control(num_ctrl_qubits=1)\n",
    "qc.append(W_instr, [2, 1, 0])  # Control: qubit 0, Targets: qubits 1 and 2\n",
    "\n",
    "qc.append(Z1_instr, [2, 1, 0])  # Control: qubit 0, Targets: qubits 1 and 2\n",
    "\n",
    "#apply A^dagger\n",
    "Ad_instr = Adcirc()\n",
    "qc.append(Ad_instr, [1])\n",
    "qc.h(-1)\n",
    "\n",
    "qc.barrier()\n",
    "qc.measure(qc.qubits[1:], cbits)\n",
    "\n",
    "qubitization = qc.draw('mpl')"
   ]
  },
  {
   "cell_type": "code",
   "execution_count": 96,
   "id": "79e99122-3494-4f79-9ba7-0d4b273325ae",
   "metadata": {},
   "outputs": [],
   "source": [
    "qubitization.savefig('circuit_quibitization.pdf')"
   ]
  },
  {
   "cell_type": "markdown",
   "id": "3a41a1ea-b463-494e-b767-af5d65750cbd",
   "metadata": {},
   "source": [
    "## Example 4.2"
   ]
  },
  {
   "cell_type": "code",
   "execution_count": 2,
   "id": "6413a4de-d4f1-4e97-96f1-23df089d3b57",
   "metadata": {},
   "outputs": [],
   "source": [
    "from qiskit import *\n",
    "from qiskit.circuit import Gate, QuantumCircuit\n",
    "# Define a custom two-qubit gate\n",
    "class Wcirc(Gate):\n",
    "    \"\"\"\n",
    "    Define W\n",
    "    \"\"\"\n",
    "    def __init__(self, params):\n",
    "        super().__init__('W', 2, [params])  # Name, num_qubits, params\n",
    "    \n",
    "    def _define(self):\n",
    "        # Define the gate behavior using a QuantumCircuit\n",
    "        qubits, ancillas =  QuantumRegister(1, 'physical'), QuantumRegister(1, 'p ancillas')\n",
    "        qc = QuantumCircuit(qubits, ancillas)\n",
    "        qc.cz(1,0)\n",
    "        qc.x(1)\n",
    "        qc.cx(1,0)\n",
    "        #qc.x(1)\n",
    "        #qc.x(1)\n",
    "        self.definition = qc\n",
    "    def display(self):\n",
    "        display(self.definition.draw('mpl'))\n",
    "    def matrix(self):\n",
    "        return Operator(self.definition).data\n",
    "\n",
    "class Zcirc(Gate):\n",
    "    \"\"\"\n",
    "    Define W\n",
    "    \"\"\"\n",
    "    def __init__(self, phi):\n",
    "        super().__init__('Z', 1, [phi])  # Name, num_qubits, params\n",
    "    \n",
    "    def _define(self):\n",
    "        # Define the gate behavior using a QuantumCircuit\n",
    "        ancillas =  QuantumRegister(1, 'p ancillas')\n",
    "        qc = QuantumCircuit(ancillas)\n",
    "        qc.rx(-2.0*self.params[0], ancillas)\n",
    "        self.definition = qc\n",
    "    def display(self):\n",
    "        display(self.definition.draw('mpl'))\n",
    "    def matrix(self):\n",
    "        return Operator(self.definition).data"
   ]
  },
  {
   "cell_type": "code",
   "execution_count": 3,
   "id": "7b355b3a-dda3-4f34-b224-8ddaf919dbd8",
   "metadata": {},
   "outputs": [
    {
     "data": {
      "image/png": "[encoded data removed]",
      "text/plain": [
       "<Figure size 471.453x200.667 with 1 Axes>"
      ]
     },
     "metadata": {},
     "output_type": "display_data"
    }
   ],
   "source": [
    "w1 = Wcirc(0)\n",
    "w1.display()"
   ]
  },
  {
   "cell_type": "code",
   "execution_count": 5,
   "id": "21b42724-ba18-47ce-969d-56dc048cab4b",
   "metadata": {},
   "outputs": [],
   "source": [
    "wana = np.kron(np.kron([[0],[1]],[1,0]), [[0,1],[1,0]]) + np.kron(np.kron([[1],[0]],[0,1]), [[1,0],[0,-1]])"
   ]
  },
  {
   "cell_type": "code",
   "execution_count": 6,
   "id": "d5c8e092-d4cb-4190-ac95-e9081b89489b",
   "metadata": {},
   "outputs": [
    {
     "data": {
      "text/plain": [
       "array([[0.+0.j, 0.+0.j, 0.+0.j, 0.+0.j],\n",
       "       [0.+0.j, 0.+0.j, 0.+0.j, 0.+0.j],\n",
       "       [0.+0.j, 0.+0.j, 0.+0.j, 0.+0.j],\n",
       "       [0.+0.j, 0.+0.j, 0.+0.j, 0.+0.j]])"
      ]
     },
     "execution_count": 6,
     "metadata": {},
     "output_type": "execute_result"
    }
   ],
   "source": [
    "w1.matrix() - wana"
   ]
  },
  {
   "cell_type": "markdown",
   "id": "8346a09e-f8a4-4391-8509-580637a5282f",
   "metadata": {},
   "source": [
    "checked!"
   ]
  },
  {
   "cell_type": "code",
   "execution_count": 7,
   "id": "8291fed4-5978-4030-ba7f-51eea878e4d7",
   "metadata": {},
   "outputs": [
    {
     "data": {
      "image/png": "[encoded data removed]",
      "text/plain": [
       "<Figure size 304.23x117.056 with 1 Axes>"
      ]
     },
     "metadata": {},
     "output_type": "display_data"
    }
   ],
   "source": [
    "Z1 = Zcirc(np.pi)\n",
    "Z1.display()"
   ]
  },
  {
   "cell_type": "code",
   "execution_count": 6,
   "id": "e8da7e1a-900c-477d-b30b-9653568240ff",
   "metadata": {},
   "outputs": [],
   "source": [
    "from scipy.special import j0, j1"
   ]
  },
  {
   "cell_type": "code",
   "execution_count": 7,
   "id": "44106a79-f423-47d4-8079-280cd1472485",
   "metadata": {},
   "outputs": [
    {
     "name": "stdout",
     "output_type": "stream",
     "text": [
      "0.8895815668785646 -0.5444627616584597\n"
     ]
    },
    {
     "data": {
      "text/plain": [
       "(1.0964282939088736, 3.141592653589793)"
      ]
     },
     "execution_count": 7,
     "metadata": {},
     "output_type": "execute_result"
    }
   ],
   "source": [
    "t = np.sqrt(2)\n",
    "\n",
    "norm = np.sqrt(j0(t)*j0(t) + 4.0*j1(t)*j1(t))\n",
    "\n",
    "theta = np.arccos(j0(t)/norm)\n",
    "chi1 = 0.0\n",
    "if j1(t)!=0.0:\n",
    "    print(np.sin(theta), -j1(t))\n",
    "    chi1 = 0.5*np.pi*( np.sign(np.sin(theta)) + np.sign(j1(t)))\n",
    "theta, chi1"
   ]
  },
  {
   "cell_type": "code",
   "execution_count": 10,
   "id": "aabdd7db-f297-4e0a-b29a-d4dc4fdb2292",
   "metadata": {},
   "outputs": [
    {
     "data": {
      "image/png": "[encoded data removed]",
      "text/plain": [
       "<Figure size 304.23x284.278 with 1 Axes>"
      ]
     },
     "execution_count": 10,
     "metadata": {},
     "output_type": "execute_result"
    }
   ],
   "source": [
    "qubits, ancillas, ancilla = QuantumRegister(1, 'physical'), QuantumRegister(1, 'p ancillas'), QuantumRegister(1, 'ancilla')\n",
    "\n",
    "Q1 = QuantumCircuit(qubits, ancillas, ancilla)\n",
    "\n",
    "#Q1.rx(-2.0*theta, ancilla)\n",
    "#Q1.h(ancillas)\n",
    "\n",
    "# apply CW\n",
    "CW = Wcirc(0).control(num_ctrl_qubits=1)\n",
    "Q1.append(CW, [ancilla, qubits, ancillas])  # Control: qubit 0, Targets: qubits 1 and 2\n",
    "\n",
    "Q1.draw('mpl')"
   ]
  },
  {
   "cell_type": "code",
   "execution_count": 11,
   "id": "c73a0cb8-67d7-43aa-8610-e39849e3a3ca",
   "metadata": {},
   "outputs": [
    {
     "data": {
      "text/plain": [
       "array([[ True,  True,  True,  True,  True,  True,  True,  True],\n",
       "       [ True,  True,  True,  True,  True,  True,  True,  True],\n",
       "       [ True,  True,  True,  True,  True,  True,  True,  True],\n",
       "       [ True,  True,  True,  True,  True,  True,  True,  True],\n",
       "       [ True,  True,  True,  True,  True,  True,  True,  True],\n",
       "       [ True,  True,  True,  True,  True,  True,  True,  True],\n",
       "       [ True,  True,  True,  True,  True,  True,  True,  True],\n",
       "       [ True,  True,  True,  True,  True,  True,  True,  True]])"
      ]
     },
     "execution_count": 11,
     "metadata": {},
     "output_type": "execute_result"
    }
   ],
   "source": [
    "np.abs(Operator(Q1) - (np.kron([[1, 0],[0,0]], np.identity(4)) + np.kron([[0, 0],[0,1]], wana)))<1e-15"
   ]
  },
  {
   "cell_type": "code",
   "execution_count": 13,
   "id": "bf9a68ed-6c5f-4357-abbd-eba5f0ca5b10",
   "metadata": {},
   "outputs": [
    {
     "data": {
      "image/png": "[encoded data removed]",
      "text/plain": [
       "<Figure size 638.675x284.278 with 1 Axes>"
      ]
     },
     "execution_count": 13,
     "metadata": {},
     "output_type": "execute_result"
    }
   ],
   "source": [
    "qubits, ancillas, ancilla = QuantumRegister(1, 'physical'), QuantumRegister(1, 'p ancillas'), QuantumRegister(1, 'ancilla')\n",
    "\n",
    "Q1 = QuantumCircuit(qubits, ancillas, ancilla)\n",
    "\n",
    "Q1.barrier()\n",
    "\n",
    "Q1.rx(-2.0*theta, ancilla)\n",
    "Q1.h(ancillas)\n",
    "\n",
    "# apply CW\n",
    "CW = Wcirc(0).control(num_ctrl_qubits=1)\n",
    "Q1.append(CW, [ancilla, qubits, ancillas])  # Control: qubit 0, Targets: qubits 1 and 2\n",
    "\n",
    "# apply Z\n",
    "CZ = Zcirc(chi1).control(num_ctrl_qubits=1)\n",
    "Q1.append(CZ, [ancilla, ancillas])  # Control: qubit 0, Target: qubit 1\n",
    "\n",
    "# apply H \\ometa A\n",
    "Q1.h(ancilla)\n",
    "Q1.h(ancillas)\n",
    "\n",
    "Q1.draw('mpl')"
   ]
  },
  {
   "cell_type": "code",
   "execution_count": 14,
   "id": "17c29a57-8239-4f65-9df4-2b801c9f592b",
   "metadata": {},
   "outputs": [
    {
     "data": {
      "image/png": "[encoded data removed]",
      "text/plain": [
       "<Figure size 518.519x367.889 with 1 Axes>"
      ]
     },
     "execution_count": 14,
     "metadata": {},
     "output_type": "execute_result"
    }
   ],
   "source": [
    "# measurements\n",
    "\n",
    "qubits, ancillas, ancilla = QuantumRegister(1, 'physical'), QuantumRegister(1, 'p ancillas'), QuantumRegister(1, 'ancilla')\n",
    "cbits = ClassicalRegister(3, 'classical bits')\n",
    "\n",
    "mea = QuantumCircuit(qubits, ancillas, ancilla, cbits)\n",
    "mea.measure(mea.qubits, cbits)\n",
    "\n",
    "mea.draw('mpl')"
   ]
  },
  {
   "cell_type": "code",
   "execution_count": 15,
   "id": "1ab67997-c595-466a-b3de-7b3270777505",
   "metadata": {},
   "outputs": [
    {
     "data": {
      "image/png": "[encoded data removed]",
      "text/plain": [
       "<Figure size 1020.19x367.889 with 1 Axes>"
      ]
     },
     "execution_count": 15,
     "metadata": {},
     "output_type": "execute_result"
    }
   ],
   "source": [
    "Q1.barrier()\n",
    "\n",
    "Q1 &= mea\n",
    "\n",
    "Q1plot = Q1.draw('mpl')\n",
    "Q1plot"
   ]
  },
  {
   "cell_type": "code",
   "execution_count": 16,
   "id": "814f230d-7813-4c3c-81f4-2587b484f014",
   "metadata": {},
   "outputs": [],
   "source": [
    "Q1plot.savefig('circuit_qubitizationr1.pdf')"
   ]
  },
  {
   "cell_type": "markdown",
   "id": "8fd8d95b-dc7b-46d0-a1f0-f911871d66c0",
   "metadata": {},
   "source": [
    "## Results"
   ]
  },
  {
   "cell_type": "code",
   "execution_count": 214,
   "id": "c0ee81a5-2bf0-4df7-b26e-573ac42efdac",
   "metadata": {},
   "outputs": [],
   "source": [
    "from qiskit import *\n",
    "from qiskit.visualization import *\n",
    "from qiskit.quantum_info import Operator\n",
    "import numpy as np\n",
    "from qiskit.providers.basic_provider import BasicSimulator"
   ]
  },
  {
   "cell_type": "code",
   "execution_count": 82,
   "id": "d0ab5704-4d64-4d55-92ec-df3a7c0d318f",
   "metadata": {},
   "outputs": [],
   "source": [
    "def run(t, sshots):\n",
    "    #scale t\n",
    "    t = np.sqrt(2.0)*t # to be consistent with Example 4.1\n",
    "    norm = np.sqrt(j0(t)*j0(t) + 4.0*j1(t)*j1(t))\n",
    "\n",
    "    theta = np.arccos(j0(t)/norm)\n",
    "    chi1 = 0.0\n",
    "    if j1(t)!=0.0:\n",
    "        chi1 = 0.5*np.pi*( np.sign(np.sin(theta)) + np.sign(j1(t)))\n",
    "\n",
    "    # Circuit\n",
    "    qubits, ancillas, ancilla = QuantumRegister(1, 'physical'), QuantumRegister(1, 'p ancillas'), QuantumRegister(1, 'ancilla')\n",
    "    Q1 = QuantumCircuit(qubits, ancillas, ancilla)\n",
    "    # 1. the initial state |000>\n",
    "    Q1.barrier()\n",
    "\n",
    "    # qubitization circuit\n",
    "    Q1.rx(-2.0*theta, ancilla)\n",
    "    Q1.h(ancillas)\n",
    "\n",
    "    # apply CW\n",
    "    CW = Wcirc(0).control(num_ctrl_qubits=1)\n",
    "    Q1.append(CW, [ancilla, qubits, ancillas])  # Control: qubit 0, Targets: qubits 1 and 2\n",
    "\n",
    "    # apply Z\n",
    "    CZ = Zcirc(chi1).control(num_ctrl_qubits=1)\n",
    "    Q1.append(CZ, [ancilla, ancillas])  # Control: qubit 0, Target: qubit 1\n",
    "\n",
    "    # apply H \\ometa A\n",
    "    Q1.h(ancilla)\n",
    "    Q1.h(ancillas)\n",
    "\n",
    "    # measurement\n",
    "    cbits = ClassicalRegister(3, 'classical bits')\n",
    "\n",
    "    mea = QuantumCircuit(qubits, ancillas, ancilla, cbits)\n",
    "    mea.measure(mea.qubits, cbits)\n",
    "\n",
    "    Q1.barrier()\n",
    "    Q1 &= mea\n",
    "    #print('t = {t}')\n",
    "    #display(psi.draw('mpl'))\n",
    "\n",
    "    # run\n",
    "    backend = Aer.get_backend('qasm_simulator')\n",
    "    job_simulator = execute(Q1, backend, shots=sshots)\n",
    "    result_simulator = job_simulator.result()\n",
    "\n",
    "    # result analyze\n",
    "    counts = result_simulator.get_counts()\n",
    "    final = np.array([[int(k), counts[k]] for k in counts.keys() if k[:2]=='00'])\n",
    "\n",
    "    res = final[:, 1]/final[:, 1].sum()\n",
    "    p1 = 0.0\n",
    "    for k in range(len(res)):\n",
    "        if final[k, 0]==1:\n",
    "            p1 = res[k]    \n",
    "    return p1"
   ]
  },
  {
   "cell_type": "code",
   "execution_count": 17,
   "id": "78ef868c-3b29-4a6a-9e91-d297e417e698",
   "metadata": {},
   "outputs": [],
   "source": [
    "# sshots = 5120\n",
    "# backend = BasicSimulator()\n",
    "# job_simulator = backend.run(Q1, shots=sshots)\n",
    "# result_simulator = job_simulator.result()\n",
    "# result_simulator.get_counts() \n",
    "# there is some error in qiskit 1.3"
   ]
  },
  {
   "cell_type": "code",
   "execution_count": 89,
   "id": "538e84e2-d343-4ea3-9393-98fc80a7fa97",
   "metadata": {},
   "outputs": [],
   "source": [
    "ss = 51200\n",
    "backend = Aer.get_backend('qasm_simulator')\n",
    "job_simulator = execute(Q1, backend, shots=ss)\n",
    "result_simulator = job_simulator.result()"
   ]
  },
  {
   "cell_type": "code",
   "execution_count": 46,
   "id": "1c716b6e-8581-45e4-ac02-e9505fac3a98",
   "metadata": {},
   "outputs": [
    {
     "name": "stdout",
     "output_type": "stream",
     "text": [
      "{'001': 518, '010': 494, '000': 1095, '111': 486, '011': 452, '110': 501, '100': 1082, '101': 492}\n"
     ]
    }
   ],
   "source": [
    "counts = result_simulator.get_counts()\n",
    "print(counts)"
   ]
  },
  {
   "cell_type": "code",
   "execution_count": 47,
   "id": "2af40d2d-fa4e-4791-ac94-e44923f16516",
   "metadata": {},
   "outputs": [
    {
     "data": {
      "text/plain": [
       "array([[   1,  518],\n",
       "       [   0, 1095]])"
      ]
     },
     "execution_count": 47,
     "metadata": {},
     "output_type": "execute_result"
    }
   ],
   "source": [
    "final = np.array([[int(k), counts[k]] for k in counts.keys() if k[:2]=='00'])\n",
    "final"
   ]
  },
  {
   "cell_type": "code",
   "execution_count": 48,
   "id": "1c999326-463f-4fd2-971d-53a1c4580702",
   "metadata": {},
   "outputs": [
    {
     "data": {
      "text/plain": [
       "array([0.32114073, 0.67885927])"
      ]
     },
     "execution_count": 48,
     "metadata": {},
     "output_type": "execute_result"
    }
   ],
   "source": [
    "final[:, 1]/final[:, 1].sum()"
   ]
  },
  {
   "cell_type": "code",
   "execution_count": 36,
   "id": "aeb8dcf1-792a-4fac-8e0a-915cc67ca628",
   "metadata": {},
   "outputs": [
    {
     "data": {
      "text/plain": [
       "0.35355339059327373"
      ]
     },
     "execution_count": 36,
     "metadata": {},
     "output_type": "execute_result"
    }
   ],
   "source": [
    "t/np.sqrt(2)"
   ]
  },
  {
   "cell_type": "code",
   "execution_count": 92,
   "id": "921bdd3f-99c2-43f1-a3d1-4cf81fbc388f",
   "metadata": {},
   "outputs": [],
   "source": [
    "final = np.array([[t, run(t, ss)] for t in np.linspace(0, 2.0, 100)])"
   ]
  },
  {
   "cell_type": "code",
   "execution_count": 93,
   "id": "5de20e97-5733-454c-a01e-30c8d89e66f8",
   "metadata": {},
   "outputs": [
    {
     "data": {
      "text/plain": [
       "[<matplotlib.lines.Line2D at 0x7004152587f0>]"
      ]
     },
     "execution_count": 93,
     "metadata": {},
     "output_type": "execute_result"
    },
    {
     "data": {
      "image/png": "[encoded data removed]",
      "text/plain": [
       "<Figure size 640x480 with 1 Axes>"
      ]
     },
     "metadata": {},
     "output_type": "display_data"
    }
   ],
   "source": [
    "plt.plot(final[:,0], final[:,1])"
   ]
  },
  {
   "cell_type": "code",
   "execution_count": null,
   "id": "eb45d81a-f10d-430c-a23d-bce4f5f16a03",
   "metadata": {},
   "outputs": [],
   "source": []
  }
 ],
 "metadata": {
  "kernelspec": {
   "display_name": "Python 3 (ipykernel)",
   "language": "python",
   "name": "python3"
  },
  "language_info": {
   "codemirror_mode": {
    "name": "ipython",
    "version": 3
   },
   "file_extension": ".py",
   "mimetype": "text/x-python",
   "name": "python",
   "nbconvert_exporter": "python",
   "pygments_lexer": "ipython3",
   "version": "3.12.2"
  }
 },
 "nbformat": 4,
 "nbformat_minor": 5
}
